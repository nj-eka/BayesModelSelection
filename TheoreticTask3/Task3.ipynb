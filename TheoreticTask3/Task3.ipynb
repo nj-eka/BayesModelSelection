{
 "cells": [
  {
   "cell_type": "code",
   "execution_count": 1,
   "metadata": {},
   "outputs": [],
   "source": [
    "import numpy as np\n",
    "import matplotlib.pyplot as plt\n",
    "\n",
    "from tqdm import tqdm\n",
    "\n",
    "import seaborn as sns\n",
    "\n",
    "import scipy.optimize as optim"
   ]
  },
  {
   "cell_type": "markdown",
   "metadata": {},
   "source": [
    "# Задача 1"
   ]
  },
  {
   "cell_type": "code",
   "execution_count": 2,
   "metadata": {},
   "outputs": [],
   "source": [
    "np.random.seed(0)"
   ]
  },
  {
   "cell_type": "code",
   "execution_count": 3,
   "metadata": {},
   "outputs": [],
   "source": [
    "N = 50000\n",
    "\n",
    "sigma = 1\n",
    "n = 50\n",
    "A = np.eye(n)\n",
    "\n",
    "m1 = 1000\n",
    "m2 = 1000\n",
    "\n",
    "sigma_s = 0.2"
   ]
  },
  {
   "cell_type": "code",
   "execution_count": 4,
   "metadata": {},
   "outputs": [],
   "source": [
    "def L(w, X, y, A):\n",
    "    one = np.ones(shape = X.shape[0])\n",
    "    return np.reshape(np.reshape((1-y), [1,-1])@X@np.reshape(w, [-1,1]) + \\\n",
    "           np.reshape(one, [1,-1])@np.log(1+np.exp(-X@np.reshape(w, [-1,1])))+\\\n",
    "           0.5*np.reshape(w, [1,-1])@np.linalg.inv(A)@np.reshape(w, [-1,1]), -1)/X.shape[0]\n",
    "\n",
    "def Count_H(A, X, w, m1):\n",
    "    H = np.linalg.inv(A)\n",
    "    \n",
    "    for i in range(m1):\n",
    "        H += (np.reshape(X[i], [-1,1])@np.reshape(X[i], [1,-1]))*(np.exp(-np.sum(X[i]*w))/(1.0 + np.exp(-np.sum(X[i]*w)))) -\\\n",
    "             (np.reshape(X[i], [-1,1])@np.reshape(X[i], [1,-1]))*(np.exp(-2*np.sum(X[i]*w))/((1.0 + np.exp(-np.sum(X[i]*w)))**2))\n",
    "             \n",
    "\n",
    "    return np.linalg.inv(H)\n",
    "\n",
    "def Acc(p, y):\n",
    "    y_new = np.round(p)\n",
    "    return np.sum(y_new==y)/np.size(y)\n",
    "\n",
    "def Conf(p, y):\n",
    "    return (np.sum(np.abs(p - 0.5)))/np.size(y)\n",
    "\n",
    "def Like(p, y):\n",
    "    return np.exp(np.sum(y*np.log(p)) + np.sum((1-y)*np.log(1-p)))"
   ]
  },
  {
   "cell_type": "code",
   "execution_count": 5,
   "metadata": {},
   "outputs": [],
   "source": [
    "w = np.random.multivariate_normal(np.zeros(n), A)\n",
    "\n",
    "X_test = np.random.multivariate_normal(np.zeros(n), sigma**2 * np.eye(n), size = m2)\n",
    "p_test = np.reshape(1.0/(1.0 + np.exp(-X_test@np.reshape(w, [-1,1]))), -1)\n",
    "\n",
    "y_test = []\n",
    "for _p in p_test:\n",
    "    y_test.append(np.random.choice([1,0], p=[_p, 1-_p]))\n",
    "y_test = np.array(y_test)"
   ]
  },
  {
   "cell_type": "code",
   "execution_count": 6,
   "metadata": {},
   "outputs": [
    {
     "name": "stderr",
     "output_type": "stream",
     "text": [
      "100%|██████████| 100/100 [09:01<00:00,  8.91s/it]\n"
     ]
    }
   ],
   "source": [
    "List_of_m1 = np.linspace(10, 5000, num = 100, dtype=np.int64)\n",
    "\n",
    "List_of_acc_map_test = []\n",
    "List_of_conf_map_test = []\n",
    "List_of_like_map_test = []\n",
    "\n",
    "List_of_acc_bayes_test = []\n",
    "List_of_conf_bayes_test = []\n",
    "List_of_like_bayes_test = []\n",
    "\n",
    "List_of_acc_map_train = []\n",
    "List_of_conf_map_train = []\n",
    "List_of_like_map_train = []\n",
    "\n",
    "List_of_acc_bayes_train = []\n",
    "List_of_conf_bayes_train = []\n",
    "List_of_like_bayes_train = []\n",
    "\n",
    "for m1 in tqdm(List_of_m1):\n",
    "    X_train = np.random.multivariate_normal(np.zeros(n), sigma**2 * np.eye(n), size = m1)\n",
    "    p_train = np.reshape(1.0/(1.0 + np.exp(-X_train@np.reshape(w, [-1,1]))), -1)\n",
    "    \n",
    "    y_train = []\n",
    "    for _p in p_train:\n",
    "        y_train.append(np.random.choice([1,0], p=[_p, 1-_p]))\n",
    "    y_train = np.array(y_train)\n",
    "    \n",
    "    \n",
    "    \n",
    "    w_map = optim.minimize(lambda x: L(x, X_train, y_train, A), w, method='BFGS')['x']\n",
    "\n",
    "    pr_map_y_train = np.reshape(1.0/(1.0 + np.exp(-X_train@np.reshape(w_map, [-1,1]))), -1)\n",
    "    pr_map_y_test = np.reshape(1.0/(1.0 + np.exp(-X_test@np.reshape(w_map, [-1,1]))), -1)\n",
    "\n",
    "    \n",
    "    H = Count_H(A, X_train, w_map, m1)\n",
    "    \n",
    "    W_sampling = np.random.multivariate_normal(mean = w_map, cov = H, size = N)\n",
    "\n",
    "    P = 1.0/(1.0+np.exp(-X_train@W_sampling.T))\n",
    "    pr_bayes_y_train = np.mean(P, axis=1)\n",
    "\n",
    "    P = 1.0/(1.0+np.exp(-X_test@W_sampling.T))\n",
    "    pr_bayes_y_test = np.mean(P, axis=1)\n",
    "\n",
    "    List_of_acc_map_test.append(Acc(pr_map_y_test, y_test))\n",
    "    List_of_conf_map_test.append(Conf(pr_map_y_test, y_test))\n",
    "    List_of_like_map_test.append(Like(pr_map_y_test, y_test))\n",
    "    \n",
    "    List_of_acc_bayes_test.append(Acc(pr_bayes_y_test, y_test))\n",
    "    List_of_conf_bayes_test.append(Conf(pr_bayes_y_test, y_test))\n",
    "    List_of_like_bayes_test.append(Like(pr_bayes_y_test, y_test))\n",
    "\n",
    "    List_of_acc_map_train.append(Acc(pr_map_y_train, y_train))\n",
    "    List_of_conf_map_train.append(Conf(pr_map_y_train, y_train))\n",
    "    List_of_like_map_train.append(Like(pr_map_y_train, y_train))\n",
    "    \n",
    "    List_of_acc_bayes_train.append(Acc(pr_bayes_y_train, y_train))\n",
    "    List_of_conf_bayes_train.append(Conf(pr_bayes_y_train, y_train))\n",
    "    List_of_like_bayes_train.append(Like(pr_bayes_y_train, y_train))\n"
   ]
  },
  {
   "cell_type": "code",
   "execution_count": 7,
   "metadata": {},
   "outputs": [
    {
     "data": {
      "image/png": "[encoded data removed]",
      "text/plain": [
       "<matplotlib.figure.Figure at 0x113d64c50>"
      ]
     },
     "metadata": {},
     "output_type": "display_data"
    }
   ],
   "source": [
    "plt.plot(List_of_m1, List_of_acc_map_test, label = 'map')\n",
    "plt.plot(List_of_m1, List_of_acc_bayes_test, label = 'bayes')\n",
    "\n",
    "plt.legend(loc = 'best')\n",
    "plt.grid()\n",
    "plt.show()"
   ]
  },
  {
   "cell_type": "code",
   "execution_count": 8,
   "metadata": {},
   "outputs": [
    {
     "data": {
      "image/png": "[encoded data removed]",
      "text/plain": [
       "<matplotlib.figure.Figure at 0x1059e5128>"
      ]
     },
     "metadata": {},
     "output_type": "display_data"
    }
   ],
   "source": [
    "plt.plot(List_of_m1, List_of_conf_map_test, label = 'map')\n",
    "plt.plot(List_of_m1, List_of_conf_bayes_test, label = 'bayes')\n",
    "\n",
    "plt.xlabel('m1')\n",
    "plt.ylabel('увереность')\n",
    "\n",
    "plt.legend(loc = 'best')\n",
    "plt.grid()\n",
    "plt.savefig('Task1_1.pdf')\n",
    "plt.show()"
   ]
  },
  {
   "cell_type": "code",
   "execution_count": 9,
   "metadata": {},
   "outputs": [
    {
     "data": {
      "image/png": "[encoded data removed]",
      "text/plain": [
       "<matplotlib.figure.Figure at 0x107db5b38>"
      ]
     },
     "metadata": {},
     "output_type": "display_data"
    }
   ],
   "source": [
    "plt.plot(List_of_m1, np.log(List_of_like_map_test), label = 'map')\n",
    "plt.plot(List_of_m1, np.log(List_of_like_bayes_test), label = 'bayes')\n",
    "\n",
    "plt.xlabel('m1')\n",
    "plt.ylabel('log(правдоподобия)')\n",
    "\n",
    "plt.legend(loc = 'best')\n",
    "plt.grid()\n",
    "plt.savefig('Task1_2.pdf')\n",
    "plt.show()"
   ]
  },
  {
   "cell_type": "code",
   "execution_count": 15,
   "metadata": {},
   "outputs": [
    {
     "data": {
      "image/png": "[encoded data removed]",
      "text/plain": [
       "<matplotlib.figure.Figure at 0x135835390>"
      ]
     },
     "metadata": {},
     "output_type": "display_data"
    }
   ],
   "source": [
    "m1 = 100\n",
    "X_train = np.random.multivariate_normal(np.zeros(n), sigma**2 * np.eye(n), size = m1)\n",
    "p_train = np.reshape(1.0/(1.0 + np.exp(-X_train@np.reshape(w, [-1,1]))), -1)\n",
    "                 \n",
    "y_train = []\n",
    "for _p in p_train:\n",
    "    y_train.append(np.random.choice([1,0], p=[_p, 1-_p]))\n",
    "y_train = np.array(y_train)\n",
    "\n",
    "w_map = optim.minimize(lambda x: L(x, X_train, y_train, A), w, method='BFGS')['x']\n",
    "\n",
    "H = Count_H(A, X_train, w_map, m1)\n",
    "\n",
    "W_sampling = np.random.multivariate_normal(mean = w_map, cov = H, size = N)\n",
    "\n",
    "ax = plt.subplot() \n",
    "sns.distplot(W_sampling[:,0], kde=False, ax = ax, color = 'b')\n",
    "_ = ax.set(title='Histogram of observed data', xlabel='first component of vector w', ylabel='# observations');\n",
    "\n",
    "plt.savefig('Task1_3.pdf')\n",
    "plt.show()"
   ]
  },
  {
   "cell_type": "code",
   "execution_count": 14,
   "metadata": {},
   "outputs": [
    {
     "data": {
      "image/png": "[encoded data removed]",
      "text/plain": [
       "<matplotlib.figure.Figure at 0x10f7fc518>"
      ]
     },
     "metadata": {},
     "output_type": "display_data"
    }
   ],
   "source": [
    "m1 = 5000\n",
    "X_train = np.random.multivariate_normal(np.zeros(n), sigma**2 * np.eye(n), size = m1)\n",
    "p_train = np.reshape(1.0/(1.0 + np.exp(-X_train@np.reshape(w, [-1,1]))), -1)\n",
    "                 \n",
    "y_train = []\n",
    "for _p in p_train:\n",
    "    y_train.append(np.random.choice([1,0], p=[_p, 1-_p]))\n",
    "y_train = np.array(y_train)\n",
    "w_map = optim.minimize(lambda x: L(x, X_train, y_train, A), w, method='BFGS')['x']\n",
    "\n",
    "H = Count_H(A, X_train, w_map, m1)\n",
    "\n",
    "W_sampling = np.random.multivariate_normal(mean = w_map, cov = H, size = N)\n",
    "\n",
    "ax = plt.subplot() \n",
    "sns.distplot(W_sampling[:,0], kde=False, ax = ax, color = 'b')\n",
    "_ = ax.set(title='Histogram of observed data', xlabel='first component of vector w', ylabel='# observations');\n",
    "\n",
    "plt.savefig('Task1_4.pdf')\n",
    "plt.show()"
   ]
  },
  {
   "cell_type": "markdown",
   "metadata": {},
   "source": [
    "# Задача 2"
   ]
  },
  {
   "cell_type": "markdown",
   "metadata": {},
   "source": [
    "# Задача 3"
   ]
  },
  {
   "cell_type": "code",
   "execution_count": 2,
   "metadata": {},
   "outputs": [],
   "source": [
    "from sympy import solve"
   ]
  },
  {
   "cell_type": "code",
   "execution_count": 3,
   "metadata": {},
   "outputs": [],
   "source": [
    "from sympy.abc import x"
   ]
  },
  {
   "cell_type": "code",
   "execution_count": 4,
   "metadata": {},
   "outputs": [],
   "source": [
    "a = 0\n",
    "b = 3"
   ]
  },
  {
   "cell_type": "code",
   "execution_count": 26,
   "metadata": {},
   "outputs": [],
   "source": [
    "n = 10000\n",
    "k = 3000\n",
    "sigmas = np.linspace(a, b, 101)\n",
    "\n",
    "List_Of_P_1 = []\n",
    "for sigma in sigmas:\n",
    "    List_Of_P_1.append(np.abs(solve(x**3-1.5*(x**2)+x*(0.5-n*(sigma**2))+k*(sigma)**2))[1])"
   ]
  },
  {
   "cell_type": "code",
   "execution_count": 27,
   "metadata": {},
   "outputs": [],
   "source": [
    "n = 10000\n",
    "k = 5050\n",
    "sigmas = np.linspace(a, b, 101)\n",
    "\n",
    "List_Of_P_2 = []\n",
    "for sigma in sigmas:\n",
    "    List_Of_P_2.append(np.abs(solve(x**3-1.5*(x**2)+x*(0.5-n*(sigma**2))+k*(sigma)**2))[1])"
   ]
  },
  {
   "cell_type": "code",
   "execution_count": 28,
   "metadata": {},
   "outputs": [
    {
     "data": {
      "image/png": "[encoded data removed]",
      "text/plain": [
       "<matplotlib.figure.Figure at 0x11f5fc2e8>"
      ]
     },
     "metadata": {},
     "output_type": "display_data"
    }
   ],
   "source": [
    "plt.plot(sigmas, List_Of_P_1, label = 'n=100, k=30')\n",
    "plt.plot(sigmas, List_Of_P_2, label = 'n=10000, k=5050')\n",
    "plt.xlabel('sigma')\n",
    "plt.ylabel('p')\n",
    "\n",
    "plt.legend(loc = 'best')\n",
    "plt.grid()\n",
    "plt.savefig('Task3_1_100.pdf')\n",
    "plt.show()"
   ]
  },
  {
   "cell_type": "code",
   "execution_count": 29,
   "metadata": {},
   "outputs": [
    {
     "data": {
      "text/plain": [
       "x**3 - 1.5*x**2 - 89999.5*x + 45450.0"
      ]
     },
     "execution_count": 29,
     "metadata": {},
     "output_type": "execute_result"
    }
   ],
   "source": [
    "x**3-1.5*(x**2)+x*(0.5-n*(sigma**2))+k*(sigma)**2"
   ]
  },
  {
   "cell_type": "code",
   "execution_count": 30,
   "metadata": {},
   "outputs": [],
   "source": [
    "from scipy import integrate"
   ]
  },
  {
   "cell_type": "code",
   "execution_count": 31,
   "metadata": {},
   "outputs": [],
   "source": [
    "def f(x, n, k, sigma):\n",
    "    return (10**100)*(x**k)*((1-x)**(n-k))*np.exp(-((x-0.5)**2)/(2*(sigma**2)))\n",
    "\n",
    "def softmax(x):\n",
    "    return x/np.sum(x)"
   ]
  },
  {
   "cell_type": "code",
   "execution_count": 32,
   "metadata": {},
   "outputs": [],
   "source": [
    "sigmas = np.linspace(0,3,1000)"
   ]
  },
  {
   "cell_type": "code",
   "execution_count": 33,
   "metadata": {},
   "outputs": [],
   "source": [
    "List_of_P = []\n",
    "List_of_P.append(1)\n",
    "for sigma in sigmas[1:]:\n",
    "    p_1 = integrate.quad(lambda x: f(x, 10, 3, sigma), 0, 1)[0]\n",
    "    p_2 = integrate.quad(lambda x: f(x, 200, 101, sigma), 0, 1)[0]\n",
    "    p_12 = integrate.quad(lambda x: f(x, 10, 3, sigma)*f(x, 200, 101, sigma), 0, 1)[0]\n",
    "    List_of_P.append(softmax(np.array([p_12, p_1*p_2]))[0])"
   ]
  },
  {
   "cell_type": "code",
   "execution_count": 34,
   "metadata": {},
   "outputs": [
    {
     "data": {
      "image/png": "[encoded data removed]",
      "text/plain": [
       "<matplotlib.figure.Figure at 0x11c0beb70>"
      ]
     },
     "metadata": {},
     "output_type": "display_data"
    }
   ],
   "source": [
    "plt.plot(sigmas, List_of_P, label = 'p(M_1)')\n",
    "plt.xlabel('sigma')\n",
    "plt.ylabel('p')\n",
    "\n",
    "plt.legend(loc = 'best')\n",
    "plt.grid()\n",
    "plt.savefig('Task3_2.pdf')\n",
    "plt.show()"
   ]
  },
  {
   "cell_type": "code",
   "execution_count": 35,
   "metadata": {},
   "outputs": [],
   "source": [
    "sigma = 1"
   ]
  },
  {
   "cell_type": "code",
   "execution_count": 36,
   "metadata": {
    "scrolled": true
   },
   "outputs": [],
   "source": [
    "p_1 = integrate.quad(lambda x: f(x, 10, 3, sigma), 0, 1)[0]"
   ]
  },
  {
   "cell_type": "code",
   "execution_count": 37,
   "metadata": {},
   "outputs": [],
   "source": [
    "p_2 = integrate.quad(lambda x: f(x, 200, 101, sigma), 0, 1)[0]"
   ]
  },
  {
   "cell_type": "code",
   "execution_count": 38,
   "metadata": {},
   "outputs": [],
   "source": [
    "p_12 = integrate.quad(lambda x: f(x, 10, 3, sigma)*f(x, 200, 101, sigma), 0, 1)[0]"
   ]
  },
  {
   "cell_type": "code",
   "execution_count": 39,
   "metadata": {},
   "outputs": [],
   "source": [
    "p = softmax(np.array([p_12, p_1*p_2]))"
   ]
  },
  {
   "cell_type": "code",
   "execution_count": 40,
   "metadata": {},
   "outputs": [
    {
     "data": {
      "text/plain": [
       "array([0.56238867, 0.43761133])"
      ]
     },
     "execution_count": 40,
     "metadata": {},
     "output_type": "execute_result"
    }
   ],
   "source": [
    "p"
   ]
  },
  {
   "cell_type": "markdown",
   "metadata": {},
   "source": [
    "# Задача 5"
   ]
  },
  {
   "cell_type": "code",
   "execution_count": 18,
   "metadata": {},
   "outputs": [],
   "source": [
    "def D_KL(mu_0, sigma_0, mu_1, sigma_1):\n",
    "    return 0.5*(np.sum(np.diag(np.linalg.inv(sigma_1)@sigma_0))\\\n",
    "               +np.reshape(mu_1-mu_0, [1,-1])@np.linalg.inv(sigma_1)@np.reshape(mu_1-mu_0, [-1,1])\\\n",
    "               -np.size(mu_0)\\\n",
    "               +np.log(np.linalg.det(sigma_1)/np.linalg.det(sigma_0)))"
   ]
  },
  {
   "cell_type": "code",
   "execution_count": 19,
   "metadata": {},
   "outputs": [],
   "source": [
    "m_0 = np.array([1,1])\n",
    "m_1 = np.array([-2,-3])\n",
    "\n",
    "sigma_0 = np.array([[1,0],[0,1]])\n",
    "sigma_1 = np.array([[100,0],[0,100]])"
   ]
  },
  {
   "cell_type": "code",
   "execution_count": 20,
   "metadata": {},
   "outputs": [
    {
     "data": {
      "text/plain": [
       "array([[ 3.74017019]])"
      ]
     },
     "execution_count": 20,
     "metadata": {},
     "output_type": "execute_result"
    }
   ],
   "source": [
    "D_KL(m_0, sigma_0, m_1, sigma_1)"
   ]
  },
  {
   "cell_type": "code",
   "execution_count": 21,
   "metadata": {},
   "outputs": [
    {
     "data": {
      "text/plain": [
       "array([[ 106.89482981]])"
      ]
     },
     "execution_count": 21,
     "metadata": {},
     "output_type": "execute_result"
    }
   ],
   "source": [
    "D_KL(m_1, sigma_1, m_0, sigma_0)"
   ]
  },
  {
   "cell_type": "code",
   "execution_count": 16,
   "metadata": {},
   "outputs": [],
   "source": [
    "from scipy.special import beta"
   ]
  },
  {
   "cell_type": "code",
   "execution_count": 23,
   "metadata": {},
   "outputs": [
    {
     "data": {
      "text/plain": [
       "0.0"
      ]
     },
     "execution_count": 23,
     "metadata": {},
     "output_type": "execute_result"
    }
   ],
   "source": [
    "beta(alpha_3,beta_3)"
   ]
  },
  {
   "cell_type": "code",
   "execution_count": 39,
   "metadata": {},
   "outputs": [],
   "source": [
    "n_1 = 10\n",
    "n_2 = 1000\n",
    "\n",
    "k_1 = 3\n",
    "k_2 = 505"
   ]
  },
  {
   "cell_type": "code",
   "execution_count": 40,
   "metadata": {},
   "outputs": [],
   "source": [
    "alpha_1 = k_1+1\n",
    "beta_1 = n_1-k_1+1\n",
    "\n",
    "alpha_2 = k_2+1\n",
    "beta_2 = n_2-k_2+1\n",
    "\n",
    "alpha_3 = k_1+k_2+1\n",
    "beta_3 = n_1-k_1+n_2-k_2+1\n",
    "\n",
    "p = (beta(alpha_3,beta_3))/(beta(alpha_3,beta_3) + beta(alpha_1,beta_1)*beta(alpha_2,beta_2))\n"
   ]
  },
  {
   "cell_type": "code",
   "execution_count": 41,
   "metadata": {},
   "outputs": [
    {
     "name": "stdout",
     "output_type": "stream",
     "text": [
      "0.553988909493 0.446011090507\n"
     ]
    }
   ],
   "source": [
    "print(p, 1-p)"
   ]
  },
  {
   "cell_type": "code",
   "execution_count": 24,
   "metadata": {},
   "outputs": [],
   "source": [
    "from scipy.special import gamma"
   ]
  },
  {
   "cell_type": "code",
   "execution_count": null,
   "metadata": {},
   "outputs": [],
   "source": []
  }
 ],
 "metadata": {
  "kernelspec": {
   "display_name": "Python 3",
   "language": "python",
   "name": "python3"
  },
  "language_info": {
   "codemirror_mode": {
    "name": "ipython",
    "version": 3
   },
   "file_extension": ".py",
   "mimetype": "text/x-python",
   "name": "python",
   "nbconvert_exporter": "python",
   "pygments_lexer": "ipython3",
   "version": "3.6.2"
  }
 },
 "nbformat": 4,
 "nbformat_minor": 2
}

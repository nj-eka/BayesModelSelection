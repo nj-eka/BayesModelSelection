{
 "cells": [
  {
   "cell_type": "code",
   "execution_count": 1,
   "metadata": {},
   "outputs": [],
   "source": [
    "%matplotlib inline  \n",
    "import numpy as np \n",
    "import scipy as sp \n",
    "import pandas as pd \n",
    "import matplotlib.pyplot as plt \n",
    "import seaborn as sns \n",
    "from scipy.stats import norm  \n",
    "sns.set_style('white') \n",
    "sns.set_context('talk')  \n",
    "np.random.seed(123)\n",
    "\n",
    "import numpy as np\n",
    "\n",
    "import scipy.special as sp\n",
    "from scipy import integrate\n",
    "\n",
    "from sklearn import metrics\n",
    "\n",
    "from sklearn.preprocessing import StandardScaler\n",
    "\n",
    "from scipy.stats import multivariate_normal\n",
    "\n",
    "from sklearn.preprocessing import scale\n",
    "from sklearn.model_selection import train_test_split\n",
    "\n",
    "from sklearn import svm\n",
    "\n",
    "from sklearn.utils import shuffle\n",
    "\n",
    "from sklearn.mixture import BayesianGaussianMixture\n",
    "\n",
    "from sklearn import naive_bayes\n",
    "\n",
    "from sklearn.feature_selection import SelectKBest\n",
    "from sklearn.feature_selection import chi2\n",
    "from sklearn.feature_selection import f_classif\n",
    "from sklearn.feature_selection import mutual_info_classif\n",
    "\n",
    "from sklearn.linear_model import LogisticRegression\n",
    "\n",
    "\n",
    "from sklearn.model_selection import cross_val_score\n",
    "\n",
    "from sklearn.model_selection import cross_val_predict\n",
    "\n",
    "from imblearn.over_sampling import SMOTE, ADASYN"
   ]
  },
  {
   "cell_type": "code",
   "execution_count": 2,
   "metadata": {},
   "outputs": [],
   "source": [
    "def asy1(estimator, X, y):\n",
    "    Penalty_1 = np.array([[-10,10], [1,0]])\n",
    "    answ = np.int64(estimator.predict(X))\n",
    "    return np.sum(Penalty_1[y, answ])\n",
    "    \n",
    "def asy2(estimator, X, y):\n",
    "    Penalty_2 = np.array([[-1,2], [1,-1]])\n",
    "    answ = np.int64(estimator.predict(X))\n",
    "    return np.sum(Penalty_2[y, answ])\n",
    "\n",
    "def num(estimator, X, y):\n",
    "    answ = np.int64(estimator.predict(X))\n",
    "    return np.sum(np.abs(answ - y) > 0)\n",
    "\n",
    "def _num(y1, y2):\n",
    "    return np.sum(np.abs(y1 - y2) > 0)\n",
    "\n",
    "def _acc(y1, y2):\n",
    "    return np.sum(y1 == y2)\n",
    "\n",
    "def _asy1(y1, y2):\n",
    "    Penalty_1 = np.array([[-10,10], [1,0]])\n",
    "    return np.sum(Penalty_1[y1, y2])\n",
    "\n",
    "def _asy2(y1, y2):\n",
    "    Penalty_2 = np.array([[-1,2], [1,-1]])\n",
    "    return np.sum(Penalty_2[y1, y2])\n"
   ]
  },
  {
   "cell_type": "code",
   "execution_count": 3,
   "metadata": {},
   "outputs": [],
   "source": [
    "def replace_outliers(X, alpha):\n",
    "    num_features = X.shape[1]\n",
    "    q_low = X.quantile(alpha, axis=0)\n",
    "    q_up = X.quantile(1 - alpha, axis=0)\n",
    "    X_new = X.values.copy()\n",
    "    for i in range(num_features):\n",
    "        median = X[i].median()\n",
    "        for j in range(X.shape[0]):\n",
    "            if X_new[j][i] < q_low[i] or X_new[j][i] > q_up[i]:\n",
    "                X_new[j][i] = median\n",
    "    return X_new\n",
    "        \n",
    "    \n",
    "def comp(X, lower, upper):\n",
    "    outliers = []\n",
    "    for i in range(X.shape[0]):\n",
    "        if np.sum(X[i] < lower) + np.sum(X[i] > upper) > 0:\n",
    "            outliers.append(i)\n",
    "    return outliers\n",
    " \n",
    "def check_outliers(X, alpha = 0.25):\n",
    "    q25 = X.quantile(alpha, axis=0)\n",
    "    q75 = X.quantile(1-alpha, axis=0)\n",
    "    iqr = q75 - q25\n",
    "    cut_off = iqr * 1.75\n",
    "    lower, upper = q25 - cut_off, q75 + cut_off\n",
    "    outliers = comp(X.values, lower, upper)\n",
    "    return outliers"
   ]
  },
  {
   "cell_type": "code",
   "execution_count": 4,
   "metadata": {},
   "outputs": [],
   "source": [
    "np.random.seed(0)"
   ]
  },
  {
   "cell_type": "code",
   "execution_count": 5,
   "metadata": {},
   "outputs": [],
   "source": [
    "X_train_load = pd.read_csv('./data/task1_13_learn_X.csv',header=None, sep=' ').as_matrix()\n",
    "y_train_load = np.reshape(np.int64(pd.read_csv('./data/task1_13_learn_y.csv',header=None, sep=' ').as_matrix()), -1)\n",
    "\n",
    "X_test_load = pd.read_csv('./data/task1_13_test_X.csv',header=None, sep=' ').as_matrix()"
   ]
  },
  {
   "cell_type": "code",
   "execution_count": 6,
   "metadata": {},
   "outputs": [
    {
     "name": "stdout",
     "output_type": "stream",
     "text": [
      "(1000, 10)\n",
      "(1000,)\n",
      "(10000, 10)\n"
     ]
    }
   ],
   "source": [
    "print(X_train_load.shape)\n",
    "print(y_train_load.shape)\n",
    "print(X_test_load.shape)\n"
   ]
  },
  {
   "cell_type": "code",
   "execution_count": 8,
   "metadata": {},
   "outputs": [
    {
     "data": {
      "text/plain": [
       "SelectKBest(k=1, score_func=<function mutual_info_classif at 0x114bb7b70>)"
      ]
     },
     "execution_count": 8,
     "metadata": {},
     "output_type": "execute_result"
    }
   ],
   "source": [
    "# skb = SelectKBest(f_classif, k=1)\n",
    "skb = SelectKBest(mutual_info_classif, k=1)\n",
    "skb.fit(X_train_load, y_train_load)\n"
   ]
  },
  {
   "cell_type": "code",
   "execution_count": 9,
   "metadata": {},
   "outputs": [
    {
     "data": {
      "text/plain": [
       "array([ 0.00432954,  0.00432954,  0.        ,  0.        ,  0.01699245,\n",
       "        0.01639907,  0.        ,  0.        ,  0.        ,  0.01905829])"
      ]
     },
     "execution_count": 9,
     "metadata": {},
     "output_type": "execute_result"
    }
   ],
   "source": [
    "skb.scores_"
   ]
  },
  {
   "cell_type": "code",
   "execution_count": 10,
   "metadata": {},
   "outputs": [
    {
     "data": {
      "text/plain": [
       "array([ 0.01905829,  0.01699245,  0.01639907,  0.00432954,  0.00432954,\n",
       "        0.        ,  0.        ,  0.        ,  0.        ,  0.        ])"
      ]
     },
     "execution_count": 10,
     "metadata": {},
     "output_type": "execute_result"
    }
   ],
   "source": [
    "np.sort(skb.scores_)[::-1][:10]"
   ]
  },
  {
   "cell_type": "code",
   "execution_count": 11,
   "metadata": {},
   "outputs": [
    {
     "data": {
      "image/png": "[encoded data removed]",
      "text/plain": [
       "<matplotlib.figure.Figure at 0x11516a320>"
      ]
     },
     "metadata": {},
     "output_type": "display_data"
    }
   ],
   "source": [
    "plt.plot(np.mean(X_train_load[np.where(y_train_load==0)], axis = 0), label = 'answ 0')\n",
    "plt.plot(np.mean(X_train_load[np.where(y_train_load==1)], axis = 0), label = 'answ 1')\n",
    "\n",
    "plt.legend(loc='best')\n",
    "\n",
    "plt.savefig('Practise_13_FeatureMean.pdf')"
   ]
  },
  {
   "cell_type": "code",
   "execution_count": 12,
   "metadata": {},
   "outputs": [],
   "source": [
    "skb.k = 10"
   ]
  },
  {
   "cell_type": "code",
   "execution_count": 13,
   "metadata": {},
   "outputs": [],
   "source": [
    "X = skb.transform(scale(np.vstack([X_train_load, X_test_load])))\n",
    "# X = skb.transform(np.vstack([X_train_load, X_test_load]))\n",
    "# X = (X - np.mean(X, axis=0))/np.std(X, axis=0)\n",
    "\n",
    "X_train = X[:X_train_load.shape[0]]\n",
    "X_test = X[X_train_load.shape[0]:]\n",
    "\n",
    "y_train = np.array(y_train_load)\n",
    "\n"
   ]
  },
  {
   "cell_type": "code",
   "execution_count": 14,
   "metadata": {},
   "outputs": [
    {
     "name": "stdout",
     "output_type": "stream",
     "text": [
      "(1000, 10)\n",
      "(1000,)\n",
      "(10000, 10)\n"
     ]
    }
   ],
   "source": [
    "print(X_train.shape)\n",
    "print(y_train.shape)\n",
    "print(X_test.shape)"
   ]
  },
  {
   "cell_type": "code",
   "execution_count": 15,
   "metadata": {},
   "outputs": [
    {
     "name": "stdout",
     "output_type": "stream",
     "text": [
      "0 in train: 834 \n",
      " 1 in train: 166\n"
     ]
    }
   ],
   "source": [
    "print(\"0 in train:\", X_train[y_train==0].shape[0], '\\n', \"1 in train:\", X_train[y_train==1].shape[0])"
   ]
  },
  {
   "cell_type": "code",
   "execution_count": 16,
   "metadata": {},
   "outputs": [
    {
     "name": "stdout",
     "output_type": "stream",
     "text": [
      "-8340 -1000\n",
      "166\n"
     ]
    }
   ],
   "source": [
    "print(_asy1(y_train, y_train), _asy2(y_train, y_train))\n",
    "print(np.sum(y_train))"
   ]
  },
  {
   "cell_type": "code",
   "execution_count": 17,
   "metadata": {},
   "outputs": [],
   "source": [
    "# pd.DataFrame(X_train).describe()"
   ]
  },
  {
   "cell_type": "code",
   "execution_count": 18,
   "metadata": {
    "scrolled": false
   },
   "outputs": [
    {
     "data": {
      "text/plain": [
       "<matplotlib.axes._subplots.AxesSubplot at 0x115142828>"
      ]
     },
     "execution_count": 18,
     "metadata": {},
     "output_type": "execute_result"
    },
    {
     "data": {
      "image/png": "[encoded data removed]",
      "text/plain": [
       "<matplotlib.figure.Figure at 0x115142e10>"
      ]
     },
     "metadata": {},
     "output_type": "display_data"
    }
   ],
   "source": [
    "plt.figure(figsize=(15,8))\n",
    "sns.heatmap(pd.DataFrame(X_train).corr(), annot=True)"
   ]
  },
  {
   "cell_type": "code",
   "execution_count": 19,
   "metadata": {},
   "outputs": [
    {
     "name": "stdout",
     "output_type": "stream",
     "text": [
      "[  5.27510252e-06  -9.58282410e-06   2.30941561e-06   1.93413652e-06\n",
      "  -1.54026058e-05   7.37574216e-06  -7.25978708e-06   1.75010288e-05\n",
      "   8.75104407e-06   1.37425156e-07  -1.12680456e-05  -2.15819224e-07\n",
      "   5.72984287e-06   3.24923287e-06  -7.33370500e-06  -1.24448598e-05\n",
      "  -1.43972621e-05   1.20064489e-05  -1.02819554e-05  -1.48545267e-05\n",
      "  -4.63807551e-06  -7.31930994e-06  -1.13039895e-05  -2.90328682e-06\n",
      "  -3.04703166e-06  -1.61139636e-05   2.90485047e-06   9.40878280e-06\n",
      "   1.15628978e-05   1.15787514e-05   3.55267413e-06   2.48569564e-05\n",
      "   3.06006958e-06  -4.62159147e-07  -1.75773254e-06   1.25063746e-05\n",
      "  -1.81675220e-06   6.49070207e-06  -1.83338901e-05   1.00480142e-05\n",
      "   1.72320546e-05   1.00610505e-05  -2.82033194e-06  -1.23249451e-06\n",
      "  -7.36152238e-06   1.13734455e-05   5.93392739e-06  -1.00026460e-05\n",
      "   3.56601324e-07  -1.06828298e-05   1.19442420e-05  -2.66893265e-06\n",
      "  -2.96409069e-06  -6.86647973e-06   4.14883331e-06   1.26495424e-05\n",
      "   1.78249327e-06  -1.50812370e-05  -1.43126613e-05  -1.15369149e-05\n",
      "  -1.94557944e-05   1.29500901e-05   2.98294392e-06   8.09442029e-06\n",
      "  -9.75139679e-06   1.36117657e-05   1.24388739e-05   2.66926069e-06\n",
      "   7.00542390e-06  -9.65319619e-06   1.24431793e-05  -1.50954961e-06\n",
      "   8.48757563e-06  -5.42438863e-06  -9.67084180e-06   5.74973801e-06\n",
      "  -3.65121033e-06  -7.99354145e-06   5.16200287e-06  -6.88562441e-06\n",
      "   6.74758121e-06   8.12940070e-06   6.36296258e-06  -1.65916473e-05\n",
      "  -5.56325462e-06  -5.80223482e-06  -3.37993723e-06  -1.61022703e-05\n",
      "   1.05847190e-05   7.49314872e-06  -1.05504339e-06  -3.15527676e-06\n",
      "  -1.13710782e-05   1.00213378e-05   1.18943954e-05   2.71065077e-06\n",
      "   7.85217178e-06   4.38274721e-07   1.08561341e-05  -1.20453602e-05\n",
      "  -4.94982121e-07   1.14153022e-05  -8.84810293e-06  -5.50247251e-06\n",
      "   7.68510586e-07  -1.84683812e-06   2.36403240e-06  -1.49545918e-05\n",
      "  -8.40801699e-06   7.71461593e-06   5.63804040e-06  -1.75984927e-06\n",
      "  -1.04531005e-05  -7.62827849e-06  -4.71600453e-06   1.56337667e-06\n",
      "   3.12719484e-06  -6.50579928e-06  -6.71753431e-06   1.25049918e-05\n",
      "   1.87335025e-05  -8.75741015e-07   1.12882360e-05   5.78592325e-06\n",
      "  -5.33862372e-07  -5.60594196e-06  -8.05050365e-06  -6.10073253e-07\n",
      "  -3.28191544e-07   2.82447112e-07   1.12109297e-05  -1.22821463e-05\n",
      "   9.15056655e-06   1.15562470e-05   1.13492140e-05   7.58034691e-06\n",
      "   2.67302401e-06   1.60433960e-05  -1.98199785e-05   6.47285388e-06\n",
      "  -1.66484423e-06   2.43720634e-05  -3.10352911e-06  -1.89257815e-05\n",
      "  -7.39160368e-06   8.70375139e-06   1.61066308e-06   2.83242095e-06\n",
      "   4.59303464e-06   4.72312934e-08  -1.78446286e-05   2.49775137e-06\n",
      "  -4.87627681e-06  -6.99725897e-06   1.01665476e-06   1.32881096e-05\n",
      "  -1.10615547e-05  -1.92109355e-05  -1.46536435e-06  -5.16298202e-07\n",
      "   1.36433276e-06  -5.31926895e-06   1.35845569e-05  -2.01847971e-06\n",
      "   1.22933914e-06   8.33746323e-06  -1.08365292e-05  -9.13345172e-06\n",
      "   6.26326770e-06   8.13666687e-06   3.02261475e-05  -7.40188406e-07\n",
      "  -6.70582712e-06  -3.55399260e-06   2.00602128e-06  -1.81679832e-05\n",
      "   1.00440870e-06   1.24706226e-06  -1.95792351e-05   6.57952240e-06\n",
      "  -1.22618090e-05   1.47136373e-05   1.24213157e-05  -5.71767429e-06\n",
      "   1.39916498e-05   1.12873468e-05  -4.59238289e-06  -2.09399195e-06\n",
      "  -1.66663560e-05  -1.68152706e-05  -3.82405450e-06  -1.35441804e-05\n",
      "   2.19831862e-06   3.45240288e-06  -1.05902763e-05   2.24203916e-05\n",
      "   1.39707785e-05   9.76205766e-06   1.90849032e-06  -1.56788728e-05\n",
      "   8.75397215e-06  -5.98637548e-06   1.13128008e-05   1.41616566e-06\n",
      "   1.76526749e-05  -1.46051246e-07  -4.59920871e-07   9.50252397e-06\n",
      "   1.04522729e-05  -2.87796604e-06  -1.88244656e-05  -8.42685877e-06\n",
      "  -1.36848738e-05  -1.27964500e-05  -1.13695757e-05  -3.78030831e-05\n",
      "  -6.24704804e-06  -3.86220994e-07   4.90574823e-06   1.35094415e-05\n",
      "   9.41817454e-06  -5.72917616e-06   1.77605702e-06  -1.44995131e-06\n",
      "  -3.74551050e-06  -2.28106745e-06   6.65547821e-06  -5.80086019e-07\n",
      "   8.10372193e-06  -1.20747013e-06   9.00471108e-06  -2.64229133e-06\n",
      "   4.78054483e-06   1.22702598e-05  -7.02088659e-06   2.44664641e-06\n",
      "   1.87960111e-05  -7.11373499e-06  -1.02822197e-06  -2.38471416e-06\n",
      "  -7.85131280e-06   1.16735927e-05  -1.22461948e-06  -2.87163437e-07\n",
      "  -1.47510070e-05   9.81802303e-06   8.99434949e-06  -4.79773861e-06\n",
      "   5.05661199e-06   8.37498908e-06  -5.65661482e-07  -9.11924438e-06\n",
      "  -1.37760514e-06   1.82746743e-05  -5.24014672e-06   2.84120082e-06\n",
      "   2.53765157e-06  -2.76679784e-05   3.53160274e-06   8.41571157e-06\n",
      "  -1.15966049e-06  -7.89676271e-06   4.10983274e-06   9.90691848e-06\n",
      "   3.70910215e-06  -7.12979757e-06   6.30798245e-06   4.85298947e-06\n",
      "   5.79396507e-06  -4.03600348e-06   2.56093896e-06  -1.74341126e-07\n",
      "   7.58829262e-06  -5.02245764e-07  -8.79345576e-06  -1.18547221e-06\n",
      "   5.28285945e-06   6.40634397e-07  -7.67252917e-06  -1.33452553e-05\n",
      "  -4.08540444e-06  -4.39556840e-06   4.03636651e-06  -5.27230919e-06\n",
      "   9.94532291e-06  -2.59704012e-06   1.03193951e-05  -9.16159598e-06\n",
      "  -9.30612800e-06   1.60493522e-06  -1.01990169e-05  -1.57553503e-05\n",
      "   1.16936980e-05  -3.28150824e-06   1.65961313e-06   6.88328754e-06\n",
      "   8.25074087e-06   1.94825006e-05   1.01048964e-05  -4.26347953e-06\n",
      "   8.02635195e-07   9.98794615e-06  -9.36897191e-06  -3.14526690e-07\n",
      "  -1.82824578e-06   5.09482978e-06  -3.37014158e-06   2.03630817e-05\n",
      "  -6.61834489e-06  -1.33221258e-05   1.73162150e-06   1.42419453e-06\n",
      "   8.99239261e-06   3.45854005e-06  -6.72182474e-06  -5.94851582e-07\n",
      "  -4.08260561e-06   4.63577208e-06  -3.73371583e-06  -4.08391794e-06\n",
      "   2.16898723e-06  -7.15202678e-06  -1.01465595e-05   1.89173666e-06\n",
      "  -2.13156125e-06   1.12916486e-05  -1.65438452e-06   6.54751217e-06\n",
      "   3.60565109e-07   1.01475640e-05  -7.94044810e-06  -2.07423759e-05\n",
      "   1.17185526e-05   5.52539679e-06   7.57119822e-06   3.44563351e-07\n",
      "  -8.11928497e-07  -1.27535072e-05  -1.29541531e-05  -1.24730393e-05\n",
      "  -1.46518932e-06   5.88848972e-06  -9.10788892e-06   2.01237407e-06\n",
      "  -3.76469078e-06  -6.75335349e-06   8.23850925e-07   3.14383677e-06\n",
      "   2.76707380e-05   9.30820241e-06  -7.29568471e-06   2.28858134e-05\n",
      "  -3.32202846e-06  -1.19715692e-05   1.07084048e-06   1.38864773e-05\n",
      "   8.66866729e-06  -1.87820352e-06   3.80032052e-07  -1.50358590e-06\n",
      "  -1.03484608e-05   3.73684899e-06  -8.97642843e-06  -2.46973538e-06\n",
      "   8.74060282e-06  -1.36371540e-05  -1.65319343e-05  -1.40373644e-05\n",
      "  -1.41397645e-05  -9.23836789e-06   1.70626089e-05   1.07557269e-05\n",
      "  -1.56441362e-06  -1.91395050e-06  -1.88503513e-05   1.63236431e-06\n",
      "   1.35003919e-06  -4.46763649e-06   1.31427234e-05   4.31414523e-06\n",
      "   4.78353788e-07  -3.95055664e-06   1.21466416e-05  -9.50656676e-06\n",
      "   4.06296737e-06  -6.94942485e-06  -4.09971912e-06   6.41111533e-06\n",
      "   1.30207019e-06   6.10855212e-06  -7.66207964e-06   1.24624220e-05\n",
      "   1.09797748e-05   4.45934601e-06  -5.95281051e-06   6.36626679e-06\n",
      "  -1.36570499e-05  -1.52730960e-05   1.27162444e-05   1.11913990e-05\n",
      "  -5.28864477e-06  -1.62584574e-05  -1.75030535e-05   2.41269948e-05\n",
      "   1.75279523e-05   1.27100419e-06  -8.91566373e-06  -1.99728911e-07\n",
      "   4.42406909e-06   4.08590539e-06  -2.61395876e-06   1.22340752e-05\n",
      "   1.76300872e-05   1.44466614e-05   1.09897564e-05  -8.58665841e-06\n",
      "   2.64527060e-06   1.33022926e-05  -7.56976036e-07   2.61193877e-06\n",
      "   7.02806284e-07   6.06971861e-06  -8.56055746e-06  -1.18627698e-05\n",
      "   1.54389334e-05   1.16036169e-05  -1.27512292e-05   1.07935636e-05\n",
      "  -1.88366890e-05  -6.34816470e-06   3.47965671e-06  -7.31362515e-06\n",
      "  -1.06744708e-05   6.99677725e-06  -2.51294779e-06   1.14932043e-05\n",
      "  -8.45730122e-06   6.92688394e-06   5.02121801e-06   4.59423941e-06\n",
      "   2.83061761e-06  -1.05036445e-06   6.24166775e-06  -1.21180219e-06\n",
      "   1.00252176e-07   1.29791224e-05   9.76465118e-06  -3.82705818e-06\n",
      "  -6.12619595e-06   1.71954100e-05  -1.41626844e-06  -5.30227924e-06\n",
      "   4.47114106e-06   2.77296070e-06  -1.64257672e-05  -9.89755095e-06\n",
      "  -6.34715472e-06   1.81707859e-05   5.32295672e-06   8.08742890e-07\n",
      "  -2.12178812e-06  -4.21209506e-06   1.13745612e-05  -8.34877995e-06\n",
      "  -4.27073901e-07   2.82510628e-06  -5.77211734e-06  -1.44603109e-06\n",
      "  -5.76234257e-06  -1.21495279e-05   1.66024761e-05  -5.53836875e-06\n",
      "  -7.76492112e-06   4.28480780e-06   7.48849575e-06   7.02800939e-06\n",
      "  -6.89879506e-06   1.31691851e-06   2.14763970e-05  -6.83663187e-06\n",
      "   1.26542502e-05  -3.90378808e-06  -1.32310511e-05   4.78327601e-06\n",
      "   3.03181776e-06   2.60145396e-07   7.60444594e-06   1.04378107e-05\n",
      "  -1.55079406e-06   1.24356727e-05  -5.99665976e-06   1.90081298e-05\n",
      "   5.30747844e-06  -5.18653287e-07  -7.03842670e-06   1.25051809e-05\n",
      "   1.48743600e-05   1.13023394e-05   5.19534956e-07   3.64331545e-06\n",
      "   6.02059111e-07  -1.11730010e-05   1.84442225e-05  -1.54412702e-05\n",
      "   1.52665494e-05  -5.41819826e-06  -4.76284547e-06  -7.55544799e-06\n",
      "   5.57752279e-06  -3.25775495e-06   5.43764865e-06   8.35320365e-07\n",
      "   2.07595041e-05  -2.85935940e-05   6.32155118e-07   4.67082126e-06\n",
      "  -8.32312209e-06   1.15690024e-05  -1.29396483e-05   5.93087295e-06\n",
      "  -7.35579193e-07  -1.07505371e-05  -1.16316136e-05  -1.13706252e-06\n",
      "   6.07027693e-06  -1.16396930e-06   1.01274365e-06   5.48476982e-06\n",
      "  -1.75708645e-06  -5.09980711e-06   2.05503368e-05  -1.72855184e-05\n",
      "  -3.78341960e-06   4.61973725e-06   2.22067501e-05   3.98666792e-06\n",
      "   1.21243945e-06   6.75661636e-06  -6.06686468e-06  -1.89801927e-06\n",
      "  -1.40266235e-05  -1.18870553e-05   3.83713907e-06   1.44946628e-05\n",
      "   9.10447644e-07   1.26175691e-05   5.06835023e-06   2.08666088e-05\n",
      "  -1.08442087e-05   2.16865268e-05   8.76878566e-07  -1.32814499e-06\n",
      "  -1.75056770e-05  -3.72106840e-06  -7.91293247e-06  -2.13578091e-05\n",
      "  -4.56256515e-06  -1.75238106e-05  -8.11683861e-06   6.64465251e-06\n",
      "   7.57410060e-06  -1.73811532e-05   4.69501120e-06  -1.18527115e-05\n",
      "   2.22821521e-06   6.75382090e-06   5.61065965e-06  -1.21456964e-05\n",
      "   1.85973619e-05   3.57471533e-06   2.31151731e-05   1.88602605e-05\n",
      "  -3.54341546e-06  -1.24773857e-05  -2.20134582e-05   3.09822533e-06\n",
      "   7.94273741e-06   1.30524222e-05  -1.56583656e-06  -1.98632387e-06\n",
      "   6.56630060e-07   9.54593355e-06   2.08589202e-06   5.06867798e-06\n",
      "   1.11496865e-05  -1.13517004e-05  -5.99836196e-06   2.16343742e-06\n",
      "   5.49901618e-07   1.02529648e-05  -1.19570230e-05  -5.31035361e-06\n",
      "  -1.42270287e-05   4.76301376e-06   2.68948772e-07   3.19017129e-06\n",
      "   4.66097416e-06   7.00186363e-06   1.11610039e-06  -1.24580208e-05\n",
      "   1.82170447e-05  -2.04391250e-05  -1.04223134e-05   5.05478905e-06\n",
      "   3.97558495e-06  -6.12481088e-06  -2.05687020e-06  -7.43157797e-06\n",
      "   8.42566119e-06   1.06396524e-05  -1.38563747e-05  -6.58547789e-06\n",
      "  -9.56373867e-07  -4.07431119e-06   4.93582856e-06  -1.38080337e-05\n",
      "   6.13532198e-06   6.10566571e-06   5.50226959e-06   4.60843624e-06\n",
      "  -9.54386594e-06  -1.57791407e-05  -1.54203652e-05  -2.30933205e-05\n",
      "   2.19221209e-05   7.88096700e-06  -9.62365918e-07   1.76930265e-05\n",
      "  -2.19020618e-05   1.87239657e-05   2.22878335e-06   5.18053711e-06\n",
      "  -3.84764318e-06  -2.00651910e-06  -3.89737931e-07   1.00991258e-05\n",
      "   8.23049494e-06   1.34030830e-05  -4.24435000e-06   6.21462693e-06\n",
      "  -3.45396432e-06  -2.30938296e-06  -3.95032161e-06  -1.65119849e-06\n",
      "   1.04159539e-05   5.63211912e-06   1.46332050e-06  -4.59949747e-08\n",
      "   5.34755965e-06   1.07299207e-05   6.47541048e-06  -1.75712581e-05\n",
      "  -6.07772783e-06   4.72348517e-06  -1.76900035e-06   1.00346226e-05\n",
      "   9.17695895e-06   1.45804351e-05   9.97004294e-06  -8.06742578e-06\n",
      "   2.03232779e-05  -2.54226068e-06  -1.98211411e-05   1.45998432e-06\n",
      "  -6.82485009e-06   1.32424665e-05   4.05757678e-07  -3.81389998e-06\n",
      "   4.39505166e-06  -3.84706382e-06   1.06233708e-05   1.23230153e-05\n",
      "   5.01970306e-06   1.13975091e-05   2.55311716e-06  -9.92487014e-06\n",
      "   9.93775785e-06  -8.26868371e-07   2.45494071e-06   4.78660703e-06\n",
      "   5.73060156e-06   2.07110205e-05  -3.26763633e-06  -7.98153780e-06\n",
      "  -8.53858966e-06   4.36486470e-07   1.10826413e-05  -5.63056394e-06\n",
      "   3.83207303e-07   2.08686327e-05   9.91138369e-06   4.33139091e-06\n",
      "   8.61007108e-06  -1.24746480e-05   9.84279463e-06  -8.78527367e-07\n",
      "  -1.73602476e-05  -5.03563766e-06   4.31747271e-06   1.18314584e-05\n",
      "   6.82777021e-06  -1.17135933e-05   7.79253106e-06   8.59674433e-06\n",
      "  -2.57374763e-06   1.31953357e-05  -7.01539303e-06   1.43490666e-05\n",
      "  -1.63171852e-05   1.02264234e-05  -3.57139556e-06   3.03282325e-05\n",
      "   3.93762617e-06  -2.63912499e-06   7.23978730e-06   9.10443558e-06\n",
      "  -1.64522351e-05  -3.75513933e-08  -4.84999661e-07   8.08174812e-07\n",
      "  -5.91127744e-06   4.99504653e-06  -2.18060716e-06   7.03822275e-06\n",
      "  -1.02137682e-05  -7.58575869e-08   5.76991951e-06   5.96608807e-06\n",
      "  -6.74844868e-06  -2.39968382e-05  -8.66240286e-06   1.00636136e-06\n",
      "   2.03349165e-05   5.62069722e-06   3.07448751e-06  -6.47685672e-06\n",
      "  -2.86458192e-06   6.71958495e-06  -4.24886306e-06   1.41496725e-05\n",
      "  -3.98458902e-06   6.01768458e-06   7.40884959e-06   4.57273406e-06\n",
      "  -3.42862594e-06   9.83400154e-06  -1.41039415e-05   8.15928379e-06\n",
      "   1.32510202e-05  -1.02416598e-05   9.33659295e-06   1.79441284e-05\n",
      "   6.15466439e-06   3.85923749e-06  -9.95861810e-06   9.73105951e-06\n",
      "   1.48004322e-05   2.67091191e-06  -8.57444768e-06  -5.87799822e-07\n",
      "  -2.16751728e-05   1.19766318e-05   1.29590553e-05  -1.06193174e-05\n",
      "   1.06570756e-05   1.99949349e-05   1.51087659e-05  -6.08768600e-06\n",
      "  -1.55120551e-05  -4.29468893e-06   1.01045527e-05  -1.04928949e-05\n",
      "   1.24461282e-05   1.21872270e-05   2.28845536e-06   5.58113121e-06\n",
      "  -4.67888020e-06   1.26957766e-05   3.86285596e-06   7.53535811e-06\n",
      "   5.96898312e-06   5.80387533e-06  -1.16097897e-05  -1.91362035e-06\n",
      "  -1.82672114e-05   1.24951037e-05   2.39876490e-05  -1.14430356e-05\n",
      "   3.98072284e-06   4.75749701e-06  -4.40206836e-06   2.00664978e-05\n",
      "  -2.09405413e-05  -1.18784965e-07   6.91626746e-06  -6.09245379e-07\n",
      "  -1.19790182e-05  -1.10041345e-05  -8.23359223e-06   1.84394519e-05\n",
      "   3.95861993e-06  -6.33730557e-06  -4.50232892e-06   6.59324875e-06\n",
      "   1.18843992e-05   8.68453847e-06  -1.31900354e-07  -1.15839538e-05\n",
      "   6.79525400e-07   9.54421151e-06   2.80963896e-06   8.30643504e-07\n",
      "  -1.92263785e-06   4.94086090e-06   1.61276174e-07  -2.71160698e-06\n",
      "   1.75909583e-05  -2.38890154e-05  -8.89154752e-06  -5.60290572e-06\n",
      "  -1.87770099e-06   9.74736918e-06   9.29791420e-06   2.43726651e-06\n",
      "  -9.60522491e-06  -1.38384254e-07   9.26594254e-06   7.62960946e-06\n",
      "   8.45117496e-07  -8.57781189e-06   1.80324085e-05  -4.01642632e-06\n",
      "  -2.25024858e-06  -5.62117735e-06  -8.48138479e-06  -3.18854922e-06\n",
      "   4.99154455e-06   1.20433893e-05   5.18043295e-06  -3.74545829e-06\n",
      "   4.58302012e-06   8.08438859e-06   4.80419894e-06  -6.30018766e-06\n",
      "   1.04387027e-06   9.99255161e-06  -1.34649388e-05  -8.09912707e-06\n",
      "   2.45975038e-06   9.34015409e-06  -1.28109199e-05   4.72839388e-06\n",
      "  -2.28354545e-06  -1.00225549e-05  -3.91432619e-06  -1.34933132e-05\n",
      "  -1.77550549e-05   3.99212072e-07  -6.21014333e-06   1.45396812e-05\n",
      "   4.17774700e-06   7.58400246e-06  -7.86598507e-06   9.53479301e-06\n",
      "   2.11893164e-06   7.84062029e-06   7.64692243e-06   3.36617360e-06\n",
      "  -5.85152872e-06   1.29281684e-05   5.09051239e-06  -6.55624109e-06\n",
      "   3.32107466e-06  -1.39421728e-06  -1.61196806e-06  -9.47192610e-06\n",
      "   6.76543063e-06  -6.10965498e-06  -5.05587168e-06   1.13235377e-05\n",
      "  -2.67434503e-06  -8.19021368e-06  -2.08464116e-06   2.61214385e-06\n",
      "   1.36555857e-05  -1.19462320e-06   4.10739195e-06  -6.20214537e-07\n",
      "   7.71914261e-07  -1.30990167e-05   1.46396737e-05  -8.79366944e-06\n",
      "  -5.48409437e-06  -6.93766195e-06   8.50630530e-06  -4.38132813e-06\n",
      "   5.57207106e-06   2.26092259e-06   5.62316246e-06   5.57061802e-06\n",
      "  -1.34705909e-05  -1.97586924e-05   1.50283298e-05   1.13024718e-05\n",
      "   1.16411045e-05  -3.41394994e-07   7.82607940e-06  -1.73939130e-05\n",
      "  -1.06962061e-05   8.74669467e-06  -2.28069099e-06   1.08051210e-05\n",
      "  -5.84349754e-06  -1.93843308e-05   9.45184941e-06   1.95607127e-05\n",
      "  -2.92654659e-07  -4.33462982e-06  -3.83491025e-06   1.27180829e-07\n",
      "  -3.07957331e-06  -3.44576696e-06   1.26471957e-05  -2.05895536e-06\n",
      "   5.13223906e-07  -1.25328547e-05  -1.26120588e-07   3.93300378e-06\n",
      "  -3.48232882e-06  -1.51540547e-06   6.51942415e-06   1.10477508e-05\n",
      "  -3.14037674e-07   2.33437956e-06   1.70150810e-05   1.55808618e-06\n",
      "  -8.63637334e-07   1.36940062e-05   3.75854558e-06   2.46618098e-06\n",
      "   2.11236168e-05  -4.49945808e-06   1.53328432e-05   4.24291082e-06\n",
      "  -1.18391357e-05  -2.21829779e-05   1.55879711e-05  -7.82113335e-06\n",
      "  -1.16325962e-05  -1.25769866e-05  -1.80414402e-05  -3.17817128e-06\n",
      "   8.13401706e-06  -7.98749329e-06  -1.29302550e-05  -9.17257749e-06\n",
      "  -2.89415549e-06   1.56773837e-06   7.09892580e-06   5.27683650e-06\n",
      "   5.78477257e-06   4.61369079e-06  -3.36299128e-06  -1.13809741e-05\n",
      "  -7.12326733e-06  -4.08180523e-06  -5.46470158e-06   7.04487899e-06\n",
      "  -2.41105669e-06   2.13716029e-05  -2.20236490e-05  -3.38392226e-06\n",
      "   4.07587473e-06   6.30819038e-06  -1.36434462e-05  -1.25953424e-05\n",
      "   2.46676468e-06   7.69044439e-06  -6.59209600e-06   1.36822635e-05\n",
      "   4.31848324e-06   1.03720851e-05   1.34894110e-05   7.82036769e-06\n",
      "  -1.02671257e-05   1.02233988e-06   1.65902813e-05   2.15319710e-06\n",
      "   3.57828616e-06  -3.19942304e-06   1.06624174e-05  -1.00493167e-05\n",
      "   2.14267597e-06  -3.24042392e-06  -1.60926781e-05  -1.68217938e-06\n",
      "   5.47494901e-06  -3.29711670e-06   4.35133113e-06  -2.33498369e-05]\n"
     ]
    }
   ],
   "source": [
    "print(X_train[:,0] - X_train[:,1])"
   ]
  },
  {
   "cell_type": "code",
   "execution_count": 24,
   "metadata": {},
   "outputs": [],
   "source": [
    "saved_features = [1, 3, 5, 7, 8, 9]\n",
    "X_train = X_train[:,saved_features]\n",
    "X_test = X_test[:,saved_features]"
   ]
  },
  {
   "cell_type": "code",
   "execution_count": 25,
   "metadata": {},
   "outputs": [
    {
     "data": {
      "text/plain": [
       "<matplotlib.axes._subplots.AxesSubplot at 0x115aed5f8>"
      ]
     },
     "execution_count": 25,
     "metadata": {},
     "output_type": "execute_result"
    },
    {
     "data": {
      "image/png": "[encoded data removed]",
      "text/plain": [
       "<matplotlib.figure.Figure at 0x115aedb70>"
      ]
     },
     "metadata": {},
     "output_type": "display_data"
    }
   ],
   "source": [
    "plt.figure(figsize=(15,8))\n",
    "sns.heatmap(pd.DataFrame(X_train).corr(), annot=True)"
   ]
  },
  {
   "cell_type": "code",
   "execution_count": 26,
   "metadata": {},
   "outputs": [
    {
     "data": {
      "text/plain": [
       "<matplotlib.legend.Legend at 0x11667b898>"
      ]
     },
     "execution_count": 26,
     "metadata": {},
     "output_type": "execute_result"
    },
    {
     "data": {
      "image/png": "[encoded data removed]",
      "text/plain": [
       "<matplotlib.figure.Figure at 0x1161b9f28>"
      ]
     },
     "metadata": {},
     "output_type": "display_data"
    }
   ],
   "source": [
    "plt.plot(np.mean(X_train[np.where(y_train==0)], axis = 0), label = 'answ 0')\n",
    "plt.plot(np.mean(X_train[np.where(y_train==1)], axis = 0), label = 'answ 1')\n",
    "\n",
    "plt.legend(loc='best')\n",
    "\n",
    "# plt.savefig('Practise_13_FeatureMean.pdf')"
   ]
  },
  {
   "cell_type": "code",
   "execution_count": 27,
   "metadata": {},
   "outputs": [],
   "source": [
    "# sns.pairplot(pd.DataFrame(np.hstack([X_train, np.reshape(y_train, [-1,1])])))"
   ]
  },
  {
   "cell_type": "code",
   "execution_count": 28,
   "metadata": {},
   "outputs": [],
   "source": [
    "# _svm = svm.OneClassSVM(gamma=10, nu=0.1)\n",
    "\n",
    "\n",
    "# labels = _svm.fit(np.hstack([X_train, np.reshape(y_train, [-1,1])])).predict(np.hstack([X_train, np.reshape(y_train, [-1,1])]))\n"
   ]
  },
  {
   "cell_type": "code",
   "execution_count": 29,
   "metadata": {},
   "outputs": [],
   "source": [
    "# (labels==1).mean()"
   ]
  },
  {
   "cell_type": "code",
   "execution_count": 30,
   "metadata": {},
   "outputs": [
    {
     "name": "stdout",
     "output_type": "stream",
     "text": [
      "(1000, 6) (1000,)\n"
     ]
    }
   ],
   "source": [
    "print(X_train.shape, y_train.shape)"
   ]
  },
  {
   "cell_type": "code",
   "execution_count": 31,
   "metadata": {},
   "outputs": [],
   "source": [
    "# X_train_new = np.array(X_train)\n",
    "# X_test_new = np.array(X_test)\n",
    "# y_train_new = np.array(y_train)"
   ]
  },
  {
   "cell_type": "code",
   "execution_count": 32,
   "metadata": {},
   "outputs": [],
   "source": [
    "X_train_new, y_train_new = SMOTE().fit_sample(X_train, y_train)\n",
    "X_test_new = np.array(X_test)"
   ]
  },
  {
   "cell_type": "code",
   "execution_count": 33,
   "metadata": {},
   "outputs": [
    {
     "data": {
      "text/plain": [
       "834"
      ]
     },
     "execution_count": 33,
     "metadata": {},
     "output_type": "execute_result"
    }
   ],
   "source": [
    "np.sum(y_train_new)"
   ]
  },
  {
   "cell_type": "code",
   "execution_count": 34,
   "metadata": {
    "scrolled": true
   },
   "outputs": [
    {
     "name": "stdout",
     "output_type": "stream",
     "text": [
      "ACC 0.705635491607\n",
      "AUC 0.772185129594\n",
      "NUM 491\n",
      "ASY1 -2301\n",
      "ASY2 -394\n"
     ]
    }
   ],
   "source": [
    "rho = 0.5\n",
    "Predict = cross_val_predict(estimator=svm.SVC(probability=True, kernel='rbf'), X=X_train_new, y=y_train_new, cv = 10, method='predict_proba')\n",
    "\n",
    "\n",
    "print('ACC', metrics.accuracy_score(y_train_new, np.int64(Predict[:,1]>rho)))\n",
    "print('AUC', metrics.roc_auc_score(y_train_new, Predict[:,1]))\n",
    "print('NUM', _num(y_train_new, np.int64(Predict[:,1]>rho)))\n",
    "print('ASY1', _asy1(y_train_new, np.int64(Predict[:,1]>rho)))\n",
    "print('ASY2', _asy2(y_train_new, np.int64(Predict[:,1]>rho)))\n",
    "\n",
    "Predict_For_AUC = svm.SVC(probability=True, kernel='rbf').fit(X_train_new, y_train_new).predict(X_test_new)\n",
    "Predict_For_NUM = svm.SVC(probability=True, kernel='rbf').fit(X_train_new, y_train_new).predict(X_test_new)\n",
    "\n",
    "\n",
    "\n"
   ]
  },
  {
   "cell_type": "code",
   "execution_count": 35,
   "metadata": {},
   "outputs": [
    {
     "name": "stdout",
     "output_type": "stream",
     "text": [
      "ACC 0.5\n",
      "AUC 0.770963804496\n",
      "NUM 834\n",
      "ASY1 -7506\n",
      "ASY2 0\n"
     ]
    }
   ],
   "source": [
    "rho = 0.9\n",
    "Predict = cross_val_predict(estimator=svm.SVC(probability=True, kernel='rbf'), X=X_train_new, y=y_train_new, cv = 10, method='predict_proba')\n",
    "\n",
    "\n",
    "print('ACC', metrics.accuracy_score(y_train_new, np.int64(Predict[:,1]>rho)))\n",
    "print('AUC', metrics.roc_auc_score(y_train_new, Predict[:,1]))\n",
    "print('NUM', _num(y_train_new, np.int64(Predict[:,1]>rho)))\n",
    "print('ASY1', _asy1(y_train_new, np.int64(Predict[:,1]>rho)))\n",
    "print('ASY2', _asy2(y_train_new, np.int64(Predict[:,1]>rho)))\n",
    "\n",
    "Predict_For_ASY1 = svm.SVC(probability=True, kernel='rbf').fit(X_train_new, y_train_new).predict(X_test_new)\n",
    "\n",
    "\n",
    "\n"
   ]
  },
  {
   "cell_type": "code",
   "execution_count": 36,
   "metadata": {},
   "outputs": [
    {
     "name": "stdout",
     "output_type": "stream",
     "text": [
      "ACC 0.685251798561\n",
      "AUC 0.772359091144\n",
      "NUM 525\n",
      "ASY1 -5516\n",
      "ASY2 -497\n"
     ]
    }
   ],
   "source": [
    "rho = 0.66\n",
    "Predict = cross_val_predict(estimator=svm.SVC(probability=True, kernel='rbf'), X=X_train_new, y=y_train_new, cv = 10, method='predict_proba')\n",
    "\n",
    "\n",
    "print('ACC', metrics.accuracy_score(y_train_new, np.int64(Predict[:,1]>rho)))\n",
    "print('AUC', metrics.roc_auc_score(y_train_new, Predict[:,1]))\n",
    "print('NUM', _num(y_train_new, np.int64(Predict[:,1]>rho)))\n",
    "print('ASY1', _asy1(y_train_new, np.int64(Predict[:,1]>rho)))\n",
    "print('ASY2', _asy2(y_train_new, np.int64(Predict[:,1]>rho)))\n",
    "\n",
    "Predict_For_ASY2 = svm.SVC(probability=True, kernel='rbf').fit(X_train_new, y_train_new).predict(X_test_new)\n",
    "\n"
   ]
  },
  {
   "cell_type": "code",
   "execution_count": 37,
   "metadata": {},
   "outputs": [],
   "source": [
    "pd.DataFrame(np.vstack([Predict_For_AUC, Predict_For_NUM, Predict_For_ASY1, Predict_For_ASY2]).T).to_csv('task1_13_answ.csv', sep = ',')\n"
   ]
  },
  {
   "cell_type": "code",
   "execution_count": null,
   "metadata": {},
   "outputs": [],
   "source": []
  }
 ],
 "metadata": {
  "kernelspec": {
   "display_name": "Python 3",
   "language": "python",
   "name": "python3"
  },
  "language_info": {
   "codemirror_mode": {
    "name": "ipython",
    "version": 3
   },
   "file_extension": ".py",
   "mimetype": "text/x-python",
   "name": "python",
   "nbconvert_exporter": "python",
   "pygments_lexer": "ipython3",
   "version": "3.6.2"
  }
 },
 "nbformat": 4,
 "nbformat_minor": 2
}

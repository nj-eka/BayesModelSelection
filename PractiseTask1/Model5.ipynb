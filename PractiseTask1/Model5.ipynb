{
 "cells": [
  {
   "cell_type": "code",
   "execution_count": 1,
   "metadata": {},
   "outputs": [],
   "source": [
    "%matplotlib inline  \n",
    "import numpy as np \n",
    "import scipy as sp \n",
    "import pandas as pd \n",
    "import matplotlib.pyplot as plt \n",
    "import seaborn as sns \n",
    "from scipy.stats import norm  \n",
    "sns.set_style('white') \n",
    "sns.set_context('talk')  \n",
    "np.random.seed(123)\n",
    "\n",
    "import numpy as np\n",
    "\n",
    "import scipy.special as sp\n",
    "from scipy import integrate\n",
    "\n",
    "from sklearn import metrics\n",
    "\n",
    "from scipy.stats import multivariate_normal\n",
    "\n",
    "from scipy.stats import shapiro\n",
    "from scipy.stats import anderson\n",
    "\n",
    "from sklearn.preprocessing import scale\n",
    "from sklearn.model_selection import train_test_split\n",
    "\n",
    "from sklearn import svm\n",
    "\n",
    "from sklearn.mixture import BayesianGaussianMixture\n",
    "\n",
    "from sklearn import naive_bayes\n",
    "\n",
    "from sklearn.feature_selection import SelectKBest\n",
    "from sklearn.feature_selection import chi2\n",
    "from sklearn.feature_selection import f_classif\n",
    "from sklearn.feature_selection import mutual_info_classif\n",
    "\n",
    "\n",
    "from sklearn.model_selection import cross_val_score\n",
    "\n",
    "from sklearn.model_selection import cross_val_predict\n",
    "\n",
    "\n",
    "from sklearn import svm\n",
    "from imblearn.over_sampling import SMOTE, ADASYN\n"
   ]
  },
  {
   "cell_type": "code",
   "execution_count": 2,
   "metadata": {},
   "outputs": [],
   "source": [
    "def asy1(estimator, X, y):\n",
    "    Penalty_1 = np.array([[-10,10], [1,0]])\n",
    "    answ = np.int64(estimator.predict(X))\n",
    "    return np.sum(Penalty_1[y, answ])\n",
    "    \n",
    "def asy2(estimator, X, y):\n",
    "    Penalty_2 = np.array([[-1,2], [1,-1]])\n",
    "    answ = np.int64(estimator.predict(X))\n",
    "    return np.sum(Penalty_2[y, answ])\n",
    "\n",
    "def num(estimator, X, y):\n",
    "    answ = np.int64(estimator.predict(X))\n",
    "    return np.sum(np.abs(answ - y) > 0)\n",
    "\n",
    "def _num(y1, y2):\n",
    "    return np.sum(np.abs(y1 - y2) > 0)\n",
    "\n",
    "def _acc(y1, y2):\n",
    "    return np.sum(y1 == y2)\n",
    "\n",
    "def _asy1(y1, y2):\n",
    "    Penalty_1 = np.array([[-10,10], [1,0]])\n",
    "    return np.sum(Penalty_1[y1, y2])\n",
    "\n",
    "def _asy2(y1, y2):\n",
    "    Penalty_2 = np.array([[-1,2], [1,-1]])\n",
    "    return np.sum(Penalty_2[y1, y2])\n",
    "\n"
   ]
  },
  {
   "cell_type": "code",
   "execution_count": 3,
   "metadata": {},
   "outputs": [],
   "source": [
    "def replace_outliers(X, alpha):\n",
    "    num_features = X.shape[1]\n",
    "    q_low = X.quantile(alpha, axis=0)\n",
    "    q_up = X.quantile(1 - alpha, axis=0)\n",
    "    X_new = X.values.copy()\n",
    "    for i in range(num_features):\n",
    "        median = X[i].median()\n",
    "        for j in range(X.shape[0]):\n",
    "            if X_new[j][i] < q_low[i] or X_new[j][i] > q_up[i]:\n",
    "                X_new[j][i] = median\n",
    "    return X_new\n",
    "        \n",
    "    \n",
    "def comp(X, lower, upper):\n",
    "    outliers = []\n",
    "    for i in range(X.shape[0]):\n",
    "        if np.sum(X[i] < lower) + np.sum(X[i] > upper) > 0:\n",
    "            outliers.append(i)\n",
    "    return outliers\n",
    " \n",
    "def check_outliers(X, alpha = 0.25):\n",
    "    q25 = X.quantile(alpha, axis=0)\n",
    "    q75 = X.quantile(1-alpha, axis=0)\n",
    "    iqr = q75 - q25\n",
    "    cut_off = iqr * 1.75\n",
    "    lower, upper = q25 - cut_off, q75 + cut_off\n",
    "    outliers = comp(X.values, lower, upper)\n",
    "    return outliers"
   ]
  },
  {
   "cell_type": "code",
   "execution_count": 4,
   "metadata": {},
   "outputs": [],
   "source": [
    "np.random.seed(0)"
   ]
  },
  {
   "cell_type": "code",
   "execution_count": 5,
   "metadata": {},
   "outputs": [],
   "source": [
    "X_train_load = pd.read_csv('./data/task1_5_learn_X.csv',header=None, sep=' ').as_matrix()\n",
    "y_train_load = np.reshape(np.int64(pd.read_csv('./data/task1_5_learn_y.csv',header=None, sep=' ').as_matrix()), -1)\n",
    "\n",
    "X_test_load = pd.read_csv('./data/task1_5_test_X.csv',header=None, sep=' ').as_matrix()"
   ]
  },
  {
   "cell_type": "code",
   "execution_count": 6,
   "metadata": {},
   "outputs": [
    {
     "data": {
      "text/html": [
       "<div>\n",
       "<style scoped>\n",
       "    .dataframe tbody tr th:only-of-type {\n",
       "        vertical-align: middle;\n",
       "    }\n",
       "\n",
       "    .dataframe tbody tr th {\n",
       "        vertical-align: top;\n",
       "    }\n",
       "\n",
       "    .dataframe thead th {\n",
       "        text-align: right;\n",
       "    }\n",
       "</style>\n",
       "<table border=\"1\" class=\"dataframe\">\n",
       "  <thead>\n",
       "    <tr style=\"text-align: right;\">\n",
       "      <th></th>\n",
       "      <th>0</th>\n",
       "      <th>1</th>\n",
       "      <th>2</th>\n",
       "      <th>3</th>\n",
       "      <th>4</th>\n",
       "      <th>5</th>\n",
       "      <th>6</th>\n",
       "      <th>7</th>\n",
       "      <th>8</th>\n",
       "      <th>9</th>\n",
       "      <th>...</th>\n",
       "      <th>40</th>\n",
       "      <th>41</th>\n",
       "      <th>42</th>\n",
       "      <th>43</th>\n",
       "      <th>44</th>\n",
       "      <th>45</th>\n",
       "      <th>46</th>\n",
       "      <th>47</th>\n",
       "      <th>48</th>\n",
       "      <th>49</th>\n",
       "    </tr>\n",
       "  </thead>\n",
       "  <tbody>\n",
       "    <tr>\n",
       "      <th>count</th>\n",
       "      <td>825.000000</td>\n",
       "      <td>825.000000</td>\n",
       "      <td>825.000000</td>\n",
       "      <td>825.000000</td>\n",
       "      <td>825.000000</td>\n",
       "      <td>825.000000</td>\n",
       "      <td>825.000000</td>\n",
       "      <td>825.000000</td>\n",
       "      <td>825.000000</td>\n",
       "      <td>825.000000</td>\n",
       "      <td>...</td>\n",
       "      <td>825.000000</td>\n",
       "      <td>825.000000</td>\n",
       "      <td>825.000000</td>\n",
       "      <td>825.000000</td>\n",
       "      <td>825.000000</td>\n",
       "      <td>825.000000</td>\n",
       "      <td>825.000000</td>\n",
       "      <td>825.000000</td>\n",
       "      <td>825.000000</td>\n",
       "      <td>825.000000</td>\n",
       "    </tr>\n",
       "    <tr>\n",
       "      <th>mean</th>\n",
       "      <td>51.217510</td>\n",
       "      <td>40.010900</td>\n",
       "      <td>266.641564</td>\n",
       "      <td>151.310718</td>\n",
       "      <td>188.550365</td>\n",
       "      <td>20.668682</td>\n",
       "      <td>246.017131</td>\n",
       "      <td>35.003113</td>\n",
       "      <td>248.643614</td>\n",
       "      <td>40.011008</td>\n",
       "      <td>...</td>\n",
       "      <td>6.570545</td>\n",
       "      <td>121.348152</td>\n",
       "      <td>58.112808</td>\n",
       "      <td>-29.185405</td>\n",
       "      <td>0.690829</td>\n",
       "      <td>-6.591668</td>\n",
       "      <td>270.041628</td>\n",
       "      <td>-292.672099</td>\n",
       "      <td>379.606797</td>\n",
       "      <td>-27.023733</td>\n",
       "    </tr>\n",
       "    <tr>\n",
       "      <th>std</th>\n",
       "      <td>1916.980653</td>\n",
       "      <td>1497.516499</td>\n",
       "      <td>9979.856140</td>\n",
       "      <td>5663.234926</td>\n",
       "      <td>7057.019655</td>\n",
       "      <td>773.590087</td>\n",
       "      <td>9208.037085</td>\n",
       "      <td>1310.098923</td>\n",
       "      <td>9306.213137</td>\n",
       "      <td>1497.505170</td>\n",
       "      <td>...</td>\n",
       "      <td>5446.761379</td>\n",
       "      <td>4382.164948</td>\n",
       "      <td>2091.557347</td>\n",
       "      <td>7545.961821</td>\n",
       "      <td>529.603094</td>\n",
       "      <td>1231.532474</td>\n",
       "      <td>5423.923011</td>\n",
       "      <td>8271.161462</td>\n",
       "      <td>7335.915924</td>\n",
       "      <td>956.598566</td>\n",
       "    </tr>\n",
       "    <tr>\n",
       "      <th>min</th>\n",
       "      <td>-6640.748129</td>\n",
       "      <td>-5187.644170</td>\n",
       "      <td>-34571.899053</td>\n",
       "      <td>-19618.408527</td>\n",
       "      <td>-24446.869206</td>\n",
       "      <td>-2679.851205</td>\n",
       "      <td>-31898.337622</td>\n",
       "      <td>-4538.401901</td>\n",
       "      <td>-32238.118667</td>\n",
       "      <td>-5187.603523</td>\n",
       "      <td>...</td>\n",
       "      <td>-16412.742421</td>\n",
       "      <td>-13441.165313</td>\n",
       "      <td>-7216.154021</td>\n",
       "      <td>-26317.493525</td>\n",
       "      <td>-1440.640200</td>\n",
       "      <td>-3737.641531</td>\n",
       "      <td>-16044.440120</td>\n",
       "      <td>-27638.483247</td>\n",
       "      <td>-24054.671596</td>\n",
       "      <td>-2748.341010</td>\n",
       "    </tr>\n",
       "    <tr>\n",
       "      <th>25%</th>\n",
       "      <td>-1180.119209</td>\n",
       "      <td>-921.901240</td>\n",
       "      <td>-6143.636109</td>\n",
       "      <td>-3486.483723</td>\n",
       "      <td>-4344.388951</td>\n",
       "      <td>-476.228417</td>\n",
       "      <td>-5668.779002</td>\n",
       "      <td>-806.522801</td>\n",
       "      <td>-5729.103624</td>\n",
       "      <td>-921.885820</td>\n",
       "      <td>...</td>\n",
       "      <td>-3462.148238</td>\n",
       "      <td>-2777.027771</td>\n",
       "      <td>-1297.072343</td>\n",
       "      <td>-5273.055435</td>\n",
       "      <td>-358.466169</td>\n",
       "      <td>-864.064167</td>\n",
       "      <td>-3303.140474</td>\n",
       "      <td>-6032.867444</td>\n",
       "      <td>-4643.568352</td>\n",
       "      <td>-639.110908</td>\n",
       "    </tr>\n",
       "    <tr>\n",
       "      <th>50%</th>\n",
       "      <td>-11.806047</td>\n",
       "      <td>-9.199941</td>\n",
       "      <td>-61.504062</td>\n",
       "      <td>-34.846866</td>\n",
       "      <td>-43.687624</td>\n",
       "      <td>-4.776866</td>\n",
       "      <td>-56.750160</td>\n",
       "      <td>-8.052006</td>\n",
       "      <td>-57.325787</td>\n",
       "      <td>-9.210766</td>\n",
       "      <td>...</td>\n",
       "      <td>173.832986</td>\n",
       "      <td>130.435697</td>\n",
       "      <td>16.350993</td>\n",
       "      <td>-50.957639</td>\n",
       "      <td>-21.609337</td>\n",
       "      <td>-27.487198</td>\n",
       "      <td>62.914775</td>\n",
       "      <td>-175.174578</td>\n",
       "      <td>491.955592</td>\n",
       "      <td>-74.822854</td>\n",
       "    </tr>\n",
       "    <tr>\n",
       "      <th>75%</th>\n",
       "      <td>1452.603755</td>\n",
       "      <td>1134.732730</td>\n",
       "      <td>7562.363326</td>\n",
       "      <td>4291.294985</td>\n",
       "      <td>5347.571160</td>\n",
       "      <td>586.194835</td>\n",
       "      <td>6977.655975</td>\n",
       "      <td>992.735002</td>\n",
       "      <td>7051.809507</td>\n",
       "      <td>1134.740120</td>\n",
       "      <td>...</td>\n",
       "      <td>3530.812431</td>\n",
       "      <td>3112.717474</td>\n",
       "      <td>1490.956269</td>\n",
       "      <td>5234.042278</td>\n",
       "      <td>364.798303</td>\n",
       "      <td>817.081198</td>\n",
       "      <td>4081.902732</td>\n",
       "      <td>5759.704247</td>\n",
       "      <td>5687.515246</td>\n",
       "      <td>633.657897</td>\n",
       "    </tr>\n",
       "    <tr>\n",
       "      <th>max</th>\n",
       "      <td>5637.328736</td>\n",
       "      <td>4403.785574</td>\n",
       "      <td>29348.110905</td>\n",
       "      <td>16654.108107</td>\n",
       "      <td>20752.854650</td>\n",
       "      <td>2274.923828</td>\n",
       "      <td>27078.324382</td>\n",
       "      <td>3852.654052</td>\n",
       "      <td>27366.986911</td>\n",
       "      <td>4403.755830</td>\n",
       "      <td>...</td>\n",
       "      <td>18302.328234</td>\n",
       "      <td>12276.952334</td>\n",
       "      <td>6434.242120</td>\n",
       "      <td>25490.401150</td>\n",
       "      <td>1703.633296</td>\n",
       "      <td>4308.371014</td>\n",
       "      <td>14656.687160</td>\n",
       "      <td>20549.919473</td>\n",
       "      <td>22916.561208</td>\n",
       "      <td>3339.002276</td>\n",
       "    </tr>\n",
       "  </tbody>\n",
       "</table>\n",
       "<p>8 rows × 50 columns</p>\n",
       "</div>"
      ],
      "text/plain": [
       "                0            1             2             3             4   \\\n",
       "count   825.000000   825.000000    825.000000    825.000000    825.000000   \n",
       "mean     51.217510    40.010900    266.641564    151.310718    188.550365   \n",
       "std    1916.980653  1497.516499   9979.856140   5663.234926   7057.019655   \n",
       "min   -6640.748129 -5187.644170 -34571.899053 -19618.408527 -24446.869206   \n",
       "25%   -1180.119209  -921.901240  -6143.636109  -3486.483723  -4344.388951   \n",
       "50%     -11.806047    -9.199941    -61.504062    -34.846866    -43.687624   \n",
       "75%    1452.603755  1134.732730   7562.363326   4291.294985   5347.571160   \n",
       "max    5637.328736  4403.785574  29348.110905  16654.108107  20752.854650   \n",
       "\n",
       "                5             6            7             8            9   \\\n",
       "count   825.000000    825.000000   825.000000    825.000000   825.000000   \n",
       "mean     20.668682    246.017131    35.003113    248.643614    40.011008   \n",
       "std     773.590087   9208.037085  1310.098923   9306.213137  1497.505170   \n",
       "min   -2679.851205 -31898.337622 -4538.401901 -32238.118667 -5187.603523   \n",
       "25%    -476.228417  -5668.779002  -806.522801  -5729.103624  -921.885820   \n",
       "50%      -4.776866    -56.750160    -8.052006    -57.325787    -9.210766   \n",
       "75%     586.194835   6977.655975   992.735002   7051.809507  1134.740120   \n",
       "max    2274.923828  27078.324382  3852.654052  27366.986911  4403.755830   \n",
       "\n",
       "          ...                 40            41           42            43  \\\n",
       "count     ...         825.000000    825.000000   825.000000    825.000000   \n",
       "mean      ...           6.570545    121.348152    58.112808    -29.185405   \n",
       "std       ...        5446.761379   4382.164948  2091.557347   7545.961821   \n",
       "min       ...      -16412.742421 -13441.165313 -7216.154021 -26317.493525   \n",
       "25%       ...       -3462.148238  -2777.027771 -1297.072343  -5273.055435   \n",
       "50%       ...         173.832986    130.435697    16.350993    -50.957639   \n",
       "75%       ...        3530.812431   3112.717474  1490.956269   5234.042278   \n",
       "max       ...       18302.328234  12276.952334  6434.242120  25490.401150   \n",
       "\n",
       "                44           45            46            47            48  \\\n",
       "count   825.000000   825.000000    825.000000    825.000000    825.000000   \n",
       "mean      0.690829    -6.591668    270.041628   -292.672099    379.606797   \n",
       "std     529.603094  1231.532474   5423.923011   8271.161462   7335.915924   \n",
       "min   -1440.640200 -3737.641531 -16044.440120 -27638.483247 -24054.671596   \n",
       "25%    -358.466169  -864.064167  -3303.140474  -6032.867444  -4643.568352   \n",
       "50%     -21.609337   -27.487198     62.914775   -175.174578    491.955592   \n",
       "75%     364.798303   817.081198   4081.902732   5759.704247   5687.515246   \n",
       "max    1703.633296  4308.371014  14656.687160  20549.919473  22916.561208   \n",
       "\n",
       "                49  \n",
       "count   825.000000  \n",
       "mean    -27.023733  \n",
       "std     956.598566  \n",
       "min   -2748.341010  \n",
       "25%    -639.110908  \n",
       "50%     -74.822854  \n",
       "75%     633.657897  \n",
       "max    3339.002276  \n",
       "\n",
       "[8 rows x 50 columns]"
      ]
     },
     "execution_count": 6,
     "metadata": {},
     "output_type": "execute_result"
    }
   ],
   "source": [
    "pd.DataFrame(X_train_load[np.where(y_train_load==0)]).describe()"
   ]
  },
  {
   "cell_type": "code",
   "execution_count": 7,
   "metadata": {},
   "outputs": [
    {
     "name": "stdout",
     "output_type": "stream",
     "text": [
      "(1000, 50)\n",
      "(1000,)\n",
      "(10000, 50)\n"
     ]
    }
   ],
   "source": [
    "print(X_train_load.shape)\n",
    "print(y_train_load.shape)\n",
    "print(X_test_load.shape)\n"
   ]
  },
  {
   "cell_type": "code",
   "execution_count": 8,
   "metadata": {},
   "outputs": [],
   "source": [
    "# X_train_load = replace_outliers(pd.DataFrame(X_train_load), 0.0141)\n",
    "# X_test_load = replace_outliers(pd.DataFrame(X_test_load), 0.0141)"
   ]
  },
  {
   "cell_type": "code",
   "execution_count": 9,
   "metadata": {},
   "outputs": [
    {
     "data": {
      "text/plain": [
       "SelectKBest(k=1, score_func=<function mutual_info_classif at 0x1144b7b70>)"
      ]
     },
     "execution_count": 9,
     "metadata": {},
     "output_type": "execute_result"
    }
   ],
   "source": [
    "# skb = SelectKBest(f_classif, k=1)\n",
    "skb = SelectKBest(mutual_info_classif, k=1)\n",
    "skb.fit(X_train_load, y_train_load)\n",
    "\n"
   ]
  },
  {
   "cell_type": "code",
   "execution_count": 10,
   "metadata": {},
   "outputs": [
    {
     "data": {
      "text/plain": [
       "[<matplotlib.lines.Line2D at 0x1152d7e80>]"
      ]
     },
     "execution_count": 10,
     "metadata": {},
     "output_type": "execute_result"
    },
    {
     "data": {
      "image/png": "[encoded data removed]",
      "text/plain": [
       "<matplotlib.figure.Figure at 0x107f476a0>"
      ]
     },
     "metadata": {},
     "output_type": "display_data"
    }
   ],
   "source": [
    "plt.plot(np.sort(skb.scores_)[::-1])"
   ]
  },
  {
   "cell_type": "code",
   "execution_count": 11,
   "metadata": {},
   "outputs": [
    {
     "data": {
      "text/plain": [
       "array([ 0.01671327,  0.01355971,  0.0083354 ,  0.00705872,  0.00162274,\n",
       "        0.00162274,  0.00158826,  0.00158826,  0.00152828,  0.00147967,\n",
       "        0.00144242,  0.00122967,  0.00111881,  0.00078548,  0.        ])"
      ]
     },
     "execution_count": 11,
     "metadata": {},
     "output_type": "execute_result"
    }
   ],
   "source": [
    "np.sort(skb.scores_)[::-1][:15]"
   ]
  },
  {
   "cell_type": "code",
   "execution_count": 12,
   "metadata": {},
   "outputs": [],
   "source": [
    "skb.k = 50"
   ]
  },
  {
   "cell_type": "code",
   "execution_count": 13,
   "metadata": {},
   "outputs": [],
   "source": [
    "X = skb.transform(scale(np.vstack([X_train_load, X_test_load])))\n",
    "# X = skb.transform(np.vstack([X_train_load, X_test_load]))\n",
    "# X = (X - np.mean(X, axis=0))/np.std(X, axis=0)\n",
    "\n",
    "X_train = X[:X_train_load.shape[0]]\n",
    "X_test = X[X_train_load.shape[0]:]\n",
    "\n",
    "y_train = np.array(y_train_load)\n",
    "\n",
    "\n"
   ]
  },
  {
   "cell_type": "code",
   "execution_count": 14,
   "metadata": {},
   "outputs": [
    {
     "name": "stdout",
     "output_type": "stream",
     "text": [
      "-8250 -1000\n",
      "175\n"
     ]
    }
   ],
   "source": [
    "print(_asy1(y_train, y_train), _asy2(y_train, y_train))\n",
    "print(np.sum(y_train))"
   ]
  },
  {
   "cell_type": "code",
   "execution_count": 15,
   "metadata": {},
   "outputs": [],
   "source": [
    "# plt.figure(figsize=(15,8))\n",
    "# sns.heatmap(pd.DataFrame(X_train).corr(), annot=True)"
   ]
  },
  {
   "cell_type": "code",
   "execution_count": 16,
   "metadata": {},
   "outputs": [],
   "source": [
    "saved_features = [0, 10, 20, 30, 40, 41,42,43,44,45,46,47,48,49]\n",
    "# saved_features = [0, 10, 11, 12, 13]\n",
    "X_train = X_train[:,saved_features]\n",
    "X_test = X_test[:,saved_features]"
   ]
  },
  {
   "cell_type": "code",
   "execution_count": 17,
   "metadata": {},
   "outputs": [],
   "source": [
    "# plt.figure(figsize=(15,8))\n",
    "# sns.heatmap(pd.DataFrame(X_train).corr(), annot=True)"
   ]
  },
  {
   "cell_type": "code",
   "execution_count": 18,
   "metadata": {},
   "outputs": [
    {
     "name": "stdout",
     "output_type": "stream",
     "text": [
      "(1000, 14)\n",
      "(1000,)\n",
      "(10000, 14)\n"
     ]
    }
   ],
   "source": [
    "print(X_train.shape)\n",
    "print(y_train.shape)\n",
    "print(X_test.shape)"
   ]
  },
  {
   "cell_type": "code",
   "execution_count": 19,
   "metadata": {},
   "outputs": [],
   "source": [
    "X_train_new, y_train_new = SMOTE().fit_sample(X_train, y_train)\n",
    "X_test_new = np.array(X_test)"
   ]
  },
  {
   "cell_type": "code",
   "execution_count": 20,
   "metadata": {},
   "outputs": [
    {
     "name": "stdout",
     "output_type": "stream",
     "text": [
      "(1650, 14) (10000, 14)\n"
     ]
    }
   ],
   "source": [
    "print(X_train_new.shape, X_test_new.shape)"
   ]
  },
  {
   "cell_type": "code",
   "execution_count": 21,
   "metadata": {},
   "outputs": [
    {
     "name": "stdout",
     "output_type": "stream",
     "text": [
      "-8250 -1650\n",
      "825\n"
     ]
    }
   ],
   "source": [
    "print(_asy1(y_train_new, y_train_new), _asy2(y_train_new, y_train_new))\n",
    "print(np.sum(y_train_new))"
   ]
  },
  {
   "cell_type": "code",
   "execution_count": 22,
   "metadata": {},
   "outputs": [
    {
     "name": "stdout",
     "output_type": "stream",
     "text": [
      "ACC 0.816363636364\n",
      "AUC 0.888959412305\n",
      "NUM 303\n",
      "ASY1 -4774\n",
      "ASY2 -877\n"
     ]
    }
   ],
   "source": [
    "rho = 0.5\n",
    "Predict = cross_val_predict(estimator=svm.SVC(probability=True, kernel='rbf'), X=X_train_new, y=y_train_new, cv = 10, method='predict_proba')\n",
    "\n",
    "\n",
    "print('ACC', metrics.accuracy_score(y_train_new, np.int64(Predict[:,1]>rho)))\n",
    "print('AUC', metrics.roc_auc_score(y_train_new, Predict[:,1]))\n",
    "print('NUM', _num(y_train_new, np.int64(Predict[:,1]>rho)))\n",
    "print('ASY1', _asy1(y_train_new, np.int64(Predict[:,1]>rho)))\n",
    "print('ASY2', _asy2(y_train_new, np.int64(Predict[:,1]>rho)))\n",
    "\n",
    "Predict_For_AUC = svm.SVC(probability=True, kernel='rbf').fit(X_train_new, y_train_new).predict(X_test_new)\n",
    "Predict_For_NUM = svm.SVC(probability=True, kernel='rbf').fit(X_train_new, y_train_new).predict(X_test_new)\n",
    "\n",
    "\n",
    "\n"
   ]
  },
  {
   "cell_type": "code",
   "execution_count": 23,
   "metadata": {},
   "outputs": [
    {
     "name": "stdout",
     "output_type": "stream",
     "text": [
      "ACC 0.573939393939\n",
      "AUC 0.890267768595\n",
      "NUM 703\n",
      "ASY1 -7319\n",
      "ASY2 -232\n"
     ]
    }
   ],
   "source": [
    "rho = 0.9\n",
    "Predict = cross_val_predict(estimator=svm.SVC(probability=True, kernel='rbf'), X=X_train_new, y=y_train_new, cv = 10, method='predict_proba')\n",
    "\n",
    "\n",
    "print('ACC', metrics.accuracy_score(y_train_new, np.int64(Predict[:,1]>rho)))\n",
    "print('AUC', metrics.roc_auc_score(y_train_new, Predict[:,1]))\n",
    "print('NUM', _num(y_train_new, np.int64(Predict[:,1]>rho)))\n",
    "print('ASY1', _asy1(y_train_new, np.int64(Predict[:,1]>rho)))\n",
    "print('ASY2', _asy2(y_train_new, np.int64(Predict[:,1]>rho)))\n",
    "\n",
    "Predict_For_ASY1 = svm.SVC(probability=True, kernel='rbf').fit(X_train_new, y_train_new).predict(X_test_new)\n",
    "\n",
    "\n"
   ]
  },
  {
   "cell_type": "code",
   "execution_count": 24,
   "metadata": {},
   "outputs": [
    {
     "name": "stdout",
     "output_type": "stream",
     "text": [
      "ACC 0.816363636364\n",
      "AUC 0.889995224977\n",
      "NUM 303\n",
      "ASY1 -6237\n",
      "ASY2 -954\n"
     ]
    }
   ],
   "source": [
    "rho = 0.66\n",
    "Predict = cross_val_predict(estimator=svm.SVC(probability=True, kernel='rbf'), X=X_train_new, y=y_train_new, cv = 10, method='predict_proba')\n",
    "\n",
    "\n",
    "print('ACC', metrics.accuracy_score(y_train_new, np.int64(Predict[:,1]>rho)))\n",
    "print('AUC', metrics.roc_auc_score(y_train_new, Predict[:,1]))\n",
    "print('NUM', _num(y_train_new, np.int64(Predict[:,1]>rho)))\n",
    "print('ASY1', _asy1(y_train_new, np.int64(Predict[:,1]>rho)))\n",
    "print('ASY2', _asy2(y_train_new, np.int64(Predict[:,1]>rho)))\n",
    "\n",
    "Predict_For_ASY2 = svm.SVC(probability=True, kernel='rbf').fit(X_train_new, y_train_new).predict(X_test_new)\n",
    "\n",
    "\n"
   ]
  },
  {
   "cell_type": "code",
   "execution_count": 25,
   "metadata": {},
   "outputs": [],
   "source": [
    "pd.DataFrame(np.vstack([Predict_For_AUC, Predict_For_NUM, Predict_For_ASY1, Predict_For_ASY2]).T).to_csv('task1_5_answ.csv', sep = ',')\n"
   ]
  }
 ],
 "metadata": {
  "kernelspec": {
   "display_name": "Python 3",
   "language": "python",
   "name": "python3"
  },
  "language_info": {
   "codemirror_mode": {
    "name": "ipython",
    "version": 3
   },
   "file_extension": ".py",
   "mimetype": "text/x-python",
   "name": "python",
   "nbconvert_exporter": "python",
   "pygments_lexer": "ipython3",
   "version": "3.6.2"
  }
 },
 "nbformat": 4,
 "nbformat_minor": 2
}

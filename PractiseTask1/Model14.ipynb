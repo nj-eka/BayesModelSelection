{
 "cells": [
  {
   "cell_type": "code",
   "execution_count": 1,
   "metadata": {},
   "outputs": [],
   "source": [
    "%matplotlib inline  \n",
    "import numpy as np \n",
    "import scipy as sp \n",
    "import pandas as pd \n",
    "import matplotlib.pyplot as plt \n",
    "import seaborn as sns \n",
    "from scipy.stats import norm  \n",
    "sns.set_style('white') \n",
    "sns.set_context('talk')  \n",
    "np.random.seed(123)\n",
    "\n",
    "import numpy as np\n",
    "\n",
    "import scipy.special as sp\n",
    "from scipy import integrate\n",
    "\n",
    "from sklearn import metrics\n",
    "\n",
    "from scipy.stats import multivariate_normal\n",
    "\n",
    "from scipy.stats import shapiro\n",
    "from scipy.stats import anderson\n",
    "\n",
    "from sklearn.preprocessing import scale\n",
    "from sklearn.model_selection import train_test_split\n",
    "\n",
    "from sklearn import svm\n",
    "\n",
    "from sklearn.mixture import BayesianGaussianMixture\n",
    "\n",
    "from sklearn import naive_bayes\n",
    "\n",
    "from sklearn.feature_selection import SelectKBest\n",
    "from sklearn.feature_selection import chi2\n",
    "from sklearn.feature_selection import f_classif\n",
    "from sklearn.feature_selection import mutual_info_classif\n",
    "\n",
    "\n",
    "from sklearn.model_selection import cross_val_score\n",
    "\n",
    "from sklearn.model_selection import cross_val_predict\n",
    "\n",
    "\n",
    "from sklearn.linear_model import LogisticRegression\n"
   ]
  },
  {
   "cell_type": "code",
   "execution_count": 2,
   "metadata": {},
   "outputs": [],
   "source": [
    "def asy1(estimator, X, y):\n",
    "    Penalty_1 = np.array([[-10,10], [1,0]])\n",
    "    answ = np.int64(estimator.predict(X))\n",
    "    return np.sum(Penalty_1[y, answ])\n",
    "    \n",
    "def asy2(estimator, X, y):\n",
    "    Penalty_2 = np.array([[-1,2], [1,-1]])\n",
    "    answ = np.int64(estimator.predict(X))\n",
    "    return np.sum(Penalty_2[y, answ])\n",
    "\n",
    "def num(estimator, X, y):\n",
    "    answ = np.int64(estimator.predict(X))\n",
    "    return np.sum(np.abs(answ - y) > 0)\n",
    "\n",
    "def _num(y1, y2):\n",
    "    return np.sum(np.abs(y1 - y2) > 0)\n",
    "\n",
    "def _acc(y1, y2):\n",
    "    return np.sum(y1 == y2)\n",
    "\n",
    "def _asy1(y1, y2):\n",
    "    Penalty_1 = np.array([[-10,10], [1,0]])\n",
    "    return np.sum(Penalty_1[y1, y2])\n",
    "\n",
    "def _asy2(y1, y2):\n",
    "    Penalty_2 = np.array([[-1,2], [1,-1]])\n",
    "    return np.sum(Penalty_2[y1, y2])\n",
    "\n",
    "\n"
   ]
  },
  {
   "cell_type": "code",
   "execution_count": 3,
   "metadata": {},
   "outputs": [],
   "source": [
    "np.random.seed(0)"
   ]
  },
  {
   "cell_type": "code",
   "execution_count": 4,
   "metadata": {},
   "outputs": [],
   "source": [
    "X_train_load = pd.read_csv('./data/task1_14_learn_X.csv',header=None, sep=' ').as_matrix()\n",
    "y_train_load = np.reshape(np.int64(pd.read_csv('./data/task1_14_learn_y.csv',header=None, sep=' ').as_matrix()), -1)\n",
    "\n",
    "X_test_load = pd.read_csv('./data/task1_14_test_X.csv',header=None, sep=' ').as_matrix()"
   ]
  },
  {
   "cell_type": "code",
   "execution_count": 5,
   "metadata": {},
   "outputs": [
    {
     "data": {
      "image/png": "[encoded data removed]",
      "text/plain": [
       "<matplotlib.figure.Figure at 0x115225978>"
      ]
     },
     "metadata": {},
     "output_type": "display_data"
    }
   ],
   "source": [
    "plt.plot(np.mean(X_train_load[np.where(y_train_load==0)], axis = 0), label = 'answ 0')\n",
    "plt.plot(np.mean(X_train_load[np.where(y_train_load==1)], axis = 0), label = 'answ 1')\n",
    "\n",
    "plt.legend(loc='best')\n",
    "plt.savefig('Practise_14_FeatureMean.pdf')"
   ]
  },
  {
   "cell_type": "code",
   "execution_count": 6,
   "metadata": {},
   "outputs": [
    {
     "name": "stdout",
     "output_type": "stream",
     "text": [
      "(300000, 100)\n",
      "(300000,)\n",
      "(10000, 100)\n"
     ]
    }
   ],
   "source": [
    "print(X_train_load.shape)\n",
    "print(y_train_load.shape)\n",
    "print(X_test_load.shape)\n"
   ]
  },
  {
   "cell_type": "code",
   "execution_count": 7,
   "metadata": {},
   "outputs": [
    {
     "data": {
      "text/plain": [
       "SelectKBest(k=1, score_func=<function f_classif at 0x1141f5378>)"
      ]
     },
     "execution_count": 7,
     "metadata": {},
     "output_type": "execute_result"
    }
   ],
   "source": [
    "skb = SelectKBest(f_classif, k=1)\n",
    "# skb = SelectKBest(mutual_info_classif, k=1)\n",
    "# skb = SelectKBest(chi2, k=1)\n",
    "skb.fit(X_train_load, y_train_load)\n"
   ]
  },
  {
   "cell_type": "code",
   "execution_count": 8,
   "metadata": {},
   "outputs": [
    {
     "data": {
      "text/plain": [
       "array([  9.41873410e+04,   9.87303527e+03,   1.34745049e+03,\n",
       "         1.61694139e+02,   3.38903110e+01,   1.24013137e+01])"
      ]
     },
     "execution_count": 8,
     "metadata": {},
     "output_type": "execute_result"
    }
   ],
   "source": [
    "np.sort(skb.scores_)[::-1][:6]"
   ]
  },
  {
   "cell_type": "code",
   "execution_count": 9,
   "metadata": {},
   "outputs": [
    {
     "data": {
      "text/plain": [
       "[<matplotlib.lines.Line2D at 0x1158c0dd8>]"
      ]
     },
     "execution_count": 9,
     "metadata": {},
     "output_type": "execute_result"
    },
    {
     "data": {
      "image/png": "[encoded data removed]",
      "text/plain": [
       "<matplotlib.figure.Figure at 0x106431748>"
      ]
     },
     "metadata": {},
     "output_type": "display_data"
    }
   ],
   "source": [
    "plt.plot(np.sort(skb.scores_)[::-1])"
   ]
  },
  {
   "cell_type": "code",
   "execution_count": 10,
   "metadata": {},
   "outputs": [],
   "source": [
    "skb.k = 3"
   ]
  },
  {
   "cell_type": "code",
   "execution_count": 11,
   "metadata": {},
   "outputs": [],
   "source": [
    "# X = skb.transform(scale(np.vstack([X_train_load, X_test_load])))\n",
    "X = skb.transform(np.vstack([X_train_load, X_test_load]))\n",
    "# X = (X - np.mean(X, axis=0))/np.std(X, axis=0)\n",
    "\n",
    "X_train = X[:X_train_load.shape[0]]\n",
    "X_test = X[X_train_load.shape[0]:]\n",
    "\n",
    "y_train = np.array(y_train_load)\n",
    "\n"
   ]
  },
  {
   "cell_type": "code",
   "execution_count": 12,
   "metadata": {},
   "outputs": [
    {
     "data": {
      "text/html": [
       "<div>\n",
       "<style scoped>\n",
       "    .dataframe tbody tr th:only-of-type {\n",
       "        vertical-align: middle;\n",
       "    }\n",
       "\n",
       "    .dataframe tbody tr th {\n",
       "        vertical-align: top;\n",
       "    }\n",
       "\n",
       "    .dataframe thead th {\n",
       "        text-align: right;\n",
       "    }\n",
       "</style>\n",
       "<table border=\"1\" class=\"dataframe\">\n",
       "  <thead>\n",
       "    <tr style=\"text-align: right;\">\n",
       "      <th></th>\n",
       "      <th>0</th>\n",
       "      <th>1</th>\n",
       "      <th>2</th>\n",
       "    </tr>\n",
       "  </thead>\n",
       "  <tbody>\n",
       "    <tr>\n",
       "      <th>count</th>\n",
       "      <td>219109.000000</td>\n",
       "      <td>219109.000000</td>\n",
       "      <td>219109.000000</td>\n",
       "    </tr>\n",
       "    <tr>\n",
       "      <th>mean</th>\n",
       "      <td>-1354.720771</td>\n",
       "      <td>-297.732502</td>\n",
       "      <td>-163.249704</td>\n",
       "    </tr>\n",
       "    <tr>\n",
       "      <th>std</th>\n",
       "      <td>4012.079195</td>\n",
       "      <td>2754.790691</td>\n",
       "      <td>3821.741740</td>\n",
       "    </tr>\n",
       "    <tr>\n",
       "      <th>min</th>\n",
       "      <td>-21318.078463</td>\n",
       "      <td>-12235.518785</td>\n",
       "      <td>-16870.243463</td>\n",
       "    </tr>\n",
       "    <tr>\n",
       "      <th>25%</th>\n",
       "      <td>-4001.048182</td>\n",
       "      <td>-2152.662620</td>\n",
       "      <td>-2745.091198</td>\n",
       "    </tr>\n",
       "    <tr>\n",
       "      <th>50%</th>\n",
       "      <td>-1264.296222</td>\n",
       "      <td>-290.156475</td>\n",
       "      <td>-162.738202</td>\n",
       "    </tr>\n",
       "    <tr>\n",
       "      <th>75%</th>\n",
       "      <td>1385.329248</td>\n",
       "      <td>1561.538745</td>\n",
       "      <td>2428.527283</td>\n",
       "    </tr>\n",
       "    <tr>\n",
       "      <th>max</th>\n",
       "      <td>15383.534565</td>\n",
       "      <td>11636.835193</td>\n",
       "      <td>17506.857692</td>\n",
       "    </tr>\n",
       "  </tbody>\n",
       "</table>\n",
       "</div>"
      ],
      "text/plain": [
       "                   0              1              2\n",
       "count  219109.000000  219109.000000  219109.000000\n",
       "mean    -1354.720771    -297.732502    -163.249704\n",
       "std      4012.079195    2754.790691    3821.741740\n",
       "min    -21318.078463  -12235.518785  -16870.243463\n",
       "25%     -4001.048182   -2152.662620   -2745.091198\n",
       "50%     -1264.296222    -290.156475    -162.738202\n",
       "75%      1385.329248    1561.538745    2428.527283\n",
       "max     15383.534565   11636.835193   17506.857692"
      ]
     },
     "execution_count": 12,
     "metadata": {},
     "output_type": "execute_result"
    }
   ],
   "source": [
    "pd.DataFrame(X_train[np.where(y_train==0)]).describe()"
   ]
  },
  {
   "cell_type": "code",
   "execution_count": 13,
   "metadata": {},
   "outputs": [
    {
     "data": {
      "text/html": [
       "<div>\n",
       "<style scoped>\n",
       "    .dataframe tbody tr th:only-of-type {\n",
       "        vertical-align: middle;\n",
       "    }\n",
       "\n",
       "    .dataframe tbody tr th {\n",
       "        vertical-align: top;\n",
       "    }\n",
       "\n",
       "    .dataframe thead th {\n",
       "        text-align: right;\n",
       "    }\n",
       "</style>\n",
       "<table border=\"1\" class=\"dataframe\">\n",
       "  <thead>\n",
       "    <tr style=\"text-align: right;\">\n",
       "      <th></th>\n",
       "      <th>0</th>\n",
       "      <th>1</th>\n",
       "      <th>2</th>\n",
       "    </tr>\n",
       "  </thead>\n",
       "  <tbody>\n",
       "    <tr>\n",
       "      <th>count</th>\n",
       "      <td>80891.000000</td>\n",
       "      <td>80891.000000</td>\n",
       "      <td>80891.000000</td>\n",
       "    </tr>\n",
       "    <tr>\n",
       "      <th>mean</th>\n",
       "      <td>3633.348302</td>\n",
       "      <td>826.272887</td>\n",
       "      <td>414.421837</td>\n",
       "    </tr>\n",
       "    <tr>\n",
       "      <th>std</th>\n",
       "      <td>3778.792948</td>\n",
       "      <td>2735.327879</td>\n",
       "      <td>3834.225917</td>\n",
       "    </tr>\n",
       "    <tr>\n",
       "      <th>min</th>\n",
       "      <td>-14518.831112</td>\n",
       "      <td>-11193.855817</td>\n",
       "      <td>-16000.049104</td>\n",
       "    </tr>\n",
       "    <tr>\n",
       "      <th>25%</th>\n",
       "      <td>1118.420145</td>\n",
       "      <td>-1023.218885</td>\n",
       "      <td>-2168.965663</td>\n",
       "    </tr>\n",
       "    <tr>\n",
       "      <th>50%</th>\n",
       "      <td>3657.562775</td>\n",
       "      <td>828.648901</td>\n",
       "      <td>398.427552</td>\n",
       "    </tr>\n",
       "    <tr>\n",
       "      <th>75%</th>\n",
       "      <td>6160.879859</td>\n",
       "      <td>2667.873114</td>\n",
       "      <td>2999.256025</td>\n",
       "    </tr>\n",
       "    <tr>\n",
       "      <th>max</th>\n",
       "      <td>19689.016542</td>\n",
       "      <td>11934.247056</td>\n",
       "      <td>16765.827507</td>\n",
       "    </tr>\n",
       "  </tbody>\n",
       "</table>\n",
       "</div>"
      ],
      "text/plain": [
       "                  0             1             2\n",
       "count  80891.000000  80891.000000  80891.000000\n",
       "mean    3633.348302    826.272887    414.421837\n",
       "std     3778.792948   2735.327879   3834.225917\n",
       "min   -14518.831112 -11193.855817 -16000.049104\n",
       "25%     1118.420145  -1023.218885  -2168.965663\n",
       "50%     3657.562775    828.648901    398.427552\n",
       "75%     6160.879859   2667.873114   2999.256025\n",
       "max    19689.016542  11934.247056  16765.827507"
      ]
     },
     "execution_count": 13,
     "metadata": {},
     "output_type": "execute_result"
    }
   ],
   "source": [
    "pd.DataFrame(X_train[np.where(y_train==1)]).describe()"
   ]
  },
  {
   "cell_type": "code",
   "execution_count": 14,
   "metadata": {},
   "outputs": [
    {
     "name": "stdout",
     "output_type": "stream",
     "text": [
      "(300000, 3)\n",
      "(300000,)\n",
      "(10000, 3)\n"
     ]
    }
   ],
   "source": [
    "print(X_train.shape)\n",
    "print(y_train.shape)\n",
    "print(X_test.shape)"
   ]
  },
  {
   "cell_type": "code",
   "execution_count": 15,
   "metadata": {},
   "outputs": [
    {
     "data": {
      "image/png": "[encoded data removed]",
      "text/plain": [
       "<matplotlib.figure.Figure at 0x1064319b0>"
      ]
     },
     "metadata": {},
     "output_type": "display_data"
    }
   ],
   "source": [
    "plt.plot(np.mean(X_train[np.where(y_train==0)], axis = 0), label = 'answ 0')\n",
    "plt.plot(np.mean(X_train[np.where(y_train==1)], axis = 0), label = 'answ 1')\n",
    "\n",
    "plt.legend(loc='best')\n",
    "\n",
    "plt.savefig('Practise_14_FeatureMean.pdf')"
   ]
  },
  {
   "cell_type": "code",
   "execution_count": 16,
   "metadata": {},
   "outputs": [
    {
     "data": {
      "image/png": "[encoded data removed]",
      "text/plain": [
       "<matplotlib.figure.Figure at 0x1159a2908>"
      ]
     },
     "metadata": {},
     "output_type": "display_data"
    }
   ],
   "source": [
    "sns.distplot(X_train[np.where(y_train==0)][0], label = 'answ 0')\n",
    "sns.distplot(X_train[np.where(y_train==1)][0], label = 'answ 1')\n",
    "\n",
    "plt.savefig('Practise_14_Feature1.pdf')"
   ]
  },
  {
   "cell_type": "code",
   "execution_count": 17,
   "metadata": {},
   "outputs": [
    {
     "name": "stdout",
     "output_type": "stream",
     "text": [
      "-2191090 -300000\n",
      "80891\n"
     ]
    }
   ],
   "source": [
    "print(_asy1(y_train, y_train), _asy2(y_train, y_train))\n",
    "print(np.sum(y_train))"
   ]
  },
  {
   "cell_type": "code",
   "execution_count": 18,
   "metadata": {},
   "outputs": [],
   "source": [
    "# for i in range(X_train.shape[1]):\n",
    "#     print(anderson(X_train[np.where(y_train==1)][:,i])[0], anderson(X_train[np.where(y_train==0)][:,i])[0])\n",
    "    "
   ]
  },
  {
   "cell_type": "code",
   "execution_count": 19,
   "metadata": {},
   "outputs": [
    {
     "data": {
      "image/png": "[encoded data removed]",
      "text/plain": [
       "<matplotlib.figure.Figure at 0x1152e97b8>"
      ]
     },
     "metadata": {},
     "output_type": "display_data"
    }
   ],
   "source": [
    "sns.distplot(np.sum(X_train[np.where(y_train==0)]**1, axis = 1), label = 'answ 0')\n",
    "sns.distplot(np.sum(X_train[np.where(y_train==1)]**1, axis = 1), label = 'answ 1')\n",
    "\n",
    "plt.legend(loc='best')\n",
    "plt.savefig('Practise_14_Statistic.pdf')"
   ]
  },
  {
   "cell_type": "code",
   "execution_count": 20,
   "metadata": {},
   "outputs": [],
   "source": [
    "X_train_new = np.reshape(np.sum(X_train, axis = 1), [-1,1])\n",
    "X_test_new = np.reshape(np.sum(X_test, axis = 1), [-1,1])\n",
    "y_train_new = np.array(y_train)\n",
    "\n",
    "# X_train_new = np.reshape(np.hstack([X_train[:,0], np.sum(X_train, axis = 1)]), [-1,2])\n",
    "# X_test_new = np.reshape(np.hstack([X_test[:,0], np.sum(X_test, axis = 1)]), [-1,2])\n",
    "# y_train_new = np.array(y_train)"
   ]
  },
  {
   "cell_type": "code",
   "execution_count": 21,
   "metadata": {},
   "outputs": [
    {
     "name": "stdout",
     "output_type": "stream",
     "text": [
      "ACC 0.80639\n",
      "AUC 0.842065289851\n",
      "NUM 58083\n",
      "ASY1 -1796498\n",
      "ASY2 -166123\n"
     ]
    }
   ],
   "source": [
    "rho = 0.5\n",
    "Predict = cross_val_predict(estimator=LogisticRegression(penalty = 'l1'), X=X_train, y=y_train, cv = 10, method='predict_proba')\n",
    "\n",
    "\n",
    "print('ACC', metrics.accuracy_score(y_train, np.int64(Predict[:,1]>rho)))\n",
    "print('AUC', metrics.roc_auc_score(y_train, Predict[:,1]))\n",
    "print('NUM', _num(y_train, np.int64(Predict[:,1]>rho)))\n",
    "print('ASY1', _asy1(y_train, np.int64(Predict[:,1]>rho)))\n",
    "print('ASY2', _asy2(y_train, np.int64(Predict[:,1]>rho)))\n",
    "\n",
    "Predict_For_AUC = LogisticRegression(penalty = 'l1').fit(X_train, y_train).predict(X_test)\n",
    "Predict_For_NUM = LogisticRegression(penalty = 'l1').fit(X_train, y_train).predict(X_test)\n",
    "\n",
    "\n",
    "\n"
   ]
  },
  {
   "cell_type": "code",
   "execution_count": 22,
   "metadata": {},
   "outputs": [
    {
     "name": "stdout",
     "output_type": "stream",
     "text": [
      "ACC 0.74439\n",
      "AUC 0.842065226321\n",
      "NUM 76683\n",
      "ASY1 -2108992\n",
      "ASY2 -146349\n"
     ]
    }
   ],
   "source": [
    "rho = 0.9\n",
    "Predict = cross_val_predict(estimator=LogisticRegression(penalty = 'l1'), X=X_train, y=y_train, cv = 10, method='predict_proba')\n",
    "\n",
    "\n",
    "print('ACC', metrics.accuracy_score(y_train, np.int64(Predict[:,1]>rho)))\n",
    "print('AUC', metrics.roc_auc_score(y_train, Predict[:,1]))\n",
    "print('NUM', _num(y_train, np.int64(Predict[:,1]>rho)))\n",
    "print('ASY1', _asy1(y_train, np.int64(Predict[:,1]>rho)))\n",
    "print('ASY2', _asy2(y_train, np.int64(Predict[:,1]>rho)))\n",
    "\n",
    "Predict_For_ASY1 = LogisticRegression(penalty = 'l1').fit(X_train, y_train).predict(X_test)\n",
    "\n",
    "\n",
    "\n",
    "\n",
    "\n"
   ]
  },
  {
   "cell_type": "code",
   "execution_count": 23,
   "metadata": {},
   "outputs": [
    {
     "name": "stdout",
     "output_type": "stream",
     "text": [
      "ACC 0.800983333333\n",
      "AUC 0.842065177574\n",
      "NUM 59705\n",
      "ASY1 -1945033\n",
      "ASY2 -170782\n"
     ]
    }
   ],
   "source": [
    "rho = 0.6\n",
    "Predict = cross_val_predict(estimator=LogisticRegression(penalty = 'l1'), X=X_train, y=y_train, cv = 10, method='predict_proba')\n",
    "\n",
    "\n",
    "print('ACC', metrics.accuracy_score(y_train, np.int64(Predict[:,1]>rho)))\n",
    "print('AUC', metrics.roc_auc_score(y_train, Predict[:,1]))\n",
    "print('NUM', _num(y_train, np.int64(Predict[:,1]>rho)))\n",
    "print('ASY1', _asy1(y_train, np.int64(Predict[:,1]>rho)))\n",
    "print('ASY2', _asy2(y_train, np.int64(Predict[:,1]>rho)))\n",
    "\n",
    "Predict_For_ASY2 = LogisticRegression(penalty = 'l1').fit(X_train, y_train).predict(X_test)\n",
    "\n",
    "\n"
   ]
  },
  {
   "cell_type": "code",
   "execution_count": 24,
   "metadata": {},
   "outputs": [],
   "source": [
    "pd.DataFrame(np.vstack([Predict_For_AUC, Predict_For_NUM, Predict_For_ASY1, Predict_For_ASY2]).T).to_csv('task1_14_answ.csv', sep = ',')\n"
   ]
  }
 ],
 "metadata": {
  "kernelspec": {
   "display_name": "Python 3",
   "language": "python",
   "name": "python3"
  },
  "language_info": {
   "codemirror_mode": {
    "name": "ipython",
    "version": 3
   },
   "file_extension": ".py",
   "mimetype": "text/x-python",
   "name": "python",
   "nbconvert_exporter": "python",
   "pygments_lexer": "ipython3",
   "version": "3.6.2"
  }
 },
 "nbformat": 4,
 "nbformat_minor": 2
}

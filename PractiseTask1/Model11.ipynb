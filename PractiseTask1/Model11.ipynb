{
 "cells": [
  {
   "cell_type": "code",
   "execution_count": 1,
   "metadata": {},
   "outputs": [],
   "source": [
    "%matplotlib inline  \n",
    "import numpy as np \n",
    "import scipy as sp \n",
    "import pandas as pd \n",
    "import matplotlib.pyplot as plt \n",
    "import seaborn as sns \n",
    "from scipy.stats import norm  \n",
    "sns.set_style('white') \n",
    "sns.set_context('talk')  \n",
    "np.random.seed(123)\n",
    "\n",
    "import numpy as np\n",
    "\n",
    "import scipy.special as sp\n",
    "from scipy import integrate\n",
    "\n",
    "from sklearn import metrics\n",
    "\n",
    "from sklearn.preprocessing import StandardScaler\n",
    "\n",
    "from scipy.stats import multivariate_normal\n",
    "\n",
    "from sklearn.preprocessing import scale\n",
    "from sklearn.model_selection import train_test_split\n",
    "\n",
    "from sklearn import svm\n",
    "\n",
    "from sklearn.utils import shuffle\n",
    "\n",
    "from sklearn.mixture import BayesianGaussianMixture\n",
    "\n",
    "from sklearn import naive_bayes\n",
    "\n",
    "from sklearn.feature_selection import SelectKBest\n",
    "from sklearn.feature_selection import chi2\n",
    "from sklearn.feature_selection import f_classif\n",
    "from sklearn.feature_selection import mutual_info_classif\n",
    "\n",
    "from sklearn.linear_model import LogisticRegression\n",
    "\n",
    "\n",
    "from sklearn.model_selection import cross_val_score\n",
    "\n",
    "from sklearn.model_selection import cross_val_predict\n",
    "\n",
    "from imblearn.over_sampling import SMOTE, ADASYN"
   ]
  },
  {
   "cell_type": "code",
   "execution_count": 2,
   "metadata": {},
   "outputs": [],
   "source": [
    "def asy1(estimator, X, y):\n",
    "    Penalty_1 = np.array([[-10,10], [1,0]])\n",
    "    answ = np.int64(estimator.predict(X))\n",
    "    return np.sum(Penalty_1[y, answ])\n",
    "    \n",
    "def asy2(estimator, X, y):\n",
    "    Penalty_2 = np.array([[-1,2], [1,-1]])\n",
    "    answ = np.int64(estimator.predict(X))\n",
    "    return np.sum(Penalty_2[y, answ])\n",
    "\n",
    "def num(estimator, X, y):\n",
    "    answ = np.int64(estimator.predict(X))\n",
    "    return np.sum(np.abs(answ - y) > 0)\n",
    "\n",
    "def _num(y1, y2):\n",
    "    return np.sum(np.abs(y1 - y2) > 0)\n",
    "\n",
    "def _acc(y1, y2):\n",
    "    return np.sum(y1 == y2)\n",
    "\n",
    "def _asy1(y1, y2):\n",
    "    Penalty_1 = np.array([[-10,10], [1,0]])\n",
    "    return np.sum(Penalty_1[y1, y2])\n",
    "\n",
    "def _asy2(y1, y2):\n",
    "    Penalty_2 = np.array([[-1,2], [1,-1]])\n",
    "    return np.sum(Penalty_2[y1, y2])\n",
    "\n"
   ]
  },
  {
   "cell_type": "code",
   "execution_count": 3,
   "metadata": {},
   "outputs": [],
   "source": [
    "def replace_outliers(X, alpha):\n",
    "    num_features = X.shape[1]\n",
    "    q_low = X.quantile(alpha, axis=0)\n",
    "    q_up = X.quantile(1 - alpha, axis=0)\n",
    "    X_new = X.values.copy()\n",
    "    for i in range(num_features):\n",
    "        median = X[i].median()\n",
    "        for j in range(X.shape[0]):\n",
    "            if X_new[j][i] < q_low[i] or X_new[j][i] > q_up[i]:\n",
    "                X_new[j][i] = median\n",
    "    return X_new\n",
    "        \n",
    "    \n",
    "def comp(X, lower, upper):\n",
    "    outliers = []\n",
    "    for i in range(X.shape[0]):\n",
    "        if np.sum(X[i] < lower) + np.sum(X[i] > upper) > 0:\n",
    "            outliers.append(i)\n",
    "    return outliers\n",
    " \n",
    "def check_outliers(X, alpha = 0.25):\n",
    "    q25 = X.quantile(alpha, axis=0)\n",
    "    q75 = X.quantile(1-alpha, axis=0)\n",
    "    iqr = q75 - q25\n",
    "    cut_off = iqr * 1.75\n",
    "    lower, upper = q25 - cut_off, q75 + cut_off\n",
    "    outliers = comp(X.values, lower, upper)\n",
    "    return outliers"
   ]
  },
  {
   "cell_type": "code",
   "execution_count": 4,
   "metadata": {},
   "outputs": [],
   "source": [
    "np.random.seed(0)"
   ]
  },
  {
   "cell_type": "code",
   "execution_count": 5,
   "metadata": {},
   "outputs": [],
   "source": [
    "X_train_load = pd.read_csv('./data/task1_11_learn_X.csv',header=None, sep=' ').as_matrix()\n",
    "y_train_load = np.reshape(np.int64(pd.read_csv('./data/task1_11_learn_y.csv',header=None, sep=' ').as_matrix()), -1)\n",
    "\n",
    "X_test_load = pd.read_csv('./data/task1_11_test_X.csv',header=None, sep=' ').as_matrix()"
   ]
  },
  {
   "cell_type": "code",
   "execution_count": 6,
   "metadata": {},
   "outputs": [
    {
     "name": "stdout",
     "output_type": "stream",
     "text": [
      "(1000, 20)\n",
      "(1000,)\n",
      "(10000, 20)\n"
     ]
    }
   ],
   "source": [
    "print(X_train_load.shape)\n",
    "print(y_train_load.shape)\n",
    "print(X_test_load.shape)\n"
   ]
  },
  {
   "cell_type": "code",
   "execution_count": 7,
   "metadata": {
    "scrolled": true
   },
   "outputs": [
    {
     "data": {
      "text/html": [
       "<div>\n",
       "<style scoped>\n",
       "    .dataframe tbody tr th:only-of-type {\n",
       "        vertical-align: middle;\n",
       "    }\n",
       "\n",
       "    .dataframe tbody tr th {\n",
       "        vertical-align: top;\n",
       "    }\n",
       "\n",
       "    .dataframe thead th {\n",
       "        text-align: right;\n",
       "    }\n",
       "</style>\n",
       "<table border=\"1\" class=\"dataframe\">\n",
       "  <thead>\n",
       "    <tr style=\"text-align: right;\">\n",
       "      <th></th>\n",
       "      <th>0</th>\n",
       "      <th>1</th>\n",
       "      <th>2</th>\n",
       "      <th>3</th>\n",
       "      <th>4</th>\n",
       "      <th>5</th>\n",
       "      <th>6</th>\n",
       "      <th>7</th>\n",
       "      <th>8</th>\n",
       "      <th>9</th>\n",
       "      <th>10</th>\n",
       "      <th>11</th>\n",
       "      <th>12</th>\n",
       "      <th>13</th>\n",
       "      <th>14</th>\n",
       "      <th>15</th>\n",
       "      <th>16</th>\n",
       "      <th>17</th>\n",
       "      <th>18</th>\n",
       "      <th>19</th>\n",
       "    </tr>\n",
       "  </thead>\n",
       "  <tbody>\n",
       "    <tr>\n",
       "      <th>count</th>\n",
       "      <td>1000.000000</td>\n",
       "      <td>1000.000000</td>\n",
       "      <td>1000.000000</td>\n",
       "      <td>1000.000000</td>\n",
       "      <td>1000.000000</td>\n",
       "      <td>1000.000000</td>\n",
       "      <td>1000.000000</td>\n",
       "      <td>1000.000000</td>\n",
       "      <td>1000.000000</td>\n",
       "      <td>1000.000000</td>\n",
       "      <td>1000.000000</td>\n",
       "      <td>1000.000000</td>\n",
       "      <td>1000.000000</td>\n",
       "      <td>1000.000000</td>\n",
       "      <td>1000.000000</td>\n",
       "      <td>1000.000000</td>\n",
       "      <td>1000.000000</td>\n",
       "      <td>1000.000000</td>\n",
       "      <td>1000.000000</td>\n",
       "      <td>1000.000000</td>\n",
       "    </tr>\n",
       "    <tr>\n",
       "      <th>mean</th>\n",
       "      <td>0.042468</td>\n",
       "      <td>-0.033086</td>\n",
       "      <td>-0.005529</td>\n",
       "      <td>0.054143</td>\n",
       "      <td>0.014245</td>\n",
       "      <td>0.032539</td>\n",
       "      <td>-0.009645</td>\n",
       "      <td>0.010787</td>\n",
       "      <td>-0.053377</td>\n",
       "      <td>-0.016538</td>\n",
       "      <td>-0.047484</td>\n",
       "      <td>-0.033308</td>\n",
       "      <td>-0.020020</td>\n",
       "      <td>-0.017591</td>\n",
       "      <td>-0.067522</td>\n",
       "      <td>0.013534</td>\n",
       "      <td>-0.030464</td>\n",
       "      <td>0.003698</td>\n",
       "      <td>-0.000783</td>\n",
       "      <td>-0.064410</td>\n",
       "    </tr>\n",
       "    <tr>\n",
       "      <th>std</th>\n",
       "      <td>1.021183</td>\n",
       "      <td>0.982308</td>\n",
       "      <td>1.014234</td>\n",
       "      <td>0.950259</td>\n",
       "      <td>1.000361</td>\n",
       "      <td>0.998124</td>\n",
       "      <td>1.008284</td>\n",
       "      <td>0.991118</td>\n",
       "      <td>1.008160</td>\n",
       "      <td>0.993934</td>\n",
       "      <td>1.012489</td>\n",
       "      <td>0.993386</td>\n",
       "      <td>0.962257</td>\n",
       "      <td>0.991809</td>\n",
       "      <td>0.982905</td>\n",
       "      <td>0.963571</td>\n",
       "      <td>1.047724</td>\n",
       "      <td>0.999840</td>\n",
       "      <td>1.009764</td>\n",
       "      <td>0.974701</td>\n",
       "    </tr>\n",
       "    <tr>\n",
       "      <th>min</th>\n",
       "      <td>-3.325410</td>\n",
       "      <td>-3.053573</td>\n",
       "      <td>-3.527614</td>\n",
       "      <td>-2.862487</td>\n",
       "      <td>-2.961886</td>\n",
       "      <td>-2.637858</td>\n",
       "      <td>-3.132673</td>\n",
       "      <td>-3.646662</td>\n",
       "      <td>-3.511776</td>\n",
       "      <td>-4.135798</td>\n",
       "      <td>-3.335480</td>\n",
       "      <td>-3.558125</td>\n",
       "      <td>-3.035100</td>\n",
       "      <td>-3.689359</td>\n",
       "      <td>-3.169257</td>\n",
       "      <td>-2.997156</td>\n",
       "      <td>-3.249903</td>\n",
       "      <td>-3.274770</td>\n",
       "      <td>-3.024222</td>\n",
       "      <td>-3.663206</td>\n",
       "    </tr>\n",
       "    <tr>\n",
       "      <th>25%</th>\n",
       "      <td>-0.666140</td>\n",
       "      <td>-0.684727</td>\n",
       "      <td>-0.706011</td>\n",
       "      <td>-0.596563</td>\n",
       "      <td>-0.685630</td>\n",
       "      <td>-0.664661</td>\n",
       "      <td>-0.665505</td>\n",
       "      <td>-0.676832</td>\n",
       "      <td>-0.724360</td>\n",
       "      <td>-0.686041</td>\n",
       "      <td>-0.713737</td>\n",
       "      <td>-0.683707</td>\n",
       "      <td>-0.693254</td>\n",
       "      <td>-0.682489</td>\n",
       "      <td>-0.718520</td>\n",
       "      <td>-0.604808</td>\n",
       "      <td>-0.773741</td>\n",
       "      <td>-0.672606</td>\n",
       "      <td>-0.681743</td>\n",
       "      <td>-0.756117</td>\n",
       "    </tr>\n",
       "    <tr>\n",
       "      <th>50%</th>\n",
       "      <td>0.028518</td>\n",
       "      <td>-0.033021</td>\n",
       "      <td>-0.023356</td>\n",
       "      <td>0.034166</td>\n",
       "      <td>0.025118</td>\n",
       "      <td>0.024603</td>\n",
       "      <td>-0.013067</td>\n",
       "      <td>-0.019161</td>\n",
       "      <td>-0.078825</td>\n",
       "      <td>-0.014097</td>\n",
       "      <td>-0.051899</td>\n",
       "      <td>-0.049922</td>\n",
       "      <td>-0.030751</td>\n",
       "      <td>-0.001219</td>\n",
       "      <td>-0.016482</td>\n",
       "      <td>0.039562</td>\n",
       "      <td>-0.036194</td>\n",
       "      <td>-0.021975</td>\n",
       "      <td>0.010681</td>\n",
       "      <td>-0.034950</td>\n",
       "    </tr>\n",
       "    <tr>\n",
       "      <th>75%</th>\n",
       "      <td>0.721013</td>\n",
       "      <td>0.682240</td>\n",
       "      <td>0.707300</td>\n",
       "      <td>0.699918</td>\n",
       "      <td>0.667713</td>\n",
       "      <td>0.687578</td>\n",
       "      <td>0.644713</td>\n",
       "      <td>0.677472</td>\n",
       "      <td>0.611713</td>\n",
       "      <td>0.648095</td>\n",
       "      <td>0.664780</td>\n",
       "      <td>0.634722</td>\n",
       "      <td>0.621672</td>\n",
       "      <td>0.663375</td>\n",
       "      <td>0.599311</td>\n",
       "      <td>0.615307</td>\n",
       "      <td>0.694828</td>\n",
       "      <td>0.726782</td>\n",
       "      <td>0.672221</td>\n",
       "      <td>0.591585</td>\n",
       "    </tr>\n",
       "    <tr>\n",
       "      <th>max</th>\n",
       "      <td>3.514281</td>\n",
       "      <td>3.970436</td>\n",
       "      <td>3.608803</td>\n",
       "      <td>2.719529</td>\n",
       "      <td>3.099232</td>\n",
       "      <td>3.840840</td>\n",
       "      <td>2.890646</td>\n",
       "      <td>3.177667</td>\n",
       "      <td>2.930850</td>\n",
       "      <td>3.285870</td>\n",
       "      <td>3.877153</td>\n",
       "      <td>2.790109</td>\n",
       "      <td>2.936484</td>\n",
       "      <td>3.556809</td>\n",
       "      <td>3.068924</td>\n",
       "      <td>3.503933</td>\n",
       "      <td>2.903637</td>\n",
       "      <td>3.360040</td>\n",
       "      <td>2.996051</td>\n",
       "      <td>3.064670</td>\n",
       "    </tr>\n",
       "  </tbody>\n",
       "</table>\n",
       "</div>"
      ],
      "text/plain": [
       "                0            1            2            3            4   \\\n",
       "count  1000.000000  1000.000000  1000.000000  1000.000000  1000.000000   \n",
       "mean      0.042468    -0.033086    -0.005529     0.054143     0.014245   \n",
       "std       1.021183     0.982308     1.014234     0.950259     1.000361   \n",
       "min      -3.325410    -3.053573    -3.527614    -2.862487    -2.961886   \n",
       "25%      -0.666140    -0.684727    -0.706011    -0.596563    -0.685630   \n",
       "50%       0.028518    -0.033021    -0.023356     0.034166     0.025118   \n",
       "75%       0.721013     0.682240     0.707300     0.699918     0.667713   \n",
       "max       3.514281     3.970436     3.608803     2.719529     3.099232   \n",
       "\n",
       "                5            6            7            8            9   \\\n",
       "count  1000.000000  1000.000000  1000.000000  1000.000000  1000.000000   \n",
       "mean      0.032539    -0.009645     0.010787    -0.053377    -0.016538   \n",
       "std       0.998124     1.008284     0.991118     1.008160     0.993934   \n",
       "min      -2.637858    -3.132673    -3.646662    -3.511776    -4.135798   \n",
       "25%      -0.664661    -0.665505    -0.676832    -0.724360    -0.686041   \n",
       "50%       0.024603    -0.013067    -0.019161    -0.078825    -0.014097   \n",
       "75%       0.687578     0.644713     0.677472     0.611713     0.648095   \n",
       "max       3.840840     2.890646     3.177667     2.930850     3.285870   \n",
       "\n",
       "                10           11           12           13           14  \\\n",
       "count  1000.000000  1000.000000  1000.000000  1000.000000  1000.000000   \n",
       "mean     -0.047484    -0.033308    -0.020020    -0.017591    -0.067522   \n",
       "std       1.012489     0.993386     0.962257     0.991809     0.982905   \n",
       "min      -3.335480    -3.558125    -3.035100    -3.689359    -3.169257   \n",
       "25%      -0.713737    -0.683707    -0.693254    -0.682489    -0.718520   \n",
       "50%      -0.051899    -0.049922    -0.030751    -0.001219    -0.016482   \n",
       "75%       0.664780     0.634722     0.621672     0.663375     0.599311   \n",
       "max       3.877153     2.790109     2.936484     3.556809     3.068924   \n",
       "\n",
       "                15           16           17           18           19  \n",
       "count  1000.000000  1000.000000  1000.000000  1000.000000  1000.000000  \n",
       "mean      0.013534    -0.030464     0.003698    -0.000783    -0.064410  \n",
       "std       0.963571     1.047724     0.999840     1.009764     0.974701  \n",
       "min      -2.997156    -3.249903    -3.274770    -3.024222    -3.663206  \n",
       "25%      -0.604808    -0.773741    -0.672606    -0.681743    -0.756117  \n",
       "50%       0.039562    -0.036194    -0.021975     0.010681    -0.034950  \n",
       "75%       0.615307     0.694828     0.726782     0.672221     0.591585  \n",
       "max       3.503933     2.903637     3.360040     2.996051     3.064670  "
      ]
     },
     "execution_count": 7,
     "metadata": {},
     "output_type": "execute_result"
    }
   ],
   "source": [
    "pd.DataFrame(X_train_load).describe()"
   ]
  },
  {
   "cell_type": "code",
   "execution_count": 8,
   "metadata": {},
   "outputs": [
    {
     "data": {
      "image/png": "[encoded data removed]",
      "text/plain": [
       "<matplotlib.figure.Figure at 0x114a702e8>"
      ]
     },
     "metadata": {},
     "output_type": "display_data"
    }
   ],
   "source": [
    "plt.plot(np.mean(np.abs(X_train_load[np.where(y_train_load==0)]), axis = 0), label = 'answ 0')\n",
    "plt.plot(np.mean(np.abs(X_train_load[np.where(y_train_load==1)]), axis = 0), label = 'answ 1')\n",
    "\n",
    "plt.legend(loc='best')\n",
    "\n",
    "plt.savefig('Practise_11_FeatureMean.pdf')"
   ]
  },
  {
   "cell_type": "code",
   "execution_count": 9,
   "metadata": {},
   "outputs": [
    {
     "data": {
      "text/plain": [
       "SelectKBest(k=1, score_func=<function mutual_info_classif at 0x1144cbb70>)"
      ]
     },
     "execution_count": 9,
     "metadata": {},
     "output_type": "execute_result"
    }
   ],
   "source": [
    "# skb = SelectKBest(f_classif, k=1)\n",
    "skb = SelectKBest(mutual_info_classif, k=1)\n",
    "skb.fit(X_train_load, y_train_load)\n"
   ]
  },
  {
   "cell_type": "code",
   "execution_count": 10,
   "metadata": {},
   "outputs": [
    {
     "data": {
      "text/plain": [
       "[<matplotlib.lines.Line2D at 0x1151e7080>]"
      ]
     },
     "execution_count": 10,
     "metadata": {},
     "output_type": "execute_result"
    },
    {
     "data": {
      "image/png": "[encoded data removed]",
      "text/plain": [
       "<matplotlib.figure.Figure at 0x114a21780>"
      ]
     },
     "metadata": {},
     "output_type": "display_data"
    }
   ],
   "source": [
    "plt.plot(np.sort(skb.scores_)[::-1])"
   ]
  },
  {
   "cell_type": "code",
   "execution_count": 11,
   "metadata": {},
   "outputs": [
    {
     "data": {
      "text/plain": [
       "array([ 0.0370227 ,  0.03096486,  0.0283191 ,  0.0234253 ,  0.02334478,\n",
       "        0.01699664,  0.01252754,  0.01063673,  0.00725645,  0.00707752,\n",
       "        0.00674851,  0.00502937,  0.00035419,  0.        ])"
      ]
     },
     "execution_count": 11,
     "metadata": {},
     "output_type": "execute_result"
    }
   ],
   "source": [
    "np.sort(skb.scores_)[::-1][:14]"
   ]
  },
  {
   "cell_type": "code",
   "execution_count": 12,
   "metadata": {},
   "outputs": [],
   "source": [
    "skb.k = 20"
   ]
  },
  {
   "cell_type": "code",
   "execution_count": 13,
   "metadata": {},
   "outputs": [],
   "source": [
    "X = skb.transform(scale(np.vstack([X_train_load, X_test_load])))\n",
    "# X = skb.transform(np.vstack([X_train_load, X_test_load]))\n",
    "# X = (X - np.mean(X, axis=0))/np.std(X, axis=0)\n",
    "\n",
    "X_train = X[:X_train_load.shape[0]]\n",
    "X_test = X[X_train_load.shape[0]:]\n",
    "\n",
    "y_train = np.array(y_train_load)\n",
    "\n",
    "\n"
   ]
  },
  {
   "cell_type": "code",
   "execution_count": 14,
   "metadata": {},
   "outputs": [
    {
     "name": "stdout",
     "output_type": "stream",
     "text": [
      "(1000, 20)\n",
      "(1000,)\n",
      "(10000, 20)\n"
     ]
    }
   ],
   "source": [
    "print(X_train.shape)\n",
    "print(y_train.shape)\n",
    "print(X_test.shape)"
   ]
  },
  {
   "cell_type": "code",
   "execution_count": 15,
   "metadata": {},
   "outputs": [
    {
     "name": "stdout",
     "output_type": "stream",
     "text": [
      "-8090 -1000\n",
      "191\n"
     ]
    }
   ],
   "source": [
    "print(_asy1(y_train, y_train), _asy2(y_train, y_train))\n",
    "print(np.sum(y_train))"
   ]
  },
  {
   "cell_type": "code",
   "execution_count": 16,
   "metadata": {},
   "outputs": [],
   "source": [
    "X_train_new, y_train_new = ADASYN(n_neighbors=100).fit_sample(X_train, y_train)\n",
    "# X_train_new = np.array(X_train)\n",
    "# y_train_new = np.array(y_train)\n",
    "\n",
    "# ind = np.random.choice(np.where(y_train == 0)[0], size = 448)\n",
    "# X_train_new = np.vstack([X_train[np.where(y_train == 1)], X_train[ind]])\n",
    "# y_train_new = np.hstack([y_train[np.where(y_train == 1)], y_train[ind]])\n",
    "\n",
    "X_test_new = np.array(X_test)"
   ]
  },
  {
   "cell_type": "code",
   "execution_count": 17,
   "metadata": {},
   "outputs": [
    {
     "name": "stdout",
     "output_type": "stream",
     "text": [
      "(1619, 20) (10000, 20)\n"
     ]
    }
   ],
   "source": [
    "print(X_train_new.shape, X_test_new.shape)"
   ]
  },
  {
   "cell_type": "code",
   "execution_count": 18,
   "metadata": {},
   "outputs": [
    {
     "name": "stdout",
     "output_type": "stream",
     "text": [
      "-8090 -1619\n",
      "810\n"
     ]
    }
   ],
   "source": [
    "print(_asy1(y_train_new, y_train_new), _asy2(y_train_new, y_train_new))\n",
    "print(np.sum(y_train_new))"
   ]
  },
  {
   "cell_type": "code",
   "execution_count": 19,
   "metadata": {},
   "outputs": [
    {
     "name": "stdout",
     "output_type": "stream",
     "text": [
      "ACC 0.89005558987\n",
      "AUC 0.960812769919\n",
      "NUM 178\n",
      "ASY1 -6392\n",
      "ASY2 -1183\n"
     ]
    }
   ],
   "source": [
    "rho = 0.5\n",
    "Predict = cross_val_predict(estimator=naive_bayes.GaussianNB(), X=X_train_new, y=y_train_new, cv = 10, method='predict_proba')\n",
    "\n",
    "\n",
    "print('ACC', metrics.accuracy_score(y_train_new, np.int64(Predict[:,1] > rho)))\n",
    "print('AUC', metrics.roc_auc_score(y_train_new, Predict[:,1]))\n",
    "print('NUM', _num(y_train_new, np.int64(Predict[:,1] > rho)))\n",
    "print('ASY1', _asy1(y_train_new, np.int64(Predict[:,1] > rho)))\n",
    "print('ASY2', _asy2(y_train_new, np.int64(Predict[:,1] > rho)))\n",
    "\n",
    "Predict_For_AUC = naive_bayes.GaussianNB().fit(X_train_new, y_train_new).predict(X_test_new)\n",
    "Predict_For_NUM = naive_bayes.GaussianNB().fit(X_train_new, y_train_new).predict(X_test_new)\n",
    "\n"
   ]
  },
  {
   "cell_type": "code",
   "execution_count": 20,
   "metadata": {},
   "outputs": [
    {
     "name": "stdout",
     "output_type": "stream",
     "text": [
      "ACC 0.780111179741\n",
      "AUC 0.960812769919\n",
      "NUM 356\n",
      "ASY1 -7734\n",
      "ASY2 -907\n"
     ]
    }
   ],
   "source": [
    "rho = 0.9\n",
    "Predict = cross_val_predict(estimator=naive_bayes.GaussianNB(), X=X_train_new, y=y_train_new, cv = 10, method='predict_proba')\n",
    "\n",
    "\n",
    "print('ACC', metrics.accuracy_score(y_train_new, np.int64(Predict[:,1] > rho)))\n",
    "print('AUC', metrics.roc_auc_score(y_train_new, Predict[:,1]))\n",
    "print('NUM', _num(y_train_new, np.int64(Predict[:,1] > rho)))\n",
    "print('ASY1', _asy1(y_train_new, np.int64(Predict[:,1] > rho)))\n",
    "print('ASY2', _asy2(y_train_new, np.int64(Predict[:,1] > rho)))\n",
    "\n",
    "Predict_For_ASY1 = naive_bayes.GaussianNB().fit(X_train_new, y_train_new).predict(X_test_new)\n",
    "\n",
    "\n",
    "\n"
   ]
  },
  {
   "cell_type": "code",
   "execution_count": 21,
   "metadata": {},
   "outputs": [
    {
     "name": "stdout",
     "output_type": "stream",
     "text": [
      "ACC 0.880172946263\n",
      "AUC 0.960812769919\n",
      "NUM 194\n",
      "ASY1 -7174\n",
      "ASY2 -1193\n"
     ]
    }
   ],
   "source": [
    "rho = 0.66\n",
    "Predict = cross_val_predict(estimator=naive_bayes.GaussianNB(), X=X_train_new, y=y_train_new, cv = 10, method='predict_proba')\n",
    "\n",
    "\n",
    "print('ACC', metrics.accuracy_score(y_train_new, np.int64(Predict[:,1] > rho)))\n",
    "print('AUC', metrics.roc_auc_score(y_train_new, Predict[:,1]))\n",
    "print('NUM', _num(y_train_new, np.int64(Predict[:,1] > rho)))\n",
    "print('ASY1', _asy1(y_train_new, np.int64(Predict[:,1] > rho)))\n",
    "print('ASY2', _asy2(y_train_new, np.int64(Predict[:,1] > rho)))\n",
    "\n",
    "Predict_For_ASY2 = naive_bayes.GaussianNB().fit(X_train_new, y_train_new).predict(X_test_new)\n",
    "\n"
   ]
  },
  {
   "cell_type": "code",
   "execution_count": 22,
   "metadata": {},
   "outputs": [],
   "source": [
    "pd.DataFrame(np.vstack([Predict_For_AUC, Predict_For_NUM, Predict_For_ASY1, Predict_For_ASY2]).T).to_csv('task1_11_answ.csv', sep = ',')\n"
   ]
  }
 ],
 "metadata": {
  "kernelspec": {
   "display_name": "Python 3",
   "language": "python",
   "name": "python3"
  },
  "language_info": {
   "codemirror_mode": {
    "name": "ipython",
    "version": 3
   },
   "file_extension": ".py",
   "mimetype": "text/x-python",
   "name": "python",
   "nbconvert_exporter": "python",
   "pygments_lexer": "ipython3",
   "version": "3.6.2"
  }
 },
 "nbformat": 4,
 "nbformat_minor": 2
}

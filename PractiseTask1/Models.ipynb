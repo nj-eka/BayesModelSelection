{
 "cells": [
  {
   "cell_type": "code",
   "execution_count": 893,
   "metadata": {},
   "outputs": [],
   "source": [
    "%matplotlib inline  \n",
    "import numpy as np \n",
    "import scipy as sp \n",
    "import pandas as pd \n",
    "import matplotlib.pyplot as plt \n",
    "import seaborn as sns \n",
    "from scipy.stats import norm  \n",
    "sns.set_style('white') \n",
    "sns.set_context('talk')  \n",
    "np.random.seed(123)\n",
    "\n",
    "import numpy as np\n",
    "\n",
    "import scipy.special as sp\n",
    "from scipy import integrate\n",
    "\n",
    "from sklearn import metrics\n",
    "\n",
    "from scipy.stats import multivariate_normal\n",
    "\n",
    "from sklearn.preprocessing import scale\n",
    "from sklearn.model_selection import train_test_split\n",
    "\n",
    "from sklearn import svm\n",
    "\n",
    "from sklearn.mixture import BayesianGaussianMixture\n",
    "\n",
    "from sklearn import naive_bayes\n",
    "\n",
    "from sklearn.feature_selection import SelectKBest\n",
    "from sklearn.feature_selection import chi2\n",
    "from sklearn.feature_selection import f_classif\n",
    "from sklearn.feature_selection import mutual_info_classif\n",
    "\n",
    "from sklearn.feature_selection import \n",
    "\n",
    "from sklearn.model_selection import cross_val_score"
   ]
  },
  {
   "cell_type": "code",
   "execution_count": 2,
   "metadata": {},
   "outputs": [],
   "source": [
    "def print_err(y, B):\n",
    "    Penalty_1 = np.array([[-10,10], [1,0]])\n",
    "    Penalty_2 = np.array([[-1,2], [1,-1]])\n",
    "    \n",
    "    print('AUC', metrics.roc_auc_score(y, B[1]))\n",
    "    answ = np.argmax(B.T, axis=1)\n",
    "    print('NUM', np.sum(answ != y))\n",
    "\n",
    "    print('ASY1:', np.sum(Penalty_1[y, answ]))\n",
    "    print('ASY2:', np.sum(Penalty_2[y, answ]))\n",
    "\n",
    "    print('ACC:', np.sum(answ == y)/np.size(y))"
   ]
  },
  {
   "cell_type": "code",
   "execution_count": 3,
   "metadata": {},
   "outputs": [],
   "source": [
    "import EM as em"
   ]
  },
  {
   "cell_type": "code",
   "execution_count": 4,
   "metadata": {},
   "outputs": [],
   "source": [
    "def convert_bad_data(Data):\n",
    "    Data_list = []\n",
    "    for string in Data:\n",
    "        Data_list.append(np.array([float(i) for i in str(string[0]).split()]))\n",
    "    \n",
    "    return np.array(Data_list)"
   ]
  },
  {
   "cell_type": "code",
   "execution_count": 6,
   "metadata": {},
   "outputs": [],
   "source": [
    "def prob_class(X, mu, cov, w, count_of_labels = 2):\n",
    "    Sum = 0\n",
    "    for i in range(count_of_labels):\n",
    "        Sum += w[i]*multivariate_normal.pdf(x= X, mean= mu[i], cov= cov[i])\n",
    "        \n",
    "    Predicted = np.array([w[i]*multivariate_normal.pdf(x = X, mean= mu[i], cov= cov[i])/Sum for i in range(count_of_labels)])\n",
    "    return Predicted"
   ]
  },
  {
   "cell_type": "markdown",
   "metadata": {},
   "source": [
    "Задача 1"
   ]
  },
  {
   "cell_type": "code",
   "execution_count": 991,
   "metadata": {},
   "outputs": [],
   "source": [
    "np.random.seed(0)"
   ]
  },
  {
   "cell_type": "code",
   "execution_count": 992,
   "metadata": {},
   "outputs": [],
   "source": [
    "X_train_load = convert_bad_data(pd.read_csv('./data/task1_1_learn_X.csv').as_matrix())\n",
    "y_train_load = np.int64(np.reshape(pd.read_csv('./data/task1_1_learn_y.csv').as_matrix(), -1))\n",
    "\n",
    "X_test_load = convert_bad_data(pd.read_csv('./data/task1_1_test_X.csv').as_matrix())"
   ]
  },
  {
   "cell_type": "code",
   "execution_count": 993,
   "metadata": {},
   "outputs": [
    {
     "name": "stdout",
     "output_type": "stream",
     "text": [
      "(999, 20)\n",
      "(999,)\n",
      "(999, 20)\n"
     ]
    }
   ],
   "source": [
    "print(X_train_load.shape)\n",
    "print(y_train_load.shape)\n",
    "print(X_test_load.shape)"
   ]
  },
  {
   "cell_type": "code",
   "execution_count": 988,
   "metadata": {},
   "outputs": [
    {
     "data": {
      "text/plain": [
       "SelectKBest(k=20, score_func=<function f_classif at 0x1149f8378>)"
      ]
     },
     "execution_count": 988,
     "metadata": {},
     "output_type": "execute_result"
    }
   ],
   "source": [
    "NUM_K = 20\n",
    "skb = SelectKBest(f_classif, k=1)\n",
    "# skb = SelectKBest(mutual_info_classif, k=NUM_K)\n",
    "\n",
    "skb.fit(X_train_load, y_train_load)\n"
   ]
  },
  {
   "cell_type": "code",
   "execution_count": 989,
   "metadata": {},
   "outputs": [
    {
     "data": {
      "text/plain": [
       "array([ 254.7839687 ,  253.06982722,  215.0965004 ,   14.36097866,\n",
       "         12.74295154,   11.88314233,   10.83488993,   10.56890143,\n",
       "         10.56011027,   10.55855232])"
      ]
     },
     "execution_count": 989,
     "metadata": {},
     "output_type": "execute_result"
    }
   ],
   "source": [
    "np.sort(skb.scores_)[::-1][:10]"
   ]
  },
  {
   "cell_type": "code",
   "execution_count": 946,
   "metadata": {},
   "outputs": [],
   "source": [
    "NUM_K = 3"
   ]
  },
  {
   "cell_type": "code",
   "execution_count": 948,
   "metadata": {},
   "outputs": [],
   "source": [
    "# X = scale(np.vstack([X_train_load, X_test_load]))[:,np.where(skb.scores_ > skb.scores_[np.argsort(skb.scores_)[::-1][NUM_K]])[0]]\n",
    "X = np.vstack([X_train_load, X_test_load])[:,np.where(skb.scores_ >= skb.scores_[np.argsort(skb.scores_)[::-1][NUM_K-1]])[0]]\n",
    "X = (X - np.mean(X, axis=0))/np.std(X, axis=0)\n",
    "\n",
    "X = Pruning(X, percentage_of_deleted = 0.0)\n",
    "X_train = X[:X_train_load.shape[0]]\n",
    "X_test = X[X_train_load.shape[0]:]\n"
   ]
  },
  {
   "cell_type": "code",
   "execution_count": 949,
   "metadata": {},
   "outputs": [
    {
     "name": "stdout",
     "output_type": "stream",
     "text": [
      "(999, 3)\n",
      "(999, 3)\n",
      "(9999, 3)\n"
     ]
    }
   ],
   "source": [
    "print(X_train.shape)\n",
    "print(X_train.shape)\n",
    "print(X_test.shape)"
   ]
  },
  {
   "cell_type": "code",
   "execution_count": 950,
   "metadata": {},
   "outputs": [],
   "source": [
    "X_train, X_valid, y_train, y_valid = train_test_split(X_train, y_train_load, test_size = 0.1)\n"
   ]
  },
  {
   "cell_type": "code",
   "execution_count": 951,
   "metadata": {},
   "outputs": [
    {
     "name": "stdout",
     "output_type": "stream",
     "text": [
      "(899, 3)\n",
      "(100, 3)\n",
      "(899,)\n",
      "(100,)\n"
     ]
    }
   ],
   "source": [
    "print(X_train.shape)\n",
    "print(X_valid.shape)\n",
    "print(y_train.shape)\n",
    "print(y_valid.shape)"
   ]
  },
  {
   "cell_type": "code",
   "execution_count": 952,
   "metadata": {},
   "outputs": [],
   "source": [
    "M = np.array([np.mean(X_train[np.where(y_train == i)[0]], axis = 0) for i in range(2)])\n",
    "D = np.array([np.std(X_train[np.where(y_train == i)[0]], axis = 0) for i in range(2)])"
   ]
  },
  {
   "cell_type": "code",
   "execution_count": 953,
   "metadata": {},
   "outputs": [
    {
     "name": "stdout",
     "output_type": "stream",
     "text": [
      "Train\n",
      "AUC 0.963399219156\n",
      "NUM 96\n",
      "ASY1: -4708\n",
      "ASY2: -683\n",
      "ACC: 0.893214682981\n",
      "Test\n",
      "AUC 0.962121212121\n",
      "NUM 11\n",
      "ASY1: -592\n",
      "ASY2: -75\n",
      "ACC: 0.89\n"
     ]
    }
   ],
   "source": [
    "print('Train')\n",
    "print_err(y_train,\n",
    "          prob_class(X_train, \n",
    "                     mu=M, \n",
    "                     cov=[np.diag(D[i]) for i in range(2)],\n",
    "                     w = [np.sum(y_train ==i) for i in range(2)],\n",
    "                     count_of_labels = 2\n",
    "                    )\n",
    "          )\n",
    "print('Test')\n",
    "print_err(y_valid,\n",
    "          prob_class(X_valid, \n",
    "                     mu=M, \n",
    "                     cov=[np.diag(D[i]) for i in range(2)],\n",
    "                     w = [np.sum(y_train ==i) for i in range(2)],\n",
    "                     count_of_labels = 2\n",
    "                    )\n",
    "          )"
   ]
  },
  {
   "cell_type": "code",
   "execution_count": 985,
   "metadata": {},
   "outputs": [],
   "source": [
    "# _count_of_clasters = 2\n",
    "# _count_of_features = X_train.shape[1]\n",
    "# w = np.ones(shape = [_count_of_clasters])/_count_of_clasters\n",
    "\n",
    "# mu = np.reshape(np.random.rand(_count_of_clasters*_count_of_features), [_count_of_clasters, _count_of_features])\n",
    "\n",
    "# # mu = np.array(M)\n",
    "\n",
    "# cov = []\n",
    "# for i in range(_count_of_clasters):\n",
    "#     cov.append(np.eye(_count_of_features))\n",
    "    \n",
    "#     mu[i] *=-1**i\n",
    "    \n",
    "# cov = np.array(cov)\n",
    "\n",
    "# w, mu, cov = em.SEM_algorithm(X_train=X_train,\n",
    "#                              X_test=np.vstack([X_valid, X_test]),\n",
    "#                              y_train=y_train,\n",
    "#                              count_of_clasters=_count_of_clasters,\n",
    "#                              w=None,\n",
    "#                              mu=mu,\n",
    "#                              cov=None,\n",
    "#                              alpha=1.0,\n",
    "#                              Num=1000\n",
    "#                             )"
   ]
  },
  {
   "cell_type": "code",
   "execution_count": 980,
   "metadata": {},
   "outputs": [],
   "source": [
    "# clastering_train = np.argmax(prob_class(X_train, mu=mu, cov=cov, w=w,count_of_labels=_count_of_clasters).T, axis=1)\n",
    "# clastering_valid = np.argmax(prob_class(X_valid, mu=mu, cov=cov, w=w,count_of_labels=_count_of_clasters).T, axis=1)\n",
    "\n",
    "# Data_train = []\n",
    "# Answ_train = []\n",
    "# Data_valid = []\n",
    "# Answ_valid = []\n",
    "\n",
    "# Models = []\n",
    "# for i in range(_count_of_clasters):\n",
    "#     Data_train.append(X_train[np.where(clastering_train == i)])\n",
    "#     Answ_train.append(y_train[np.where(clastering_train == i)])\n",
    "#     Data_valid.append(X_valid[np.where(clastering_valid == i)])\n",
    "#     Answ_valid.append(y_valid[np.where(clastering_valid == i)])\n",
    "    \n",
    "#     Models.append(svm.SVC(probability=True, kernel='rbf'))\n",
    "# #     Models.append(naive_bayes.GaussianNB())\n"
   ]
  },
  {
   "cell_type": "code",
   "execution_count": 983,
   "metadata": {},
   "outputs": [],
   "source": [
    "# for i in range(_count_of_clasters):\n",
    "#     print(Data_train[i].shape, Answ_train[i].shape, np.sum(Answ_train[i]))\n",
    "#     Models[i].fit(Data_train[i], Answ_train[i])\n",
    "    "
   ]
  },
  {
   "cell_type": "code",
   "execution_count": 984,
   "metadata": {},
   "outputs": [],
   "source": [
    "# Answ = np.array([])\n",
    "# Predict = np.array([[], []])\n",
    "\n",
    "# for i in range(_count_of_clasters):\n",
    "#     Answ = np.hstack([Answ, Answ_valid[i]])\n",
    "#     if Data_valid[i].shape[0] != 0:\n",
    "#         Predict = np.hstack([Predict, Models[i].predict_proba(Data_valid[i]).T])\n",
    "        \n",
    "# #         print(cross_val_score(estimator=Models[i], X=np.vstack([Data_train[i], Data_valid[i]]), y=np.hstack([Answ_train[i], Answ_valid[i]]), scoring='roc_auc', cv = 10), \n",
    "# #               cross_val_score(estimator=Models[i], X=np.vstack([Data_train[i], Data_valid[i]]), y=np.hstack([Answ_train[i], Answ_valid[i]]), scoring='accuracy', cv = 10))\n",
    "# #         print(Models[i].predict_proba(Data_valid[i]).T)\n",
    "# #         print(Answ_valid[i])\n",
    "# #     print_err(Answ_valid[i], Models[i].predict_proba(Data_valid[i]).T)\n",
    "# #     print('')\n",
    "# Answ = np.int64(Answ)"
   ]
  },
  {
   "cell_type": "code",
   "execution_count": null,
   "metadata": {},
   "outputs": [],
   "source": [
    "print_err(Answ, Predict)"
   ]
  },
  {
   "cell_type": "code",
   "execution_count": 976,
   "metadata": {},
   "outputs": [],
   "source": [
    "def asy1(estimator, X, y):\n",
    "    Penalty_1 = np.array([[-10,10], [1,0]])\n",
    "    answ = np.int64(estimator.predict(X))\n",
    "    return np.sum(Penalty_1[y, answ])\n",
    "    \n",
    "def asy2(estimator, X, y):\n",
    "    Penalty_2 = np.array([[-1,2], [1,-1]])\n",
    "    answ = np.int64(estimator.predict(X))\n",
    "    return np.sum(Penalty_2[y, answ])\n",
    "\n",
    "def _asy1(y1, y2):\n",
    "    Penalty_1 = np.array([[-10,10], [1,0]])\n",
    "    return np.sum(Penalty_1[y1, y2])\n",
    "\n",
    "def _asy2(y1, y2):\n",
    "    Penalty_2 = np.array([[-1,2], [1,-1]])\n",
    "    return np.sum(Penalty_2[y1, y2])"
   ]
  },
  {
   "cell_type": "code",
   "execution_count": 977,
   "metadata": {},
   "outputs": [
    {
     "name": "stdout",
     "output_type": "stream",
     "text": [
      "-5920 -999\n"
     ]
    }
   ],
   "source": [
    "print(_asy1(np.hstack([y_train, y_valid]), np.hstack([y_train, y_valid])), _asy2(np.hstack([y_train, y_valid]), np.hstack([y_train, y_valid])))\n",
    "\n"
   ]
  },
  {
   "cell_type": "code",
   "execution_count": 974,
   "metadata": {},
   "outputs": [
    {
     "name": "stdout",
     "output_type": "stream",
     "text": [
      "[ 0.94634146  0.93861789  0.98801158  0.95700703  0.96279454  0.93385697\n",
      "  0.97478297  0.97245763  0.93347458  0.95084746]\n",
      "[ 0.87128713  0.86138614  0.95        0.89        0.91        0.92        0.9\n",
      "  0.88888889  0.85858586  0.85858586]\n",
      "[-454 -472 -547 -522 -562 -544 -523 -522 -462 -500]\n",
      "[-68 -67 -88 -75 -81 -82 -77 -74 -65 -67]\n"
     ]
    }
   ],
   "source": [
    "print(cross_val_score(estimator=svm.SVC(probability=True, kernel='rbf'), X=np.vstack([X_train, X_valid]),y=np.hstack([y_train, y_valid]) , scoring='roc_auc', cv = 10)) \n",
    "print(cross_val_score(estimator=svm.SVC(probability=True, kernel='rbf'), X=np.vstack([X_train, X_valid]),y=np.hstack([y_train, y_valid]) , scoring='accuracy', cv = 10))\n",
    "\n",
    "print(cross_val_score(estimator=svm.SVC(probability=True, kernel='rbf'), X=np.vstack([X_train, X_valid]),y=np.hstack([y_train, y_valid]) , scoring=asy1, cv = 10))\n",
    "print(cross_val_score(estimator=svm.SVC(probability=True, kernel='rbf'), X=np.vstack([X_train, X_valid]),y=np.hstack([y_train, y_valid]) , scoring=asy2, cv = 10))\n"
   ]
  },
  {
   "cell_type": "code",
   "execution_count": 990,
   "metadata": {},
   "outputs": [
    {
     "name": "stdout",
     "output_type": "stream",
     "text": [
      "[ 0.95081301  0.9495935   0.99173212  0.95328648  0.97023563  0.94584539\n",
      "  0.97602315  0.97415254  0.93898305  0.96101695]\n",
      "[ 0.88118812  0.86138614  0.93        0.87        0.92        0.91        0.91\n",
      "  0.86868687  0.88888889  0.85858586]\n",
      "[-474 -491 -545 -520 -563 -562 -562 -539 -522 -519]\n",
      "[-71 -68 -84 -71 -83 -81 -81 -71 -74 -68]\n"
     ]
    }
   ],
   "source": [
    "print(cross_val_score(estimator=naive_bayes.GaussianNB(), X=np.vstack([X_train, X_valid]),y=np.hstack([y_train, y_valid]) , scoring='roc_auc', cv = 10)) \n",
    "print(cross_val_score(estimator=naive_bayes.GaussianNB(), X=np.vstack([X_train, X_valid]),y=np.hstack([y_train, y_valid]) , scoring='accuracy', cv = 10))\n",
    "\n",
    "print(cross_val_score(estimator=naive_bayes.GaussianNB(), X=np.vstack([X_train, X_valid]),y=np.hstack([y_train, y_valid]) , scoring=asy1, cv = 10)) \n",
    "print(cross_val_score(estimator=naive_bayes.GaussianNB(), X=np.vstack([X_train, X_valid]),y=np.hstack([y_train, y_valid]) , scoring=asy2, cv = 10))\n",
    "\n"
   ]
  },
  {
   "cell_type": "code",
   "execution_count": null,
   "metadata": {},
   "outputs": [],
   "source": []
  }
 ],
 "metadata": {
  "kernelspec": {
   "display_name": "Python 3",
   "language": "python",
   "name": "python3"
  },
  "language_info": {
   "codemirror_mode": {
    "name": "ipython",
    "version": 3
   },
   "file_extension": ".py",
   "mimetype": "text/x-python",
   "name": "python",
   "nbconvert_exporter": "python",
   "pygments_lexer": "ipython3",
   "version": "3.6.2"
  }
 },
 "nbformat": 4,
 "nbformat_minor": 2
}

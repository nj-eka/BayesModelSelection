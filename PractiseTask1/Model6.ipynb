{
 "cells": [
  {
   "cell_type": "code",
   "execution_count": 1,
   "metadata": {},
   "outputs": [],
   "source": [
    "%matplotlib inline  \n",
    "import numpy as np \n",
    "import scipy as sp \n",
    "import pandas as pd \n",
    "import matplotlib.pyplot as plt \n",
    "import seaborn as sns \n",
    "from scipy.stats import norm  \n",
    "sns.set_style('white') \n",
    "sns.set_context('talk')  \n",
    "np.random.seed(123)\n",
    "\n",
    "import numpy as np\n",
    "\n",
    "import scipy.special as sp\n",
    "from scipy import integrate\n",
    "\n",
    "from sklearn import metrics\n",
    "\n",
    "from scipy.stats import multivariate_normal\n",
    "\n",
    "from scipy.stats import shapiro\n",
    "from scipy.stats import anderson\n",
    "\n",
    "from sklearn.preprocessing import scale\n",
    "from sklearn.model_selection import train_test_split\n",
    "\n",
    "from sklearn import svm\n",
    "\n",
    "from sklearn.mixture import BayesianGaussianMixture\n",
    "\n",
    "from sklearn import naive_bayes\n",
    "\n",
    "from sklearn.feature_selection import SelectKBest\n",
    "from sklearn.feature_selection import chi2\n",
    "from sklearn.feature_selection import f_classif\n",
    "from sklearn.feature_selection import mutual_info_classif\n",
    "\n",
    "\n",
    "from sklearn.model_selection import cross_val_score\n",
    "\n",
    "from sklearn.model_selection import cross_val_predict\n",
    "\n",
    "\n",
    "\n",
    "\n"
   ]
  },
  {
   "cell_type": "code",
   "execution_count": 2,
   "metadata": {},
   "outputs": [],
   "source": [
    "def asy1(estimator, X, y):\n",
    "    Penalty_1 = np.array([[-10,10], [1,0]])\n",
    "    answ = np.int64(estimator.predict(X))\n",
    "    return np.sum(Penalty_1[y, answ])\n",
    "    \n",
    "def asy2(estimator, X, y):\n",
    "    Penalty_2 = np.array([[-1,2], [1,-1]])\n",
    "    answ = np.int64(estimator.predict(X))\n",
    "    return np.sum(Penalty_2[y, answ])\n",
    "\n",
    "def num(estimator, X, y):\n",
    "    answ = np.int64(estimator.predict(X))\n",
    "    return np.sum(np.abs(answ - y) > 0)\n",
    "\n",
    "def _num(y1, y2):\n",
    "    return np.sum(np.abs(y1 - y2) > 0)\n",
    "\n",
    "def _acc(y1, y2):\n",
    "    return np.sum(y1 == y2)\n",
    "\n",
    "def _asy1(y1, y2):\n",
    "    Penalty_1 = np.array([[-10,10], [1,0]])\n",
    "    return np.sum(Penalty_1[y1, y2])\n",
    "\n",
    "def _asy2(y1, y2):\n",
    "    Penalty_2 = np.array([[-1,2], [1,-1]])\n",
    "    return np.sum(Penalty_2[y1, y2])\n",
    "\n",
    "\n"
   ]
  },
  {
   "cell_type": "code",
   "execution_count": 3,
   "metadata": {},
   "outputs": [],
   "source": [
    "np.random.seed(0)"
   ]
  },
  {
   "cell_type": "code",
   "execution_count": null,
   "metadata": {},
   "outputs": [],
   "source": [
    "X_train_load = pd.read_csv('./data/task1_6_learn_X.csv',header=None, sep=' ').as_matrix()\n",
    "y_train_load = np.reshape(np.int64(pd.read_csv('./data/task1_6_learn_y.csv',header=None, sep=' ').as_matrix()), -1)\n",
    "\n",
    "X_test_load = pd.read_csv('./data/task1_6_test_X.csv',header=None, sep=' ').as_matrix()"
   ]
  },
  {
   "cell_type": "code",
   "execution_count": null,
   "metadata": {},
   "outputs": [],
   "source": [
    "# for i in range(X_train_load.shape[1]):\n",
    "#     print(anderson(X_train_load[np.where(y_train_load==1)][:,i])[0], anderson(X_train_load[np.where(y_train_load==0)][:,i])[0])\n",
    "    "
   ]
  },
  {
   "cell_type": "code",
   "execution_count": null,
   "metadata": {},
   "outputs": [],
   "source": [
    "print(X_train_load.shape)\n",
    "print(y_train_load.shape)\n",
    "print(X_test_load.shape)\n"
   ]
  },
  {
   "cell_type": "code",
   "execution_count": null,
   "metadata": {},
   "outputs": [],
   "source": [
    "skb = SelectKBest(f_classif, k=1)\n",
    "# skb = SelectKBest(mutual_info_classif, k=1)\n",
    "skb.fit(X_train_load, y_train_load)\n"
   ]
  },
  {
   "cell_type": "code",
   "execution_count": null,
   "metadata": {},
   "outputs": [],
   "source": [
    "np.sort(skb.scores_)[::-1][:20]"
   ]
  },
  {
   "cell_type": "code",
   "execution_count": null,
   "metadata": {},
   "outputs": [],
   "source": [
    "skb.k = 3"
   ]
  },
  {
   "cell_type": "code",
   "execution_count": null,
   "metadata": {},
   "outputs": [],
   "source": [
    "X = skb.transform(scale(np.vstack([X_train_load, X_test_load])))\n",
    "# X = skb.transform(np.vstack([X_train_load, X_test_load]))\n",
    "# X = (X - np.mean(X, axis=0))/np.std(X, axis=0)\n",
    "\n",
    "X_train = X[:X_train_load.shape[0]]\n",
    "X_test = X[X_train_load.shape[0]:]\n",
    "\n",
    "y_train = np.array(y_train_load)\n",
    "\n"
   ]
  },
  {
   "cell_type": "code",
   "execution_count": null,
   "metadata": {},
   "outputs": [],
   "source": [
    "plt.plot(np.mean(X_train[np.where(y_train==0)], axis = 0), label = 'answ 0')\n",
    "plt.plot(np.mean(X_train[np.where(y_train==1)], axis = 0), label = 'answ 1')\n",
    "\n",
    "plt.legend(loc='best')\n",
    "\n",
    "plt.savefig('Practise_6_FeatureMean.pdf')"
   ]
  },
  {
   "cell_type": "code",
   "execution_count": null,
   "metadata": {},
   "outputs": [],
   "source": [
    "for i in range(X_train.shape[1]):\n",
    "    print(anderson(X_train[np.where(y_train==1)][:,i])[0], anderson(X_train[np.where(y_train==0)][:,i])[0])\n",
    "    "
   ]
  },
  {
   "cell_type": "code",
   "execution_count": null,
   "metadata": {},
   "outputs": [],
   "source": [
    "print(X_train.shape)\n",
    "print(y_train.shape)\n",
    "print(X_test.shape)"
   ]
  },
  {
   "cell_type": "code",
   "execution_count": null,
   "metadata": {},
   "outputs": [],
   "source": [
    "print(_asy1(y_train, y_train), _asy2(y_train, y_train))\n",
    "print(np.sum(y_train))"
   ]
  },
  {
   "cell_type": "code",
   "execution_count": null,
   "metadata": {},
   "outputs": [],
   "source": [
    "# Predict = cross_val_predict(estimator=svm.LinearSVC(C=0.01, penalty=\"l1\", dual=False), X=X_train, y=y_train, cv = 10, method='predict_proba')\n",
    "\n",
    "\n",
    "# print('ACC', metrics.accuracy_score(y_train, np.argmax(Predict, axis = 1)))\n",
    "# print('AUC', metrics.roc_auc_score(y_train, Predict[:,1]))\n",
    "# print('NUM', _num(y_train, np.argmax(Predict, axis = 1)))\n",
    "# print('ASY1', _asy1(y_train, np.argmax(Predict, axis = 1)))\n",
    "# print('ASY2', _asy2(y_train, np.argmax(Predict, axis = 1)))\n",
    "\n",
    "\n"
   ]
  },
  {
   "cell_type": "code",
   "execution_count": null,
   "metadata": {},
   "outputs": [],
   "source": [
    "sns.distplot(np.sum(X_train[np.where(y_train==0)], axis = 1), label = 'answ 0')\n",
    "sns.distplot(np.sum(X_train[np.where(y_train==1)], axis = 1), label = 'answ 1')\n",
    "\n",
    "plt.legend(loc='best')\n",
    "plt.savefig('Practise_6_Statistic.pdf')"
   ]
  },
  {
   "cell_type": "code",
   "execution_count": null,
   "metadata": {},
   "outputs": [],
   "source": [
    "X_train_new = np.reshape(np.sum(X_train, axis = 1), [-1,1])\n",
    "X_test_new = np.reshape(np.sum(X_test, axis = 1), [-1,1])\n",
    "y_train_new = np.array(y_train)"
   ]
  },
  {
   "cell_type": "code",
   "execution_count": null,
   "metadata": {},
   "outputs": [],
   "source": [
    "rho = 0.5\n",
    "Predict = cross_val_predict(estimator=naive_bayes.GaussianNB(), X=X_train_new, y=y_train_new, cv = 10, method='predict_proba')\n",
    "\n",
    "\n",
    "print('ACC', metrics.accuracy_score(y_train_new, np.int64(Predict[:,1]>rho)))\n",
    "print('AUC', metrics.roc_auc_score(y_train_new, Predict[:,1]))\n",
    "print('NUM', _num(y_train_new, np.int64(Predict[:,1]>rho)))\n",
    "print('ASY1', _asy1(y_train_new, np.int64(Predict[:,1]>rho)))\n",
    "print('ASY2', _asy2(y_train_new, np.int64(Predict[:,1]>rho)))\n",
    "\n",
    "Predict_For_AUC = np.int64(naive_bayes.GaussianNB().fit(X_train_new, y_train_new).predict_proba(X_test_new)[:,1]>rho)\n",
    "Predict_For_NUM = np.int64(naive_bayes.GaussianNB().fit(X_train_new, y_train_new).predict_proba(X_test_new)[:,1]>rho)\n",
    "\n",
    "\n"
   ]
  },
  {
   "cell_type": "code",
   "execution_count": null,
   "metadata": {},
   "outputs": [],
   "source": [
    "rho = 0.95\n",
    "Predict = cross_val_predict(estimator=naive_bayes.GaussianNB(), X=X_train_new, y=y_train_new, cv = 10, method='predict_proba')\n",
    "\n",
    "\n",
    "print('ACC', metrics.accuracy_score(y_train_new, np.int64(Predict[:,1]>rho)))\n",
    "print('AUC', metrics.roc_auc_score(y_train_new, Predict[:,1]))\n",
    "print('NUM', _num(y_train_new, np.int64(Predict[:,1]>rho)))\n",
    "print('ASY1', _asy1(y_train_new, np.int64(Predict[:,1]>rho)))\n",
    "print('ASY2', _asy2(y_train_new, np.int64(Predict[:,1]>rho)))\n",
    "\n",
    "Predict_For_ASY1 = np.int64(naive_bayes.GaussianNB().fit(X_train_new, y_train_new).predict_proba(X_test_new)[:,1]>rho)\n",
    "\n",
    "\n"
   ]
  },
  {
   "cell_type": "code",
   "execution_count": null,
   "metadata": {},
   "outputs": [],
   "source": [
    "rho = 0.6\n",
    "Predict = cross_val_predict(estimator=naive_bayes.GaussianNB(), X=X_train_new, y=y_train_new, cv = 10, method='predict_proba')\n",
    "\n",
    "\n",
    "print('ACC', metrics.accuracy_score(y_train_new, np.int64(Predict[:,1]>rho)))\n",
    "print('AUC', metrics.roc_auc_score(y_train_new, Predict[:,1]))\n",
    "print('NUM', _num(y_train_new, np.int64(Predict[:,1]>rho)))\n",
    "print('ASY1', _asy1(y_train_new, np.int64(Predict[:,1]>rho)))\n",
    "print('ASY2', _asy2(y_train_new, np.int64(Predict[:,1]>rho)))\n",
    "\n",
    "Predict_For_ASY2 = np.int64(naive_bayes.GaussianNB().fit(X_train_new, y_train_new).predict_proba(X_test_new)[:,1]>rho)\n",
    "\n"
   ]
  },
  {
   "cell_type": "code",
   "execution_count": null,
   "metadata": {},
   "outputs": [],
   "source": [
    "pd.DataFrame(np.vstack([Predict_For_AUC, Predict_For_NUM, Predict_For_ASY1, Predict_For_ASY2]).T).to_csv('task1_6_answ.csv', sep = ',')\n"
   ]
  },
  {
   "cell_type": "code",
   "execution_count": null,
   "metadata": {},
   "outputs": [],
   "source": [
    "# rho = 0.9\n",
    "# Predict = cross_val_predict(estimator=naive_bayes.GaussianNB(priors=[rho,1-rho]), X=X_train, y=y_train, cv = 10, method='predict_proba')\n",
    "\n",
    "\n",
    "# print('ACC', metrics.accuracy_score(y_train, np.argmax(Predict, axis = 1)))\n",
    "# print('AUC', metrics.roc_auc_score(y_train, Predict[:,1]))\n",
    "# print('NUM', _num(y_train, np.argmax(Predict, axis = 1)))\n",
    "# print('ASY1', _asy1(y_train, np.argmax(Predict, axis = 1)))\n",
    "# print('ASY2', _asy2(y_train, np.argmax(Predict, axis = 1)))\n",
    "\n"
   ]
  },
  {
   "cell_type": "code",
   "execution_count": null,
   "metadata": {},
   "outputs": [],
   "source": [
    "# Predict = cross_val_predict(estimator=svm.SVC(probability=True, kernel='rbf', class_weight='balanced'), X=X_train, y=y_train, cv = 10, method='predict_proba')\n",
    "\n",
    "\n",
    "# print('ACC', metrics.accuracy_score(y_train, np.argmax(Predict, axis = 1)))\n",
    "# print('AUC', metrics.roc_auc_score(y_train, Predict[:,1]))\n",
    "# print('NUM', _num(y_train, np.argmax(Predict, axis = 1)))\n",
    "# print('ASY1', _asy1(y_train, np.argmax(Predict, axis = 1)))\n",
    "# print('ASY2', _asy2(y_train, np.argmax(Predict, axis = 1)))\n",
    "\n"
   ]
  },
  {
   "cell_type": "code",
   "execution_count": null,
   "metadata": {},
   "outputs": [],
   "source": [
    "# Predict = cross_val_predict(estimator=svm.SVC(probability=True, kernel='linear', class_weight='balanced'), X=X_train, y=y_train, cv = 10, method='predict_proba')\n",
    "\n",
    "\n",
    "# print('ACC', metrics.accuracy_score(y_train, np.argmax(Predict, axis = 1)))\n",
    "# print('AUC', metrics.roc_auc_score(y_train, Predict[:,1]))\n",
    "# print('NUM', _num(y_train, np.argmax(Predict, axis = 1)))\n",
    "# print('ASY1', _asy1(y_train, np.argmax(Predict, axis = 1)))\n",
    "# print('ASY2', _asy2(y_train, np.argmax(Predict, axis = 1)))\n",
    "\n",
    "\n",
    "\n",
    "\n"
   ]
  }
 ],
 "metadata": {
  "kernelspec": {
   "display_name": "Python 3",
   "language": "python",
   "name": "python3"
  },
  "language_info": {
   "codemirror_mode": {
    "name": "ipython",
    "version": 3
   },
   "file_extension": ".py",
   "mimetype": "text/x-python",
   "name": "python",
   "nbconvert_exporter": "python",
   "pygments_lexer": "ipython3",
   "version": "3.6.2"
  }
 },
 "nbformat": 4,
 "nbformat_minor": 2
}

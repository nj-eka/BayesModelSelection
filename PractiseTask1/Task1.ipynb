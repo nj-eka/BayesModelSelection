{
 "cells": [
  {
   "cell_type": "code",
   "execution_count": 907,
   "metadata": {},
   "outputs": [],
   "source": [
    "%matplotlib inline  \n",
    "import numpy as np \n",
    "import scipy as sp \n",
    "import pandas as pd \n",
    "import matplotlib.pyplot as plt \n",
    "import seaborn as sns \n",
    "from scipy.stats import norm  \n",
    "sns.set_style('white') \n",
    "sns.set_context('talk')  \n",
    "np.random.seed(123)\n",
    "\n",
    "import numpy as np\n",
    "\n",
    "import scipy.special as sp\n",
    "from scipy import integrate\n",
    "\n",
    "from sklearn import metrics\n",
    "from sklearn.cluster import DBSCAN\n",
    "\n",
    "from sklearn.preprocessing import scale\n"
   ]
  },
  {
   "cell_type": "code",
   "execution_count": null,
   "metadata": {},
   "outputs": [],
   "source": [
    "# def CrosValidEM(X_train, y_train, cv = 10):\n",
    "#     Data_train = []\n",
    "#     Data_valid = []\n",
    "#     Answ_train = []\n",
    "#     Answ_valid = []\n",
    "    \n",
    "#     Return = []\n",
    "    \n",
    "#     for i in range(cv):\n",
    "#         x_t,  x_v, y_t, y_v = train_test_split(X_train, y_train_load, test_size = 1.0/cv)\n",
    "#         Data_train.append(x_t)\n",
    "#         Data_valid.append(x_v)\n",
    "#         Answ_train.append(y_t)\n",
    "#         Answ_valid.append(y_v)\n",
    "    \n",
    "#     for x_t,  x_v, y_t, y_v in zip(Data_train, Data_valid, Answ_train, Answ_valid):\n",
    "#         M = np.array([np.mean(x_t[np.where(y_t == i)[0]], axis = 0) for i in range(2)])\n",
    "#         D = np.array([np.std(x_t[np.where(y_t == i)[0]], axis = 0) for i in range(2)])\n",
    "\n",
    "#         w, mu, cov = em.EM_algorithm(X_train=x_t,\n",
    "#                                      X_test=X_test,\n",
    "#                                      y_train=y_t,\n",
    "#                                      count_of_clasters=2,\n",
    "#                                      w=None,\n",
    "#                                      mu=M,\n",
    "#                                      cov=None,\n",
    "#                                      alpha=0.0,\n",
    "#                                      Num=100\n",
    "#                                     )\n",
    "        \n",
    "#         Return.append([y_v, prob_class(x_v, mu, cov, w, count_of_labels = 2)[1]])\n",
    "#     return Return\n",
    "    \n",
    "    \n",
    "# a = CrosValidEM(X_train, y_train, cv = 10)\n",
    "# ACC = []\n",
    "# AUC = []\n",
    "# NUM = []\n",
    "# ASY1 = []\n",
    "# ASY2 = []\n",
    "\n",
    "\n",
    "# for b in a:\n",
    "#     ASY1.append(_asy1(b[0], np.int64((np.sign(b[1] - 0.5) + 1)/2)))\n",
    "#     ASY2.append(_asy2(b[0], np.int64((np.sign(b[1] - 0.5) + 1)/2)))\n",
    "#     AUC.append(metrics.roc_auc_score(b[0], b[1]))\n",
    "#     NUM.append(_num(b[0], np.int64((np.sign(b[1] - 0.5) + 1)/2)))\n",
    "#     ACC.append(_acc(b[0], np.int64((np.sign(b[1] - 0.5) + 1)/2)))\n",
    "    \n",
    "    \n",
    "# print('ACC:', np.mean(ACC), np.std(ACC))\n",
    "# print('AUC:', np.mean(AUC), np.std(AUC))\n",
    "# print('NUM:', np.mean(NUM), np.std(NUM))\n",
    "# print('ASY1:', np.mean(ASY1), np.std(ASY1))\n",
    "# print('ASY2:', np.mean(ASY2), np.std(ASY2))\n",
    "\n",
    "\n",
    "# ACC = cross_val_score(estimator=svm.SVC(probability=True, kernel='rbf'), X=X_train, y=y_train, scoring='roc_auc', cv = 10) \n",
    "# AUC = cross_val_score(estimator=svm.SVC(probability=True, kernel='rbf'), X=X_train, y=y_train, scoring='accuracy', cv = 10)\n",
    "# NUM = cross_val_score(estimator=svm.SVC(probability=True, kernel='rbf'), X=X_train, y=y_train, scoring=num, cv = 10)\n",
    "# ASY1 = cross_val_score(estimator=svm.SVC(probability=True, kernel='rbf'), X=X_train, y=y_train, scoring=asy1, cv = 10)\n",
    "# ASY2 = cross_val_score(estimator=svm.SVC(probability=True, kernel='rbf'), X=X_train, y=y_train, scoring=asy2, cv = 10)\n",
    "\n",
    "# print('ACC:', np.mean(ACC), np.std(ACC))\n",
    "# print('AUC:', np.mean(AUC), np.std(AUC))\n",
    "# print('NUM:', np.mean(AUC), np.std(AUC))\n",
    "# print('ASY1:', np.mean(ASY1), np.std(ASY1))\n",
    "# print('ASY2:', np.mean(ASY2), np.std(ASY2))\n"
   ]
  },
  {
   "cell_type": "code",
   "execution_count": 889,
   "metadata": {},
   "outputs": [],
   "source": [
    "def print_err(y, answ):\n",
    "    Penalty_1 = np.array([[-10,10], [1,0]])\n",
    "    Penalty_2 = np.array([[-1,2], [1,-1]])\n",
    "    \n",
    "    fpr, tpr, thresholds = metrics.roc_curve(y+1, answ+1, pos_label=2)\n",
    "    print('AUC', metrics.auc(fpr, tpr))\n",
    "\n",
    "    print('NUM', np.sum(answ != y))\n",
    "\n",
    "    print('ASY1:', np.sum(Penalty_1[y, answ]))\n",
    "    print('ASY2:', np.sum(Penalty_2[y, answ]))\n",
    "\n",
    "    print('ACC:', np.sum(answ == y)/np.size(y))\n",
    "    \n",
    "def print_err_from_list(error):\n",
    "    print('AUC', error[0])\n",
    "\n",
    "    print('NUM', error[1])\n",
    "\n",
    "    print('ASY1:', error[2])\n",
    "    print('ASY2:', error[3])\n",
    "\n",
    "    print('ACC:', error[4])\n",
    "    \n",
    "def get_err(y, answ):\n",
    "    Penalty_1 = np.array([[-10,10], [1,0]])\n",
    "    Penalty_2 = np.array([[-1,2], [1,-1]])\n",
    "    \n",
    "    fpr, tpr, thresholds = metrics.roc_curve(y+1, answ+1, pos_label=2)\n",
    "    \n",
    "    return metrics.auc(fpr, tpr), np.sum(answ != y), np.sum(Penalty_1[y, answ]), np.sum(Penalty_2[y, answ]), np.sum(answ == y)/np.size(y)"
   ]
  },
  {
   "cell_type": "code",
   "execution_count": 732,
   "metadata": {},
   "outputs": [],
   "source": [
    "def _p_norm(x, mu = np.zeros(shape = 1), var = np.eye(1, dtype=np.float)):\n",
    "    x = np.array(x)\n",
    "    mu = np.array(mu)\n",
    "    var = np.array(var)\n",
    "    n = np.size(mu)\n",
    "    m = x.shape[0]\n",
    "    res = []\n",
    "    for i in range(m):\n",
    "        coef = (1.0/np.sqrt((((2*np.pi)**n)*np.linalg.det(var))))\n",
    "        xi = x[i]\n",
    "        exp = np.exp(-0.5*np.matmul(np.reshape(xi-mu, [1,-1]), np.matmul(np.linalg.inv(var), np.reshape(xi-mu, [-1,1]))))[0][0]\n",
    "        res.append(coef*exp)\n",
    "    return np.array(res)\n",
    "\n",
    "def _p_norm_1d(x, mu = 0, var = 1.0):\n",
    "    return 1.0/(np.sqrt(2*np.pi*var))*np.exp(-((x - mu)**2)/(2*var))\n"
   ]
  },
  {
   "cell_type": "code",
   "execution_count": 1105,
   "metadata": {},
   "outputs": [],
   "source": [
    "def EM_algorithm(X, y_train, count_of_clasters = 2, mu = np.ones(shape=[2, 20]), Num = 50):\n",
    "    count_of_data = X.shape[0]\n",
    "    count_of_features = X.shape[1]\n",
    "#     mu = np.ones(shape=[count_of_clasters, count_of_features])\n",
    "#     mu = np.reshape(np.random.rand(count_of_clasters*count_of_features)- 0.5, [count_of_clasters, count_of_features])\n",
    "    w = np.ones(shape=[count_of_clasters])/count_of_clasters\n",
    "    cov = []\n",
    "    for i in range(count_of_clasters):\n",
    "        cov.append(np.eye(X.shape[1]))\n",
    "    cov = np.array(cov)\n",
    "    \n",
    "    g = np.zeros(shape=[count_of_clasters, count_of_data])\n",
    "    \n",
    "    for i in range(Num):\n",
    "# E-step\n",
    "        Sum = 0\n",
    "        for j in range(count_of_clasters):\n",
    "            p = _p_norm(X, mu[j], cov[j])\n",
    "            p[np.where(y_train==j)[0]] = 1\n",
    "            Sum += w[j]*p\n",
    "        for j in range(count_of_clasters):\n",
    "            p = _p_norm(X, mu[j], cov[j])\n",
    "            p[np.where(y_train==j)[0]] = 1\n",
    "            g[j] = w[j]*p\n",
    "#             g[j][np.where(y_train==j)[0]] = 1\n",
    "            \n",
    "# M-step\n",
    "        N = np.sum(g, axis=1)\n",
    "        for j in range(count_of_clasters):\n",
    "            mu[j] = 1.0/N[j] * np.sum(np.multiply(g[j], X.T), axis =1)\n",
    "            covariance = np.zeros_like(cov[j])\n",
    "            for t in range(count_of_data):\n",
    "                covariance += g[j][t] * np.matmul(np.reshape(X[t] - mu[j], [-1,1]), np.reshape(X[t] - mu[j], [1,-1]))\n",
    "            cov[j] = 1.0/N[j] * covariance\n",
    "        \n",
    "        w = N/count_of_data\n",
    "        \n",
    "    return mu, cov"
   ]
  },
  {
   "cell_type": "code",
   "execution_count": 482,
   "metadata": {},
   "outputs": [],
   "source": [
    "def Belsly(X):\n",
    "    CovarianceMatrix = np.cov(X.T)\n",
    "    U, S, V =  np.linalg.svd(CovarianceMatrix)\n",
    "    S = np.sqrt(S)\n",
    "    \n",
    "    Q = np.zeros(shape = U.shape)\n",
    "    n = Q.shape[0]\n",
    "    for i in range(n):\n",
    "        Sum = sum((U[i] / S)**2)\n",
    "        for j in range(n):\n",
    "            Q[i,j] = ((U[i,j]/S[j])**2)/Sum\n",
    "    \n",
    "    ListOfIndex = np.abs(np.max(S)/np.array(S))\n",
    "\n",
    "    return Q, ListOfIndex"
   ]
  },
  {
   "cell_type": "code",
   "execution_count": 826,
   "metadata": {},
   "outputs": [],
   "source": [
    "from sklearn import svm\n",
    "from sklearn.ensemble import RandomForestClassifier\n",
    "from sklearn.ensemble import AdaBoostClassifier\n",
    "from sklearn.linear_model import LogisticRegression\n",
    "\n",
    "from sklearn.model_selection import train_test_split"
   ]
  },
  {
   "cell_type": "code",
   "execution_count": 827,
   "metadata": {},
   "outputs": [],
   "source": [
    "Models_list = [svm.SVC(kernel='rbf'), \n",
    "               RandomForestClassifier(n_estimators=100, max_depth=3, random_state=0), \n",
    "               LogisticRegression(random_state=0, solver='lbfgs', multi_class='multinomial'),\n",
    "                AdaBoostClassifier()]\n"
   ]
  },
  {
   "cell_type": "markdown",
   "metadata": {},
   "source": [
    "Задача 1"
   ]
  },
  {
   "cell_type": "code",
   "execution_count": 297,
   "metadata": {},
   "outputs": [],
   "source": [
    "def convert_bad_data(Data):\n",
    "    Data_list = []\n",
    "    for string in Data:\n",
    "        Data_list.append(np.array([float(i) for i in str(string[0]).split()]))\n",
    "    \n",
    "    return np.array(Data_list)"
   ]
  },
  {
   "cell_type": "code",
   "execution_count": 1108,
   "metadata": {},
   "outputs": [],
   "source": [
    "X_train = convert_bad_data(pd.read_csv('./data/task1_1_learn_X.csv').as_matrix())\n",
    "y_train = np.int64(np.reshape(pd.read_csv('./data/task1_1_learn_y.csv').as_matrix(), -1))\n",
    "\n",
    "X_test = convert_bad_data(pd.read_csv('./data/task1_1_test_X.csv').as_matrix())"
   ]
  },
  {
   "cell_type": "code",
   "execution_count": 1109,
   "metadata": {},
   "outputs": [],
   "source": [
    "X = scale(np.vstack([X_train, X_test]))"
   ]
  },
  {
   "cell_type": "code",
   "execution_count": 1110,
   "metadata": {},
   "outputs": [
    {
     "name": "stdout",
     "output_type": "stream",
     "text": [
      "(999, 20)\n",
      "(999, 20)\n"
     ]
    }
   ],
   "source": [
    "X_train = X[0:999]\n",
    "X_test = X[999:1999]\n",
    "print(X_train.shape)\n",
    "print(X_test.shape)"
   ]
  },
  {
   "cell_type": "code",
   "execution_count": 1111,
   "metadata": {},
   "outputs": [],
   "source": [
    "M = np.array([np.mean(X_train[np.where(y_train == 0)[0]].T, axis=1), np.mean(X_train[np.where(y_train == 1)[0]].T, axis=1)])\n",
    "D = np.array([np.std(X_train[np.where(y_train == 0)[0]].T, axis=1), np.std(X_train[np.where(y_train == 1)[0]].T, axis=1)])\n"
   ]
  },
  {
   "cell_type": "code",
   "execution_count": 1112,
   "metadata": {},
   "outputs": [
    {
     "name": "stdout",
     "output_type": "stream",
     "text": [
      "[[-0.12077668 -0.04348967 -0.1365637  -0.05275828 -0.13301657 -0.02688166\n",
      "  -0.09471607 -0.05376665 -0.0798722  -0.06409888 -0.11279741 -0.10844195\n",
      "  -0.10559884 -0.0029772  -0.09335749 -0.10795188 -0.06794247 -0.03708895\n",
      "   0.01565226 -0.00281591]\n",
      " [ 0.07434899  0.05343222  0.16443539  0.08234838  0.11576175  0.08180707\n",
      "   0.08586435  0.10301123  0.05550979  0.0747421   0.10576322  0.10890551\n",
      "   0.12144663  0.10894485  0.06999953  0.08176019  0.08421166  0.0791003\n",
      "   0.07569396  0.04164802]]\n"
     ]
    }
   ],
   "source": [
    "print(M)"
   ]
  },
  {
   "cell_type": "code",
   "execution_count": 1123,
   "metadata": {},
   "outputs": [],
   "source": [
    "count_of_clasters = 2\n",
    "count_of_features = 20\n",
    "mu, cov = EM_algorithm(np.vstack([X_train, X_test]), y_train, mu= mu, count_of_clasters=count_of_clasters, Num = 100)\n",
    "\n",
    "# np.reshape(np.random.rand(count_of_clasters*count_of_features)- 0.5, [count_of_clasters, count_of_features])"
   ]
  },
  {
   "cell_type": "code",
   "execution_count": 1124,
   "metadata": {},
   "outputs": [
    {
     "name": "stdout",
     "output_type": "stream",
     "text": [
      "[[-0.12077668 -0.04348967 -0.1365637  -0.05275828 -0.13301657 -0.02688166\n",
      "  -0.09471607 -0.05376665 -0.0798722  -0.06409888 -0.11279741 -0.10844195\n",
      "  -0.10559884 -0.0029772  -0.09335749 -0.10795188 -0.06794247 -0.03708895\n",
      "   0.01565226 -0.00281591]\n",
      " [ 0.07434899  0.05343222  0.16443539  0.08234838  0.11576175  0.08180707\n",
      "   0.08586435  0.10301123  0.05550979  0.0747421   0.10576322  0.10890551\n",
      "   0.12144663  0.10894485  0.06999953  0.08176019  0.08421166  0.0791003\n",
      "   0.07569396  0.04164802]]\n"
     ]
    }
   ],
   "source": [
    "print(mu)"
   ]
  },
  {
   "cell_type": "code",
   "execution_count": 1130,
   "metadata": {
    "scrolled": true
   },
   "outputs": [
    {
     "name": "stdout",
     "output_type": "stream",
     "text": [
      "125 (510,)\n",
      "357 (489,)\n"
     ]
    }
   ],
   "source": [
    "B = np.array([_p_norm(X_train, mu[0], cov[0]), _p_norm(X_train, mu[1], cov[1])]).T\n",
    "clustering = np.argmax(B, axis=1)\n",
    "Data = []\n",
    "Answ = []\n",
    "for i in range(2):\n",
    "    Data.append(np.array(X_train[np.where(clustering==i)]))\n",
    "    Answ.append(np.array(y_train[np.where(clustering==i)]))\n",
    "Data= np.array(Data)\n",
    "Answ= np.array(Answ)\n",
    "\n",
    "print(np.sum(Answ[0]), Answ[0].shape)\n",
    "print(np.sum(Answ[1]), Answ[1].shape)"
   ]
  },
  {
   "cell_type": "code",
   "execution_count": 1131,
   "metadata": {},
   "outputs": [],
   "source": [
    "answ3 = clustering"
   ]
  },
  {
   "cell_type": "code",
   "execution_count": 1126,
   "metadata": {},
   "outputs": [
    {
     "name": "stdout",
     "output_type": "stream",
     "text": [
      "125 (1013, 20)\n",
      "357 (985, 20)\n"
     ]
    }
   ],
   "source": [
    "B = np.array([_p_norm(np.vstack([X_train, X_test]), mu[0], cov[0]), _p_norm(np.vstack([X_train, X_test]), mu[1], cov[1])]).T\n",
    "clustering = np.argmax(B, axis=1)\n",
    "Data = []\n",
    "Answ = []\n",
    "for i in range(2):\n",
    "    Data.append(np.array(np.vstack([X_train, X_test])[np.where(clustering==i)]))\n",
    "    Answ.append(np.array(y_train[np.where(clustering[0:999]==i)]))\n",
    "Data= np.array(Data)\n",
    "Answ= np.array(Answ)\n",
    "\n",
    "print(np.sum(Answ[0]), Data[0].shape)\n",
    "print(np.sum(Answ[1]), Data[1].shape)"
   ]
  },
  {
   "cell_type": "code",
   "execution_count": 1128,
   "metadata": {},
   "outputs": [],
   "source": [
    "# Answer_test = []\n",
    "# Answer_train = []\n",
    "# Train_X, Test_X, Train_y, Test_y = train_test_split(X_train, y_train, test_size = 0.3)\n",
    "# for model in Models_list:\n",
    "#     model.fit(Train_X, Train_y)\n",
    "#     answ = model.predict(Test_X)\n",
    "#     Answer_test.append(get_err(Test_y, answ))\n",
    "#     answ = model.predict(Train_X)\n",
    "#     Answer_train.append(get_err(Train_y, answ))\n",
    "\n",
    "# for i in range(len(Models_list)):\n",
    "#     print_err_from_list(Answer_test[i])\n",
    "#     print_err_from_list(Answer_train[i])\n",
    "#     print('\\n\\n')"
   ]
  },
  {
   "cell_type": "code",
   "execution_count": 1132,
   "metadata": {},
   "outputs": [
    {
     "name": "stdout",
     "output_type": "stream",
     "text": [
      "(999,)\n",
      "Naive Bayes\n",
      "AUC 0.687833575447\n",
      "NUM 310\n",
      "ASY1: -2314\n",
      "ASY2: -245\n",
      "ACC: 0.68968968969\n",
      "\n",
      "EM\n",
      "AUC 0.742672375739\n",
      "NUM 257\n",
      "ASY1: -2405\n",
      "ASY2: -353\n",
      "ACC: 0.742742742743\n",
      "\n",
      "\n",
      "AUC 0.742672375739\n",
      "NUM 257\n",
      "ASY1: -2405\n",
      "ASY2: -353\n",
      "ACC: 0.742742742743\n"
     ]
    }
   ],
   "source": [
    "A = np.array([(1-np.sum(y_train)/np.size(y_train))*np.prod(_p_norm_1d(X_train, M[0], D[0]**2), axis = 1), np.sum(y_train)/np.size(y_train)*np.prod(_p_norm_1d(X_train, M[1], D[1]**2), axis = 1)]).T\n",
    "answ1 = np.argmax(A, axis=1)\n",
    "\n",
    "B = np.array([_p_norm(X_train, mu[0], cov[0]), _p_norm(X_train, mu[1], cov[1])]).T\n",
    "answ2 = np.argmax(B, axis=1)\n",
    "\n",
    "print(answ1.shape)\n",
    "\n",
    "print('Naive Bayes')\n",
    "print_err(y_train, answ1)\n",
    "print('\\nEM')\n",
    "print_err(y_train, answ2)\n",
    "print('\\n')\n",
    "print_err(y_train, answ3)"
   ]
  },
  {
   "cell_type": "code",
   "execution_count": 807,
   "metadata": {},
   "outputs": [
    {
     "name": "stdout",
     "output_type": "stream",
     "text": [
      "[[ 0.01483568 -0.02751732  0.019489    0.03495017 -0.74414272 -0.03755091\n",
      "   0.04582135 -0.06099641 -0.03058157 -0.04987699 -0.00565696 -0.00763899\n",
      "  -0.05878477 -0.00237989 -0.03561709 -0.00845051 -0.07784587  0.05099672\n",
      "   0.06282502  0.09445809]\n",
      " [ 0.05151931  0.03543759 -0.02474086 -0.031153    0.81535173  0.05851961\n",
      "  -0.03303321  0.04713858  0.01117343  0.00935614  0.05387784  0.03062816\n",
      "   0.04166149  0.00769568 -0.01964896 -0.05315413  0.05947888 -0.00786346\n",
      "  -0.07580418 -0.04740862]]\n"
     ]
    }
   ],
   "source": [
    "print(M)"
   ]
  },
  {
   "cell_type": "code",
   "execution_count": 1070,
   "metadata": {},
   "outputs": [],
   "source": [
    "# ax = plt.subplot() \n",
    "# sns.distplot(X_train[np.where(y_train == 0)[0]].T[2], kde=False, ax=ax, color = 'r')\n",
    "# sns.distplot(X_train[np.where(y_train == 1)[0]].T[2], kde=False, ax=ax, color = 'b')\n"
   ]
  },
  {
   "cell_type": "code",
   "execution_count": 1069,
   "metadata": {},
   "outputs": [],
   "source": [
    "# sns.pairplot(pd.DataFrame(np.hstack([X_train, y_train.reshape(-1,1)])))\n"
   ]
  },
  {
   "cell_type": "markdown",
   "metadata": {},
   "source": [
    "Задача 2"
   ]
  },
  {
   "cell_type": "code",
   "execution_count": 880,
   "metadata": {},
   "outputs": [],
   "source": [
    "X_train = convert_bad_data(pd.read_csv('./data/task1_2_learn_X.csv').as_matrix())\n",
    "y_train = np.int64(np.reshape(pd.read_csv('./data/task1_2_learn_y.csv').as_matrix(), -1))\n",
    "\n",
    "X_test = convert_bad_data(pd.read_csv('./data/task1_2_test_X.csv').as_matrix())"
   ]
  },
  {
   "cell_type": "code",
   "execution_count": 881,
   "metadata": {},
   "outputs": [
    {
     "name": "stdout",
     "output_type": "stream",
     "text": [
      "(999, 20)\n"
     ]
    }
   ],
   "source": [
    "print(X_train.shape)"
   ]
  },
  {
   "cell_type": "code",
   "execution_count": 882,
   "metadata": {},
   "outputs": [],
   "source": [
    "M0 = []\n",
    "D0 = []\n",
    "M1 = []\n",
    "D1 = []\n",
    "for i in range(X_train.shape[1]):\n",
    "    a = X_train[np.where(y_train == 0)[0]].T[i]\n",
    "    b = X_train[np.where(y_train == 1)[0]].T[i]\n",
    "    M0.append(np.mean(a))\n",
    "    D0.append(np.std(a))\n",
    "    M1.append(np.mean(b))\n",
    "    D1.append(np.std(b))\n",
    "\n",
    "M0 = np.array(M0)\n",
    "M1 = np.array(M1)\n",
    "D0 = np.array(D0)\n",
    "D1 = np.array(D1)\n",
    "\n",
    "M = np.array([M0, M1])\n",
    "D = np.array([D0, D1])"
   ]
  },
  {
   "cell_type": "code",
   "execution_count": 886,
   "metadata": {},
   "outputs": [
    {
     "name": "stdout",
     "output_type": "stream",
     "text": [
      "[[-0.03325893  0.02172398 -0.01058561 -0.04456297 -0.02852222 -0.03301072\n",
      "  -0.0577591   0.00652275  0.01642043 -0.02551915  0.01294815  0.0271235\n",
      "  -0.01720146  0.02224619  0.00281133  0.05723869 -0.0400518  -0.04018763\n",
      "  -0.02258193  0.03659773]\n",
      " [ 0.06375896  0.01775647 -0.00643263  0.0841747   0.02382128  0.0018139\n",
      "  -0.02501079  0.03620237 -0.16475624 -0.00118873 -0.00259019  0.05867702\n",
      "  -0.02456966  0.04507624 -0.07664191 -0.03733185  0.03542011  0.0188795\n",
      "   0.00621867  0.03643516]]\n"
     ]
    }
   ],
   "source": [
    "print(M)"
   ]
  },
  {
   "cell_type": "code",
   "execution_count": 1134,
   "metadata": {},
   "outputs": [
    {
     "ename": "TypeError",
     "evalue": "EM_algorithm() missing 1 required positional argument: 'y_train'",
     "output_type": "error",
     "traceback": [
      "\u001b[0;31m---------------------------------------------------------------------------\u001b[0m",
      "\u001b[0;31mTypeError\u001b[0m                                 Traceback (most recent call last)",
      "\u001b[0;32m<ipython-input-1134-960afabf83f4>\u001b[0m in \u001b[0;36m<module>\u001b[0;34m()\u001b[0m\n\u001b[1;32m      1\u001b[0m \u001b[0mcount_of_clasters\u001b[0m \u001b[0;34m=\u001b[0m \u001b[0;36m2\u001b[0m\u001b[0;34m\u001b[0m\u001b[0m\n\u001b[1;32m      2\u001b[0m \u001b[0mcount_of_features\u001b[0m \u001b[0;34m=\u001b[0m \u001b[0;36m20\u001b[0m\u001b[0;34m\u001b[0m\u001b[0m\n\u001b[0;32m----> 3\u001b[0;31m \u001b[0mmu\u001b[0m\u001b[0;34m,\u001b[0m \u001b[0mcov\u001b[0m \u001b[0;34m=\u001b[0m \u001b[0mEM_algorithm\u001b[0m\u001b[0;34m(\u001b[0m\u001b[0mnp\u001b[0m\u001b[0;34m.\u001b[0m\u001b[0mvstack\u001b[0m\u001b[0;34m(\u001b[0m\u001b[0;34m[\u001b[0m\u001b[0mX_train\u001b[0m\u001b[0;34m,\u001b[0m \u001b[0mX_test\u001b[0m\u001b[0;34m]\u001b[0m\u001b[0;34m)\u001b[0m\u001b[0;34m,\u001b[0m \u001b[0mmu\u001b[0m\u001b[0;34m=\u001b[0m \u001b[0mmu\u001b[0m\u001b[0;34m,\u001b[0m \u001b[0mcount_of_clasters\u001b[0m\u001b[0;34m=\u001b[0m\u001b[0mcount_of_clasters\u001b[0m\u001b[0;34m,\u001b[0m \u001b[0mNum\u001b[0m \u001b[0;34m=\u001b[0m \u001b[0;36m100\u001b[0m\u001b[0;34m)\u001b[0m\u001b[0;34m\u001b[0m\u001b[0m\n\u001b[0m\u001b[1;32m      4\u001b[0m \u001b[0;34m\u001b[0m\u001b[0m\n\u001b[1;32m      5\u001b[0m \u001b[0;31m# np.reshape(np.random.rand(count_of_clasters*count_of_features)- 0.5, [count_of_clasters, count_of_features])\u001b[0m\u001b[0;34m\u001b[0m\u001b[0;34m\u001b[0m\u001b[0m\n",
      "\u001b[0;31mTypeError\u001b[0m: EM_algorithm() missing 1 required positional argument: 'y_train'"
     ]
    }
   ],
   "source": [
    "count_of_clasters = 2\n",
    "count_of_features = 20\n",
    "mu, cov = EM_algorithm(np.vstack([X_train, X_test]), mu= mu, count_of_clasters=count_of_clasters, Num = 100)\n",
    "\n",
    "# np.reshape(np.random.rand(count_of_clasters*count_of_features)- 0.5, [count_of_clasters, count_of_features])"
   ]
  },
  {
   "cell_type": "code",
   "execution_count": 887,
   "metadata": {},
   "outputs": [
    {
     "name": "stdout",
     "output_type": "stream",
     "text": [
      "[[ 0.03383438  0.00782043  0.05279184 -0.03574432  0.0789249  -0.08390855\n",
      "   0.05825984 -0.01623239 -0.10376422  0.06167183  0.00722287 -0.03024253\n",
      "  -0.1374993   0.06037646  0.02038495  0.00123184  0.03451182  0.01445155\n",
      "  -0.00467607  0.03790001]\n",
      " [-0.0275496   0.06780671 -0.00796216  0.06738307 -0.04408453  0.08710299\n",
      "  -0.11863114  0.01619311  0.00260665 -0.07274448 -0.01850461  0.11653302\n",
      "   0.13855958 -0.03794879 -0.09546509  0.03902559 -0.07832263 -0.04695737\n",
      "  -0.02753907  0.00086828]]\n"
     ]
    }
   ],
   "source": [
    "print(mu)"
   ]
  },
  {
   "cell_type": "code",
   "execution_count": 885,
   "metadata": {},
   "outputs": [
    {
     "name": "stdout",
     "output_type": "stream",
     "text": [
      "278\n",
      "212\n"
     ]
    }
   ],
   "source": [
    "B = np.array([_p_norm(X_train, mu[0], cov[0]), _p_norm(X_train, mu[1], cov[1])]).T\n",
    "clustering = np.argmax(B, axis=1)\n",
    "Data = []\n",
    "Answ = []\n",
    "for i in range(4):\n",
    "    Data.append(np.array(X_train[np.where(clustering==i)]))\n",
    "    Answ.append(np.array(y_train[np.where(clustering==i)]))\n",
    "Data= np.array(Data)\n",
    "Answ= np.array(Answ)\n",
    "\n",
    "print(np.sum(Answ[0]))\n",
    "print(np.sum(Answ[1]))"
   ]
  },
  {
   "cell_type": "code",
   "execution_count": 893,
   "metadata": {},
   "outputs": [
    {
     "name": "stdout",
     "output_type": "stream",
     "text": [
      "(999,)\n",
      "Naive Bayes\n",
      "AUC 0.592007136843\n",
      "NUM 407\n",
      "ASY1: -1035\n",
      "ASY2: 7\n",
      "ACC: 0.592592592593\n",
      "\n",
      "EM\n",
      "AUC 0.470746962832\n",
      "NUM 528\n",
      "ASY1: 188\n",
      "ASY2: 307\n",
      "ACC: 0.471471471471\n",
      "\n",
      "\n",
      "AUC 1.0\n",
      "NUM 0\n",
      "ASY1: -5090\n",
      "ASY2: -999\n",
      "ACC: 1.0\n"
     ]
    }
   ],
   "source": [
    "A = np.array([(1-np.sum(y_train)/np.size(y_train))*np.prod(_p_norm_1d(X_train, M[0], D[0]**2), axis = 1), np.sum(y_train)/np.size(y_train)*np.prod(_p_norm_1d(X_train, M[1], D[1]**2), axis = 1)]).T\n",
    "answ1 = np.argmax(A, axis=1)\n",
    "\n",
    "B = np.array([_p_norm(X_train, mu[0], cov[0]), _p_norm(X_train, mu[1], cov[1])]).T\n",
    "answ2 = np.argmax(B, axis=1)\n",
    "\n",
    "print(answ1.shape)\n",
    "\n",
    "print('Naive Bayes')\n",
    "print_err(y_train, answ1)\n",
    "print('\\nEM')\n",
    "print_err(y_train, answ2)\n",
    "print('\\n')\n",
    "print_err(y_train, y_train)"
   ]
  },
  {
   "cell_type": "code",
   "execution_count": 373,
   "metadata": {},
   "outputs": [
    {
     "name": "stdout",
     "output_type": "stream",
     "text": [
      "[[-0.03325893  0.02172398 -0.01058561 -0.04456297 -0.02852222 -0.03301072\n",
      "  -0.0577591   0.00652275  0.01642043 -0.02551915  0.01294815  0.0271235\n",
      "  -0.01720146  0.02224619  0.00281133  0.05723869 -0.0400518  -0.04018763\n",
      "  -0.02258193  0.03659773]\n",
      " [ 0.06375896  0.01775647 -0.00643263  0.0841747   0.02382128  0.0018139\n",
      "  -0.02501079  0.03620237 -0.16475624 -0.00118873 -0.00259019  0.05867702\n",
      "  -0.02456966  0.04507624 -0.07664191 -0.03733185  0.03542011  0.0188795\n",
      "   0.00621867  0.03643516]]\n"
     ]
    }
   ],
   "source": [
    "print(M)"
   ]
  },
  {
   "cell_type": "markdown",
   "metadata": {},
   "source": [
    "Задача 4"
   ]
  },
  {
   "cell_type": "code",
   "execution_count": 1071,
   "metadata": {},
   "outputs": [],
   "source": [
    "X_train = convert_bad_data(pd.read_csv('./data/task1_4_learn_X.csv').as_matrix())\n",
    "y_train = np.int64(np.reshape(pd.read_csv('./data/task1_4_learn_y.csv').as_matrix(), -1))\n",
    "\n",
    "X_test = convert_bad_data(pd.read_csv('./data/task1_4_test_X.csv').as_matrix())"
   ]
  },
  {
   "cell_type": "code",
   "execution_count": 1072,
   "metadata": {},
   "outputs": [
    {
     "name": "stdout",
     "output_type": "stream",
     "text": [
      "(999, 200)\n"
     ]
    }
   ],
   "source": [
    "print(X_train.shape)"
   ]
  },
  {
   "cell_type": "code",
   "execution_count": 1137,
   "metadata": {},
   "outputs": [
    {
     "name": "stdout",
     "output_type": "stream",
     "text": [
      "[[-0.12077668 -0.04348967 -0.1365637  -0.05275828 -0.13301657 -0.02688166\n",
      "  -0.09471607 -0.05376665 -0.0798722  -0.06409888 -0.11279741 -0.10844195\n",
      "  -0.10559884 -0.0029772  -0.09335749 -0.10795188 -0.06794247 -0.03708895\n",
      "   0.01565226 -0.00281591]\n",
      " [ 0.07434899  0.05343222  0.16443539  0.08234838  0.11576175  0.08180707\n",
      "   0.08586435  0.10301123  0.05550979  0.0747421   0.10576322  0.10890551\n",
      "   0.12144663  0.10894485  0.06999953  0.08176019  0.08421166  0.0791003\n",
      "   0.07569396  0.04164802]]\n"
     ]
    }
   ],
   "source": [
    "print(mu)"
   ]
  },
  {
   "cell_type": "code",
   "execution_count": 1147,
   "metadata": {},
   "outputs": [
    {
     "ename": "ValueError",
     "evalue": "Array 'mean' must be a vector of length 40.",
     "output_type": "error",
     "traceback": [
      "\u001b[0;31m---------------------------------------------------------------------------\u001b[0m",
      "\u001b[0;31mValueError\u001b[0m                                Traceback (most recent call last)",
      "\u001b[0;32m<ipython-input-1147-20e7eba42c17>\u001b[0m in \u001b[0;36m<module>\u001b[0;34m()\u001b[0m\n\u001b[0;32m----> 1\u001b[0;31m \u001b[0mmultivariate_normal\u001b[0m\u001b[0;34m.\u001b[0m\u001b[0mpdf\u001b[0m\u001b[0;34m(\u001b[0m\u001b[0mX_train\u001b[0m\u001b[0;34m,\u001b[0m \u001b[0mmean\u001b[0m\u001b[0;34m=\u001b[0m\u001b[0mmu\u001b[0m\u001b[0;34m,\u001b[0m \u001b[0mcov\u001b[0m\u001b[0;34m=\u001b[0m\u001b[0mcov\u001b[0m\u001b[0;34m)\u001b[0m\u001b[0;34m\u001b[0m\u001b[0m\n\u001b[0m",
      "\u001b[0;32m/Library/Frameworks/Python.framework/Versions/3.6/lib/python3.6/site-packages/scipy/stats/_multivariate.py\u001b[0m in \u001b[0;36mpdf\u001b[0;34m(self, x, mean, cov, allow_singular)\u001b[0m\n\u001b[1;32m    508\u001b[0m \u001b[0;34m\u001b[0m\u001b[0m\n\u001b[1;32m    509\u001b[0m         \"\"\"\n\u001b[0;32m--> 510\u001b[0;31m         \u001b[0mdim\u001b[0m\u001b[0;34m,\u001b[0m \u001b[0mmean\u001b[0m\u001b[0;34m,\u001b[0m \u001b[0mcov\u001b[0m \u001b[0;34m=\u001b[0m \u001b[0mself\u001b[0m\u001b[0;34m.\u001b[0m\u001b[0m_process_parameters\u001b[0m\u001b[0;34m(\u001b[0m\u001b[0;32mNone\u001b[0m\u001b[0;34m,\u001b[0m \u001b[0mmean\u001b[0m\u001b[0;34m,\u001b[0m \u001b[0mcov\u001b[0m\u001b[0;34m)\u001b[0m\u001b[0;34m\u001b[0m\u001b[0m\n\u001b[0m\u001b[1;32m    511\u001b[0m         \u001b[0mx\u001b[0m \u001b[0;34m=\u001b[0m \u001b[0mself\u001b[0m\u001b[0;34m.\u001b[0m\u001b[0m_process_quantiles\u001b[0m\u001b[0;34m(\u001b[0m\u001b[0mx\u001b[0m\u001b[0;34m,\u001b[0m \u001b[0mdim\u001b[0m\u001b[0;34m)\u001b[0m\u001b[0;34m\u001b[0m\u001b[0m\n\u001b[1;32m    512\u001b[0m         \u001b[0mpsd\u001b[0m \u001b[0;34m=\u001b[0m \u001b[0m_PSD\u001b[0m\u001b[0;34m(\u001b[0m\u001b[0mcov\u001b[0m\u001b[0;34m,\u001b[0m \u001b[0mallow_singular\u001b[0m\u001b[0;34m=\u001b[0m\u001b[0mallow_singular\u001b[0m\u001b[0;34m)\u001b[0m\u001b[0;34m\u001b[0m\u001b[0m\n",
      "\u001b[0;32m/Library/Frameworks/Python.framework/Versions/3.6/lib/python3.6/site-packages/scipy/stats/_multivariate.py\u001b[0m in \u001b[0;36m_process_parameters\u001b[0;34m(self, dim, mean, cov)\u001b[0m\n\u001b[1;32m    396\u001b[0m \u001b[0;34m\u001b[0m\u001b[0m\n\u001b[1;32m    397\u001b[0m         \u001b[0;32mif\u001b[0m \u001b[0mmean\u001b[0m\u001b[0;34m.\u001b[0m\u001b[0mndim\u001b[0m \u001b[0;34m!=\u001b[0m \u001b[0;36m1\u001b[0m \u001b[0;32mor\u001b[0m \u001b[0mmean\u001b[0m\u001b[0;34m.\u001b[0m\u001b[0mshape\u001b[0m\u001b[0;34m[\u001b[0m\u001b[0;36m0\u001b[0m\u001b[0;34m]\u001b[0m \u001b[0;34m!=\u001b[0m \u001b[0mdim\u001b[0m\u001b[0;34m:\u001b[0m\u001b[0;34m\u001b[0m\u001b[0m\n\u001b[0;32m--> 398\u001b[0;31m             \u001b[0;32mraise\u001b[0m \u001b[0mValueError\u001b[0m\u001b[0;34m(\u001b[0m\u001b[0;34m\"Array 'mean' must be a vector of length %d.\"\u001b[0m \u001b[0;34m%\u001b[0m \u001b[0mdim\u001b[0m\u001b[0;34m)\u001b[0m\u001b[0;34m\u001b[0m\u001b[0m\n\u001b[0m\u001b[1;32m    399\u001b[0m         \u001b[0;32mif\u001b[0m \u001b[0mcov\u001b[0m\u001b[0;34m.\u001b[0m\u001b[0mndim\u001b[0m \u001b[0;34m==\u001b[0m \u001b[0;36m0\u001b[0m\u001b[0;34m:\u001b[0m\u001b[0;34m\u001b[0m\u001b[0m\n\u001b[1;32m    400\u001b[0m             \u001b[0mcov\u001b[0m \u001b[0;34m=\u001b[0m \u001b[0mcov\u001b[0m \u001b[0;34m*\u001b[0m \u001b[0mnp\u001b[0m\u001b[0;34m.\u001b[0m\u001b[0meye\u001b[0m\u001b[0;34m(\u001b[0m\u001b[0mdim\u001b[0m\u001b[0;34m)\u001b[0m\u001b[0;34m\u001b[0m\u001b[0m\n",
      "\u001b[0;31mValueError\u001b[0m: Array 'mean' must be a vector of length 40."
     ]
    }
   ],
   "source": [
    "multivariate_normal.pdf(X_train, mean=mu[0], cov=cov[0])"
   ]
  },
  {
   "cell_type": "code",
   "execution_count": 1141,
   "metadata": {},
   "outputs": [
    {
     "data": {
      "text/plain": [
       "array([  1.30302721e-11,   1.42266836e-11,   5.12667637e-13,\n",
       "         4.56175032e-13,   8.72382102e-11,   4.77048092e-13,\n",
       "         1.01036204e-13,   4.30828313e-12,   3.18662774e-12,\n",
       "         3.54292514e-12,   1.07337986e-11,   3.12649403e-14,\n",
       "         5.86722587e-14,   1.04993710e-12,   1.99582179e-14,\n",
       "         1.07819512e-11,   1.49191588e-14,   1.39258628e-11,\n",
       "         1.22838558e-12,   1.70128142e-13,   1.74998198e-12,\n",
       "         1.43257872e-12,   3.39611086e-11,   8.86864106e-12,\n",
       "         1.50334751e-13,   1.93217025e-13,   5.98363527e-13,\n",
       "         9.24984395e-15,   1.09924583e-11,   3.47451864e-13,\n",
       "         6.47812639e-12,   4.58804775e-14,   5.10256784e-13,\n",
       "         2.04910408e-17,   1.17038721e-11,   8.98218964e-14,\n",
       "         2.17677481e-12,   4.33296944e-13,   8.44105754e-14,\n",
       "         1.38405821e-14,   1.28786973e-16,   4.98135716e-14,\n",
       "         2.71686668e-12,   7.22848375e-13,   1.97859428e-15,\n",
       "         1.08307328e-14,   2.59769129e-12,   1.27475871e-12,\n",
       "         1.40193265e-10,   1.65821120e-11,   1.06644356e-15,\n",
       "         5.41176254e-12,   3.55041000e-14,   3.73827245e-13,\n",
       "         3.08910622e-10,   6.38239599e-13,   1.61899799e-13,\n",
       "         1.96086467e-14,   7.22098957e-14,   7.68031778e-12,\n",
       "         3.34613879e-13,   1.73023690e-10,   5.15463955e-13,\n",
       "         5.04898698e-12,   7.52830235e-11,   1.83378382e-15,\n",
       "         2.28250593e-13,   1.68632618e-14,   6.01025697e-12,\n",
       "         1.56028403e-13,   7.54689678e-12,   1.00910494e-12,\n",
       "         7.06206502e-17,   1.11041328e-11,   1.54656947e-12,\n",
       "         5.03752504e-14,   4.46133048e-12,   3.50401183e-13,\n",
       "         2.24576455e-10,   3.26304183e-12,   3.40487374e-12,\n",
       "         1.83534902e-12,   5.69202282e-12,   1.35469921e-12,\n",
       "         2.34013810e-12,   6.74201884e-11,   1.17931920e-13,\n",
       "         3.02283466e-14,   1.92080240e-13,   2.97861194e-14,\n",
       "         3.14866973e-12,   1.30838168e-10,   6.73083900e-12,\n",
       "         1.54844610e-13,   4.33098064e-12,   6.03577949e-13,\n",
       "         2.52021921e-12,   1.68661842e-11,   1.31389131e-12,\n",
       "         2.72648495e-12,   4.12021097e-12,   4.45392052e-12,\n",
       "         4.17273069e-13,   9.33816433e-12,   9.36480104e-13,\n",
       "         1.04918060e-12,   6.55700473e-13,   2.09437500e-13,\n",
       "         3.38793020e-14,   6.44049269e-13,   1.39576437e-11,\n",
       "         9.37131061e-11,   3.47252826e-12,   1.31834317e-13,\n",
       "         5.73337070e-13,   2.87876206e-13,   2.00198569e-13,\n",
       "         4.55436783e-13,   5.00094764e-12,   1.35164472e-13,\n",
       "         6.66303942e-13,   4.14091419e-13,   1.65721765e-12,\n",
       "         7.58635069e-12,   8.09733718e-14,   7.01658355e-12,\n",
       "         2.79681925e-13,   6.50472733e-16,   1.67750463e-13,\n",
       "         1.83300681e-12,   6.15272861e-12,   2.62097584e-11,\n",
       "         3.45981492e-13,   9.55466420e-13,   1.42606293e-14,\n",
       "         4.55528476e-15,   1.16557434e-12,   9.48912081e-14,\n",
       "         1.79495380e-10,   1.44178832e-11,   4.34388548e-12,\n",
       "         7.17911746e-14,   3.65241628e-12,   9.58262286e-14,\n",
       "         5.75827065e-11,   1.22915021e-11,   1.63634725e-12,\n",
       "         2.24117797e-14,   9.57343618e-13,   6.61017705e-14,\n",
       "         8.67068456e-13,   3.79231210e-14,   6.37723203e-12,\n",
       "         4.48075955e-12,   1.46515908e-13,   2.63976394e-16,\n",
       "         9.33015824e-11,   7.47420800e-14,   1.93421449e-14,\n",
       "         4.54076385e-11,   5.30410937e-15,   2.92521784e-12,\n",
       "         1.40425838e-12,   4.99762759e-13,   4.89006574e-11,\n",
       "         6.27880749e-12,   9.16202758e-12,   4.21199527e-13,\n",
       "         2.30497415e-13,   4.86812041e-12,   3.59231579e-13,\n",
       "         3.29292264e-15,   3.05751452e-13,   1.79641650e-15,\n",
       "         3.99180279e-12,   3.32942814e-13,   2.86022488e-13,\n",
       "         7.24464235e-17,   2.16940960e-14,   1.00000877e-13,\n",
       "         5.98866733e-14,   1.86312717e-12,   9.83737928e-12,\n",
       "         8.96533773e-15,   1.22416693e-14,   5.92977872e-11,\n",
       "         3.29783593e-12,   8.00753595e-13,   3.11058589e-11,\n",
       "         7.57463291e-13,   5.24522859e-13,   3.83480276e-12,\n",
       "         2.17606264e-12,   4.81972053e-14,   2.38651337e-16,\n",
       "         1.19724358e-12,   1.02101893e-12,   3.72748835e-15,\n",
       "         1.99042745e-13,   5.33125694e-16,   3.98026671e-11,\n",
       "         3.12848322e-11,   2.99234789e-11,   1.24229432e-12,\n",
       "         8.16223234e-14,   1.92598540e-10,   3.52574150e-12,\n",
       "         8.54828327e-13,   1.92497902e-13,   3.95647489e-15,\n",
       "         9.24924359e-13,   6.30155557e-13,   1.90834049e-13,\n",
       "         4.34101644e-12,   1.91858497e-13,   1.11470257e-12,\n",
       "         3.42926877e-12,   1.21365951e-11,   2.74199292e-12,\n",
       "         2.14125899e-11,   1.94253637e-13,   5.88875069e-12,\n",
       "         1.67974295e-15,   2.96997584e-13,   1.48096343e-12,\n",
       "         2.82984774e-12,   8.07756579e-15,   8.99855958e-15,\n",
       "         1.42726518e-14,   2.44469441e-12,   1.26685029e-10,\n",
       "         9.01085639e-12,   1.12885671e-12,   3.99015450e-14,\n",
       "         1.56289298e-13,   4.53655015e-14,   1.77163141e-11,\n",
       "         1.55176175e-11,   1.69575162e-12,   9.62833386e-12,\n",
       "         1.84204264e-13,   3.49750786e-13,   6.25153835e-12,\n",
       "         1.18770359e-12,   1.69053167e-12,   1.27422597e-12,\n",
       "         3.58600332e-12,   3.42235424e-13,   6.26075641e-15,\n",
       "         5.81766389e-13,   1.71973636e-13,   1.06926037e-12,\n",
       "         5.28586913e-13,   5.13909776e-13,   1.26259819e-10,\n",
       "         5.97854491e-13,   8.45744555e-12,   4.84255334e-10,\n",
       "         5.33932750e-12,   3.03123601e-13,   1.60020008e-16,\n",
       "         4.19047731e-12,   1.52594882e-13,   2.45354273e-13,\n",
       "         2.14475817e-14,   3.73346821e-15,   8.67520117e-11,\n",
       "         1.47599617e-12,   1.01203023e-10,   6.05663517e-13,\n",
       "         7.11438000e-15,   4.53863795e-11,   6.48104710e-13,\n",
       "         1.38277072e-14,   2.20747679e-12,   1.33880366e-12,\n",
       "         6.51304727e-12,   2.17907247e-13,   2.30276161e-11,\n",
       "         3.04449023e-12,   2.13414505e-12,   7.68566137e-13,\n",
       "         9.05790955e-13,   6.62816522e-13,   1.21287791e-14,\n",
       "         1.33803916e-13,   1.63941091e-13,   4.67045033e-13,\n",
       "         6.79648111e-14,   1.21718675e-14,   1.14252005e-15,\n",
       "         6.32484383e-13,   4.09834709e-17,   2.94284758e-14,\n",
       "         2.11270816e-13,   2.30116739e-13,   4.61966818e-13,\n",
       "         1.01907172e-16,   1.19574511e-11,   8.29756076e-11,\n",
       "         2.13069187e-14,   2.60916267e-16,   3.31422216e-14,\n",
       "         1.98006208e-12,   3.31843138e-13,   2.33452523e-14,\n",
       "         5.05698565e-16,   2.95315612e-12,   3.72068458e-13,\n",
       "         1.53878338e-11,   1.48779115e-12,   1.35963799e-15,\n",
       "         1.17637005e-14,   6.34594512e-15,   2.31806990e-10,\n",
       "         5.48901294e-12,   9.73833674e-15,   1.59429582e-13,\n",
       "         4.75864697e-11,   7.30892910e-13,   1.88141394e-11,\n",
       "         6.42222355e-12,   1.07419124e-12,   3.33016147e-13,\n",
       "         2.73481721e-13,   9.10763955e-12,   1.06634589e-11,\n",
       "         1.78633182e-11,   1.54951911e-12,   1.40312464e-12,\n",
       "         1.57963459e-13,   7.60188274e-14,   3.11123460e-11,\n",
       "         3.59678593e-13,   3.33314241e-14,   1.51404930e-13,\n",
       "         4.61583439e-14,   1.25222581e-12,   1.21399981e-15,\n",
       "         5.12178724e-15,   2.79907143e-12,   9.64230174e-12,\n",
       "         1.01629049e-12,   2.08300599e-13,   1.92192862e-13,\n",
       "         2.54822175e-12,   2.94232972e-16,   2.69015591e-11,\n",
       "         8.24970105e-13,   1.10406412e-11,   5.05294059e-14,\n",
       "         2.05360014e-11,   6.16685826e-13,   7.71361036e-12,\n",
       "         6.79123908e-12,   2.70149060e-11,   2.09629267e-17,\n",
       "         7.07450863e-12,   1.15271786e-13,   7.06500929e-14,\n",
       "         6.40932510e-12,   1.78055912e-11,   4.95747637e-13,\n",
       "         7.56296623e-11,   1.15211666e-13,   2.49818486e-11,\n",
       "         1.13348238e-13,   8.30314125e-14,   5.09276730e-13,\n",
       "         1.91367222e-13,   1.11921745e-10,   6.02708285e-14,\n",
       "         9.64679301e-13,   3.01608196e-12,   2.63309386e-11,\n",
       "         3.91957839e-12,   1.47109143e-12,   6.57193858e-14,\n",
       "         1.65907649e-14,   5.73458174e-15,   8.18253131e-16,\n",
       "         4.45990916e-11,   1.57669534e-14,   1.16266695e-13,\n",
       "         6.95402826e-14,   2.60939142e-14,   1.33404982e-12,\n",
       "         2.04009818e-14,   8.01362897e-15,   5.36481584e-13,\n",
       "         7.42942820e-14,   7.07118187e-13,   3.05182932e-16,\n",
       "         8.58601943e-12,   9.78733873e-13,   6.52213955e-15,\n",
       "         3.90973596e-12,   1.47199563e-12,   5.87545552e-12,\n",
       "         4.21809768e-11,   1.14302715e-12,   3.68241317e-12,\n",
       "         1.81178084e-13,   1.14325529e-15,   1.64663488e-14,\n",
       "         5.12111225e-14,   3.50687213e-13,   9.31894498e-14,\n",
       "         4.29700548e-12,   9.83922254e-13,   5.53357846e-13,\n",
       "         8.95877037e-12,   4.01572660e-13,   3.48545394e-16,\n",
       "         3.22105568e-14,   3.59897963e-12,   8.59338658e-13,\n",
       "         1.13005573e-11,   6.09286820e-14,   2.17279288e-15,\n",
       "         4.88806575e-13,   1.35354209e-13,   4.53581383e-14,\n",
       "         4.78689188e-13,   2.49391448e-12,   2.28704244e-13,\n",
       "         4.96178353e-13,   2.34388678e-12,   4.79140570e-14,\n",
       "         5.83435729e-13,   2.00969616e-12,   8.52784852e-14,\n",
       "         3.91703308e-12,   6.30729220e-11,   5.86145711e-12,\n",
       "         4.84901379e-13,   3.18994613e-13,   4.96514198e-13,\n",
       "         1.48536246e-12,   1.37538045e-13,   8.72792384e-15,\n",
       "         5.86174518e-12,   1.21963719e-12,   1.95173011e-14,\n",
       "         9.79207621e-12,   1.72736322e-13,   2.74214503e-12,\n",
       "         1.44087453e-10,   6.24307044e-12,   6.67719637e-14,\n",
       "         4.59647714e-11,   1.30799831e-13,   4.16454242e-11,\n",
       "         1.00929070e-12,   2.08771978e-13,   9.83136265e-15,\n",
       "         7.42889587e-15,   1.09205926e-13,   2.09002448e-12,\n",
       "         1.51261789e-10,   4.39892086e-13,   1.57550500e-10,\n",
       "         5.13135753e-13,   3.41090507e-14,   9.03405930e-14,\n",
       "         1.12740648e-13,   3.83243310e-15,   1.82721133e-15,\n",
       "         7.05606587e-13,   4.03507532e-11,   2.01994220e-16,\n",
       "         3.23636721e-15,   3.06071998e-14,   5.65320693e-14,\n",
       "         2.45909125e-13,   3.24035839e-11,   1.34449844e-13,\n",
       "         1.93035447e-16,   6.28714268e-12,   1.66137757e-13,\n",
       "         1.06654064e-11,   3.73823652e-14,   2.33127965e-16,\n",
       "         1.25798300e-13,   2.16599771e-14,   3.11047350e-11,\n",
       "         6.54800446e-13,   1.57910909e-13,   1.29104338e-13,\n",
       "         6.20277210e-12,   3.40290559e-13,   1.35167276e-12,\n",
       "         3.01075216e-13,   8.73967331e-13,   7.64704767e-11,\n",
       "         3.12938563e-12,   2.39328956e-11,   1.93614860e-13,\n",
       "         9.16956166e-13,   3.71197266e-13,   4.22719396e-13,\n",
       "         1.09406066e-13,   6.87778018e-13,   1.20371507e-12,\n",
       "         3.64576605e-15,   5.16195677e-13,   1.71291458e-12,\n",
       "         3.98204700e-12,   1.56108019e-11,   9.05282675e-12,\n",
       "         3.18594939e-11,   4.26238054e-12,   1.42012656e-10,\n",
       "         6.76552035e-13,   6.51494128e-15,   4.47413713e-12,\n",
       "         1.21520870e-15,   1.77521172e-12,   2.16539111e-13,\n",
       "         1.35431640e-14,   3.84199250e-13,   5.05595747e-12,\n",
       "         6.52665303e-14,   2.26179513e-13,   5.93948941e-13,\n",
       "         8.61374896e-14,   1.10974899e-12,   7.55035863e-12,\n",
       "         1.39753143e-15,   3.32308817e-12,   5.46731852e-11,\n",
       "         1.00933248e-11,   1.34712702e-17,   7.85507220e-15,\n",
       "         1.13705788e-17,   3.79446867e-13,   2.86537093e-12,\n",
       "         5.65427970e-13,   1.01341833e-14,   3.23913127e-12,\n",
       "         1.02405492e-11,   3.74567752e-14,   8.42226442e-15,\n",
       "         5.96867210e-13,   5.27786831e-18,   4.78132695e-11,\n",
       "         6.21828639e-13,   5.68831561e-12,   2.30442915e-13,\n",
       "         3.60944694e-15,   5.17755547e-12,   1.68398653e-13,\n",
       "         7.91470183e-13,   4.92995240e-14,   1.00991322e-12,\n",
       "         9.31782940e-14,   7.66207912e-12,   6.11478067e-13,\n",
       "         9.84607559e-12,   7.87907245e-12,   1.29535788e-11,\n",
       "         1.17990849e-14,   2.81942953e-15,   1.31955758e-14,\n",
       "         3.29568357e-13,   1.05385385e-13,   2.09904964e-11,\n",
       "         1.81105876e-12,   3.79139749e-15,   1.03501987e-12,\n",
       "         5.41586161e-13,   3.02109104e-12,   2.42390163e-14,\n",
       "         1.36223789e-13,   3.11794718e-12,   3.57749313e-14,\n",
       "         1.86583761e-11,   7.14566645e-13,   2.01214060e-12,\n",
       "         2.28087027e-12,   1.92982020e-12,   2.31184118e-15,\n",
       "         5.63215974e-12,   1.88974891e-12,   1.44662917e-11,\n",
       "         3.23814777e-13,   1.27285364e-12,   2.72097022e-13,\n",
       "         3.57837330e-11,   1.63351506e-11,   3.62061612e-11,\n",
       "         1.10565385e-12,   3.93211479e-12,   1.55573657e-13,\n",
       "         1.07592695e-15,   6.89614154e-14,   1.68423374e-13,\n",
       "         2.10669468e-14,   1.56279675e-13,   2.90335293e-12,\n",
       "         3.16443633e-12,   2.83301215e-12,   1.63268564e-14,\n",
       "         2.88549039e-12,   5.75522157e-18,   1.88471642e-12,\n",
       "         1.31224454e-11,   1.45944765e-14,   1.15201490e-11,\n",
       "         3.99037256e-11,   2.90980321e-12,   1.33809039e-11,\n",
       "         1.71139068e-14,   3.48912974e-13,   2.85488873e-12,\n",
       "         4.45649282e-12,   6.89000843e-16,   5.55091243e-12,\n",
       "         8.35045509e-14,   3.30884535e-15,   3.23449576e-12,\n",
       "         3.33990890e-14,   1.17269412e-12,   3.00114077e-12,\n",
       "         2.56609804e-12,   1.75583816e-10,   6.94400406e-13,\n",
       "         1.39120924e-15,   9.34804439e-12,   6.48550573e-14,\n",
       "         1.44038701e-12,   4.62015023e-13,   3.45999404e-13,\n",
       "         2.31819907e-13,   1.69757356e-13,   2.73647150e-15,\n",
       "         3.00158168e-12,   2.72707000e-15,   1.10892480e-13,\n",
       "         7.22645075e-12,   4.46823573e-11,   7.85556819e-16,\n",
       "         2.59029048e-14,   6.47306753e-13,   7.23278212e-13,\n",
       "         4.28963966e-13,   5.86616595e-14,   3.94140131e-14,\n",
       "         1.17969027e-13,   9.95741161e-13,   2.56903872e-12,\n",
       "         3.93991147e-11,   6.23650405e-14,   8.64261701e-15,\n",
       "         2.28633007e-12,   1.16269202e-14,   4.86363874e-11,\n",
       "         3.49633823e-14,   2.19290759e-14,   1.21709123e-14,\n",
       "         4.93004809e-11,   3.13094036e-11,   1.09260680e-13,\n",
       "         1.97967544e-13,   1.77246011e-12,   7.63322592e-11,\n",
       "         1.59728102e-13,   4.08035134e-13,   2.71192809e-14,\n",
       "         9.71438167e-16,   9.40986457e-13,   1.62389819e-12,\n",
       "         2.47734454e-11,   2.35136262e-15,   5.40129354e-13,\n",
       "         7.78939798e-13,   2.54346819e-11,   1.38561023e-12,\n",
       "         1.61609896e-11,   2.44054516e-12,   1.38119275e-12,\n",
       "         1.28787715e-14,   1.02069964e-10,   2.08777877e-13,\n",
       "         4.25874840e-13,   1.41566687e-10,   3.00990598e-12,\n",
       "         1.17008567e-12,   7.78756813e-13,   2.44376821e-13,\n",
       "         5.00228782e-15,   2.53777193e-15,   1.61207047e-13,\n",
       "         7.86567322e-17,   4.62479676e-10,   3.43047090e-12,\n",
       "         3.62800054e-14,   3.34020883e-12,   1.10812221e-14,\n",
       "         2.27360334e-12,   1.73258936e-14,   3.60510801e-13,\n",
       "         1.04077020e-11,   4.07888237e-13,   2.37887952e-15,\n",
       "         2.85466585e-12,   1.27677465e-12,   5.46309786e-13,\n",
       "         1.26698719e-12,   1.24377998e-13,   1.85394177e-19,\n",
       "         2.38590120e-12,   5.17230163e-13,   5.23935638e-14,\n",
       "         2.15244972e-14,   3.95007514e-11,   1.77105459e-13,\n",
       "         5.52111063e-13,   4.07417108e-13,   3.26666676e-15,\n",
       "         5.09192888e-12,   9.51105203e-13,   4.39207992e-11,\n",
       "         2.43089128e-12,   5.38966439e-14,   8.45127012e-15,\n",
       "         4.26692686e-13,   2.17313784e-13,   1.23650594e-10,\n",
       "         1.83022966e-15,   9.30116865e-12,   3.16337419e-13,\n",
       "         2.90935024e-16,   9.83069254e-13,   5.81133906e-15,\n",
       "         1.35592599e-12,   1.98150120e-14,   6.48855226e-11,\n",
       "         1.81224696e-15,   1.74599394e-13,   2.44907351e-16,\n",
       "         9.26813739e-16,   5.15662782e-12,   1.30636806e-13,\n",
       "         1.17460502e-13,   4.13798356e-13,   4.59575565e-14,\n",
       "         7.14083706e-13,   7.63677032e-12,   9.67747879e-13,\n",
       "         7.77046505e-15,   3.42245336e-13,   6.87449597e-17,\n",
       "         5.40592179e-14,   4.57471735e-12,   5.47134218e-14,\n",
       "         8.30474303e-13,   1.34151917e-11,   2.78498841e-12,\n",
       "         5.14336583e-13,   6.25108660e-13,   2.25288993e-12,\n",
       "         3.23480850e-13,   2.16589569e-13,   1.12516680e-11,\n",
       "         4.94572465e-13,   3.27939825e-12,   1.35470722e-12,\n",
       "         4.41210547e-13,   7.77143975e-13,   3.33686086e-11,\n",
       "         6.55773282e-12,   2.80657879e-18,   7.29763208e-13,\n",
       "         2.15208453e-14,   1.47655849e-13,   2.90639310e-15,\n",
       "         1.37686053e-11,   4.12062253e-17,   8.63784769e-14,\n",
       "         1.42813676e-11,   2.29110000e-15,   2.95349167e-15,\n",
       "         1.02661721e-10,   1.54799192e-11,   2.31918876e-12,\n",
       "         4.59687687e-16,   5.42761345e-17,   1.14784621e-10,\n",
       "         1.26289795e-12,   3.13767240e-12,   1.13877598e-14,\n",
       "         2.40882812e-12,   4.71493587e-11,   9.50844202e-13,\n",
       "         4.05169051e-12,   1.31777894e-13,   1.03450535e-11,\n",
       "         1.43737225e-11,   2.03594297e-11,   8.36654209e-16,\n",
       "         1.64890944e-12,   7.88390325e-12,   3.78947808e-13,\n",
       "         1.39182717e-12,   2.93898678e-13,   1.07097747e-12,\n",
       "         1.52717414e-11,   1.80831024e-12,   4.84639298e-14,\n",
       "         3.79436197e-13,   2.19199380e-12,   8.38210187e-14,\n",
       "         1.91787810e-14,   8.87026296e-14,   8.85821453e-13,\n",
       "         9.49621124e-15,   5.50268167e-14,   1.24744951e-13,\n",
       "         1.88380993e-12,   9.77845576e-15,   2.20165654e-15,\n",
       "         9.53135849e-12,   8.33701367e-14,   8.57119342e-15,\n",
       "         4.63820936e-12,   9.86309855e-12,   1.97971881e-14,\n",
       "         7.79736077e-12,   3.13937433e-12,   3.73432432e-11,\n",
       "         1.21389075e-13,   9.63327024e-12,   2.36696084e-12,\n",
       "         3.85147705e-13,   2.06035799e-12,   1.36778499e-13,\n",
       "         1.98222857e-15,   3.68928925e-17,   4.85824452e-14,\n",
       "         2.72222646e-13,   8.41642583e-14,   1.24626982e-12,\n",
       "         3.10712935e-13,   7.26194719e-12,   4.75607186e-13,\n",
       "         1.01040768e-13,   8.55710537e-13,   2.56689660e-15,\n",
       "         1.10168405e-11,   1.61470314e-11,   1.15567305e-12,\n",
       "         2.66411486e-13,   8.79828177e-14,   6.12175839e-14,\n",
       "         2.68963520e-13,   1.01938364e-16,   1.42286226e-12,\n",
       "         1.70701540e-12,   2.92657262e-13,   1.77487834e-11,\n",
       "         8.55801510e-13,   3.95757740e-12,   6.75897113e-12,\n",
       "         4.60234909e-14,   3.88178430e-14,   2.90206530e-14,\n",
       "         2.32952916e-11,   2.01465399e-12,   1.69467439e-11,\n",
       "         1.20084694e-14,   3.89414373e-13,   7.39787797e-15,\n",
       "         1.80900623e-13,   2.02334226e-13,   4.70691160e-13,\n",
       "         1.60849969e-17,   4.54044595e-14,   1.74517243e-13,\n",
       "         2.62232438e-14,   1.07456108e-15,   1.20491452e-14,\n",
       "         1.53947458e-14,   3.17421379e-12,   1.32163484e-14,\n",
       "         6.28573532e-15,   2.59613564e-13,   1.19640676e-12,\n",
       "         1.90100206e-11,   1.46377523e-14,   5.97873400e-10,\n",
       "         2.47378576e-13,   4.25988065e-15,   5.76764164e-15,\n",
       "         9.13431411e-11,   2.26496991e-13,   2.91058616e-13,\n",
       "         8.37548606e-14,   2.87861744e-11,   2.59176778e-15,\n",
       "         5.45637741e-14,   2.47160201e-11,   8.08614208e-14,\n",
       "         6.45874690e-13,   1.23392912e-13,   6.30196061e-14,\n",
       "         3.30776718e-12,   5.18528227e-14,   4.92919595e-12,\n",
       "         1.14491838e-11,   7.07463584e-16,   1.42030019e-11,\n",
       "         6.13146731e-11,   2.71254469e-12,   9.33035908e-12,\n",
       "         1.23891385e-11,   2.73242793e-12,   4.46854597e-17,\n",
       "         2.94379994e-15,   6.97492535e-14,   3.49695069e-13,\n",
       "         3.70645966e-15,   5.47386337e-12,   5.89337514e-11,\n",
       "         1.48199712e-13,   3.31187455e-14,   3.61066192e-12,\n",
       "         3.88441599e-15,   3.72946055e-13,   3.73001471e-14,\n",
       "         7.10715173e-15,   1.02808805e-12,   6.48475236e-13,\n",
       "         6.89148236e-14,   2.09922542e-12,   2.35796602e-12,\n",
       "         2.70583494e-12,   6.04123973e-11,   1.70590241e-11,\n",
       "         4.99777785e-12,   1.00904962e-16,   2.77920084e-14,\n",
       "         8.22251983e-11,   5.16345189e-12,   7.12069546e-12,\n",
       "         1.08490549e-16,   5.09728289e-12,   1.41799049e-13,\n",
       "         5.60633754e-12,   3.59446728e-12,   5.16775349e-13,\n",
       "         3.04363505e-13,   1.65086694e-11,   7.45511408e-15,\n",
       "         6.07497494e-15,   3.13324009e-11,   4.49660649e-13,\n",
       "         1.24288563e-10,   1.53953779e-11,   5.31202243e-12,\n",
       "         9.59809927e-14,   4.01969110e-13,   4.59558315e-11,\n",
       "         3.01034134e-12,   9.47651859e-12,   7.10658685e-13,\n",
       "         1.28819890e-12,   4.46432343e-11,   6.28773593e-13,\n",
       "         2.92467977e-12,   6.10903882e-12,   3.38142670e-12,\n",
       "         1.44207528e-12,   1.07117616e-12,   1.06846633e-10,\n",
       "         2.51484026e-16,   2.29983851e-12,   1.34162662e-13,\n",
       "         7.08823906e-18,   3.86917081e-15,   4.95332761e-14,\n",
       "         8.89485106e-14,   1.04019246e-15,   1.16586444e-13,\n",
       "         2.79597783e-12,   6.34283174e-11,   3.04569224e-12,\n",
       "         1.50245840e-13,   1.41521929e-13,   4.49206228e-10,\n",
       "         3.79349446e-13,   1.73924753e-12,   1.99432845e-12,\n",
       "         1.64641737e-13,   5.37548808e-13,   5.65053236e-12,\n",
       "         1.71422669e-16,   1.85935487e-11,   1.45948483e-11])"
      ]
     },
     "execution_count": 1141,
     "metadata": {},
     "output_type": "execute_result"
    }
   ],
   "source": [
    "_p_norm(X_train, mu[0], cov[0])"
   ]
  },
  {
   "cell_type": "code",
   "execution_count": null,
   "metadata": {},
   "outputs": [],
   "source": []
  }
 ],
 "metadata": {
  "kernelspec": {
   "display_name": "Python 3",
   "language": "python",
   "name": "python3"
  },
  "language_info": {
   "codemirror_mode": {
    "name": "ipython",
    "version": 3
   },
   "file_extension": ".py",
   "mimetype": "text/x-python",
   "name": "python",
   "nbconvert_exporter": "python",
   "pygments_lexer": "ipython3",
   "version": "3.6.2"
  }
 },
 "nbformat": 4,
 "nbformat_minor": 2
}

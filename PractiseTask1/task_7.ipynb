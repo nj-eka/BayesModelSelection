{
 "cells": [
  {
   "cell_type": "code",
   "execution_count": 5,
   "metadata": {},
   "outputs": [],
   "source": [
    "import numpy as np\n",
    "import pandas as pd\n",
    "from sklearn import neighbors\n",
    "import seaborn as sns\n",
    "import matplotlib.pyplot as plt\n",
    "from sklearn import naive_bayes\n",
    "%matplotlib inline\n",
    "from sklearn import metrics\n",
    "from sklearn.naive_bayes import GaussianNB\n",
    "\n",
    "\n",
    "from sklearn.model_selection import cross_val_score\n",
    "from imblearn.over_sampling import RandomOverSampler"
   ]
  },
  {
   "cell_type": "code",
   "execution_count": 2,
   "metadata": {},
   "outputs": [],
   "source": [
    "from scipy.stats import pearsonr\n",
    "from sklearn import linear_model\n",
    "from sklearn.svm import l1_min_c\n",
    "from scipy import stats\n",
    "\n",
    "from sklearn.preprocessing import scale\n",
    "from sklearn.model_selection import train_test_split"
   ]
  },
  {
   "cell_type": "code",
   "execution_count": 4,
   "metadata": {},
   "outputs": [],
   "source": [
    "from sklearn.feature_selection import SelectKBest\n",
    "from sklearn.feature_selection import chi2\n",
    "from sklearn.feature_selection import f_classif\n",
    "from sklearn.feature_selection import mutual_info_classif"
   ]
  },
  {
   "cell_type": "code",
   "execution_count": null,
   "metadata": {},
   "outputs": [],
   "source": []
  },
  {
   "cell_type": "code",
   "execution_count": 6,
   "metadata": {},
   "outputs": [
    {
     "name": "stdout",
     "output_type": "stream",
     "text": [
      "(1000,)\n"
     ]
    }
   ],
   "source": [
    "y = pd.read_csv('task1_7_learn_y.csv', sep=' ', header=None)\n",
    "target = np.int64(y.values[:,0])\n",
    "print(target.shape)"
   ]
  },
  {
   "cell_type": "code",
   "execution_count": 7,
   "metadata": {},
   "outputs": [
    {
     "data": {
      "text/plain": [
       "((1000, 50), (1000, 50))"
      ]
     },
     "execution_count": 7,
     "metadata": {},
     "output_type": "execute_result"
    }
   ],
   "source": [
    "X = pd.read_csv('task1_7_learn_X.csv', sep=' ', header=None )\n",
    "test = pd.read_csv('task1_7_test_X.csv', sep=' ', header=None )\n",
    "X.shape, test.shape"
   ]
  },
  {
   "cell_type": "code",
   "execution_count": 9,
   "metadata": {},
   "outputs": [],
   "source": [
    "data = pd.DataFrame(np.hstack([X,y.values.reshape(-1,1)]))"
   ]
  },
  {
   "cell_type": "markdown",
   "metadata": {},
   "source": [
    "### Заменим все выбросы"
   ]
  },
  {
   "cell_type": "code",
   "execution_count": 8,
   "metadata": {},
   "outputs": [],
   "source": [
    "def replace_outliers(X, alpha):\n",
    "    num_features = X.shape[1]\n",
    "    q_low = X.quantile(alpha, axis=0)\n",
    "    q_up = X.quantile(1 - alpha, axis=0)\n",
    "    X_new = X.values.copy()\n",
    "    print(num_features, X.shape[0])\n",
    "    for i in range(num_features):\n",
    "        median = X[i].median()\n",
    "        for j in range(X.shape[0]):\n",
    "            if X_new[j][i] < q_low[i] or X_new[j][i] > q_up[i]:\n",
    "                X_new[j][i] = median\n",
    "    return X_new\n",
    "        "
   ]
  },
  {
   "cell_type": "code",
   "execution_count": 9,
   "metadata": {},
   "outputs": [
    {
     "name": "stdout",
     "output_type": "stream",
     "text": [
      "50 1000\n"
     ]
    }
   ],
   "source": [
    "X_without_out = replace_outliers(X, 0.0141)"
   ]
  },
  {
   "cell_type": "code",
   "execution_count": 10,
   "metadata": {},
   "outputs": [
    {
     "name": "stdout",
     "output_type": "stream",
     "text": [
      "50 1000\n",
      "3.1537966622843654\n"
     ]
    }
   ],
   "source": [
    "test_clear = replace_outliers(test, 0.0111)\n",
    "print(np.max(test_clear))"
   ]
  },
  {
   "cell_type": "markdown",
   "metadata": {},
   "source": [
    "## Отбор признаков"
   ]
  },
  {
   "cell_type": "code",
   "execution_count": 11,
   "metadata": {},
   "outputs": [
    {
     "data": {
      "text/plain": [
       "SelectKBest(k=1, score_func=<function mutual_info_classif at 0x7fb3b3bfe2f0>)"
      ]
     },
     "execution_count": 11,
     "metadata": {},
     "output_type": "execute_result"
    }
   ],
   "source": [
    "#skb = SelectKBest(f_classif, k=1)\n",
    "#skb = SelectKBest(f_classif, k=1)\n",
    "skb = SelectKBest(mutual_info_classif, k=1)\n",
    "#skb = SelectKBest(chi2, k=1)\n",
    "skb.fit(X_without_out, target)"
   ]
  },
  {
   "cell_type": "code",
   "execution_count": 12,
   "metadata": {},
   "outputs": [
    {
     "data": {
      "text/plain": [
       "[<matplotlib.lines.Line2D at 0x7fb3a4e60f60>]"
      ]
     },
     "execution_count": 12,
     "metadata": {},
     "output_type": "execute_result"
    },
    {
     "data": {
      "image/png": "[encoded data removed]",
      "text/plain": [
       "<Figure size 432x288 with 1 Axes>"
      ]
     },
     "metadata": {},
     "output_type": "display_data"
    }
   ],
   "source": [
    "a = np.sort(skb.scores_)[::-1]\n",
    "# a = a[a < 0.005]//\n",
    "# print(np.max(np.where(a>0)))\n",
    "plt.plot(a)"
   ]
  },
  {
   "cell_type": "code",
   "execution_count": 13,
   "metadata": {},
   "outputs": [
    {
     "name": "stdout",
     "output_type": "stream",
     "text": [
      "[0.0228376  0.01778073 0.01556562 0.01473498 0.01338179 0.01262004\n",
      " 0.01260718 0.01209486 0.01184031 0.00989486 0.00956309 0.00865749\n",
      " 0.00783907 0.00767545 0.0072472  0.00677289 0.00574489 0.00544717\n",
      " 0.00400995 0.00382597 0.00230035 0.00208325 0.00169321 0.00093957\n",
      " 0.         0.         0.         0.         0.         0.\n",
      " 0.         0.         0.         0.         0.         0.\n",
      " 0.         0.         0.         0.         0.         0.\n",
      " 0.         0.         0.         0.         0.         0.\n",
      " 0.         0.        ]\n"
     ]
    }
   ],
   "source": [
    "NUM_K = 21\n",
    "print(a)"
   ]
  },
  {
   "cell_type": "code",
   "execution_count": 14,
   "metadata": {},
   "outputs": [],
   "source": [
    "X_meow = scale(np.vstack([X_without_out, test_clear]))[:,np.where(skb.scores_ >= skb.scores_[np.argsort(skb.scores_)[::-1][NUM_K-1]])[0]]\n",
    "# X = np.vstack([X_train_load, X_test_load])[:,np.where(skb.scores_ >= skb.scores_[np.argsort(skb.scores_)[::-1][NUM_K-1]])[0]]\n",
    "# X = (X - np.mean(X, axis=0))/np.std(X, axis=0)\n",
    "\n",
    "X_train = X_meow[:X.shape[0]]\n",
    "X_test = X_meow[X.shape[0]:]\n",
    "\n",
    "y_train = target"
   ]
  },
  {
   "cell_type": "code",
   "execution_count": 17,
   "metadata": {},
   "outputs": [
    {
     "name": "stdout",
     "output_type": "stream",
     "text": [
      "(1000, 21)\n",
      "(1000,)\n",
      "(1000, 21)\n"
     ]
    }
   ],
   "source": [
    "print(X_train.shape)\n",
    "print(y_train.shape)\n",
    "print(X_test.shape)"
   ]
  },
  {
   "cell_type": "markdown",
   "metadata": {},
   "source": [
    "### Ошибки"
   ]
  },
  {
   "cell_type": "code",
   "execution_count": 15,
   "metadata": {},
   "outputs": [],
   "source": [
    "def asy1(estimator, X, y):\n",
    "    Penalty_1 = np.array([[-10,10], [1,0]])\n",
    "    answ = np.int64(estimator.predict(X))\n",
    "    return np.sum(Penalty_1[y, answ])\n",
    "    \n",
    "def asy2(estimator, X, y):\n",
    "    Penalty_2 = np.array([[-1,2], [1,-1]])\n",
    "    answ = np.int64(estimator.predict(X))\n",
    "    return np.sum(Penalty_2[y, answ])\n",
    "\n",
    "def _asy1(y1, y2):\n",
    "    Penalty_1 = np.array([[-10,10], [1,0]])\n",
    "    return np.sum(Penalty_1[y1, y2])\n",
    "\n",
    "def _asy2(y1, y2):\n",
    "    Penalty_2 = np.array([[-1,2], [1,-1]])\n",
    "    return np.sum(Penalty_2[y1, y2])\n",
    "def num(estimator, X, y):\n",
    "    answ = np.int64(estimator.predict(X))\n",
    "    num = np.sum(np.abs(answ - y) > 0)\n",
    "    return num"
   ]
  },
  {
   "cell_type": "markdown",
   "metadata": {},
   "source": [
    "### Оверсамплинг"
   ]
  },
  {
   "cell_type": "code",
   "execution_count": 16,
   "metadata": {},
   "outputs": [],
   "source": [
    "from sklearn import svm\n",
    "from imblearn.over_sampling import SMOTE, ADASYN\n",
    "\n",
    "X_resampled, y_resampled = SMOTE().fit_sample(X_train, y_train)"
   ]
  },
  {
   "cell_type": "markdown",
   "metadata": {},
   "source": [
    "### Наивный байес "
   ]
  },
  {
   "cell_type": "code",
   "execution_count": 17,
   "metadata": {},
   "outputs": [
    {
     "name": "stdout",
     "output_type": "stream",
     "text": [
      "ACC: 0.7800511246142589 0.07948480609541095\n",
      "AUC: 0.7083857729138168 0.06080880773315804\n",
      "NUM: 50.1 10.463746938836012\n",
      "ASY1: -309.2 58.909761500111344\n",
      "ASY2: -45.3 19.98024023879593\n"
     ]
    }
   ],
   "source": [
    "ACC = cross_val_score(estimator=naive_bayes.GaussianNB(), X=X_resampled, y=y_resampled, scoring='roc_auc', cv = 10)\n",
    "AUC = cross_val_score(estimator=naive_bayes.GaussianNB(), X=X_resampled, y=y_resampled, scoring='accuracy', cv = 10)\n",
    "\n",
    "ASY1 = cross_val_score(estimator=naive_bayes.GaussianNB(), X=X_resampled, y=y_resampled, scoring=asy1, cv = 10)\n",
    "ASY2 = cross_val_score(estimator=naive_bayes.GaussianNB(), X=X_resampled, y=y_resampled, scoring=asy2, cv = 10)\n",
    "NUM = cross_val_score(estimator=naive_bayes.GaussianNB(), X=X_resampled, y=y_resampled, scoring=num, cv = 10)\n",
    "\n",
    "print('ACC:', np.mean(ACC), np.std(ACC))\n",
    "print('AUC:', np.mean(AUC), np.std(AUC))\n",
    "print('NUM:', np.mean(NUM), np.std(NUM))\n",
    "print('ASY1:', np.mean(ASY1), np.std(ASY1))\n",
    "print('ASY2:', np.mean(ASY2), np.std(ASY2))"
   ]
  },
  {
   "cell_type": "markdown",
   "metadata": {},
   "source": [
    "## Генерим ответы"
   ]
  },
  {
   "cell_type": "code",
   "execution_count": 20,
   "metadata": {},
   "outputs": [],
   "source": [
    "model = naive_bayes.GaussianNB()\n",
    "model.fit(X_resampled, y_resampled)\n",
    "y_max_auc = model.predict(X_test)"
   ]
  },
  {
   "cell_type": "code",
   "execution_count": 29,
   "metadata": {},
   "outputs": [],
   "source": [
    "y_max_ASY2 = np.zeros(1000)\n",
    "y = model.predict(X_train)"
   ]
  },
  {
   "cell_type": "code",
   "execution_count": 32,
   "metadata": {},
   "outputs": [],
   "source": [
    "def Criteria(y, y_pred):\n",
    "    fpr, tpr, thresholds = metrics.roc_curve(y, y_pred)\n",
    "    auc = metrics.auc(fpr, tpr)\n",
    "    num = np.sum(np.abs((y - y_pred)))\n",
    "    Penalty1 = np.array([[-10,10], [1,0]])\n",
    "    Penalty2 = np.array([[-1,2], [1,-1]])\n",
    "    \n",
    "    print('AUC', auc)\n",
    "    print('NUM',num)\n",
    "    asy1 = 0\n",
    "    asy2 = 0\n",
    "    for i in range(y_pred.shape[0]):\n",
    "        asy1 += Penalty1[y[i], y_pred[i]]\n",
    "        asy2 += Penalty2[y[i], y_pred[i]]\n",
    "    print('ASY1:', asy1)\n",
    "    print('ASY2:', asy2)\n",
    "\n",
    "    print('ACC:', np.sum(y_pred == y)/np.size(y))"
   ]
  },
  {
   "cell_type": "code",
   "execution_count": 33,
   "metadata": {},
   "outputs": [
    {
     "name": "stdout",
     "output_type": "stream",
     "text": [
      "AUC 0.5396168753726893\n",
      "NUM 331\n",
      "ASY1: -5029\n",
      "ASY2: -258\n",
      "ACC: 0.669\n"
     ]
    }
   ],
   "source": [
    "Criteria(y, y_train)"
   ]
  },
  {
   "cell_type": "code",
   "execution_count": null,
   "metadata": {},
   "outputs": [],
   "source": []
  }
 ],
 "metadata": {
  "kernelspec": {
   "display_name": "Python 3",
   "language": "python",
   "name": "python3"
  },
  "language_info": {
   "codemirror_mode": {
    "name": "ipython",
    "version": 3
   },
   "file_extension": ".py",
   "mimetype": "text/x-python",
   "name": "python",
   "nbconvert_exporter": "python",
   "pygments_lexer": "ipython3",
   "version": "3.6.2"
  }
 },
 "nbformat": 4,
 "nbformat_minor": 2
}

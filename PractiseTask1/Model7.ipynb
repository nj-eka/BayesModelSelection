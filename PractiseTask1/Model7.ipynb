{
 "cells": [
  {
   "cell_type": "code",
   "execution_count": 1,
   "metadata": {},
   "outputs": [],
   "source": [
    "%matplotlib inline  \n",
    "import numpy as np \n",
    "import scipy as sp \n",
    "import pandas as pd \n",
    "import matplotlib.pyplot as plt \n",
    "import seaborn as sns \n",
    "from scipy.stats import norm  \n",
    "sns.set_style('white') \n",
    "sns.set_context('talk')  \n",
    "np.random.seed(123)\n",
    "\n",
    "import numpy as np\n",
    "\n",
    "import scipy.special as sp\n",
    "from scipy import integrate\n",
    "\n",
    "from sklearn import metrics\n",
    "\n",
    "from scipy.stats import multivariate_normal\n",
    "\n",
    "from scipy.stats import shapiro\n",
    "from scipy.stats import anderson\n",
    "\n",
    "from sklearn.preprocessing import scale\n",
    "from sklearn.model_selection import train_test_split\n",
    "\n",
    "from sklearn import svm\n",
    "\n",
    "from sklearn.mixture import BayesianGaussianMixture\n",
    "\n",
    "from sklearn import naive_bayes\n",
    "\n",
    "from sklearn.feature_selection import SelectKBest\n",
    "from sklearn.feature_selection import chi2\n",
    "from sklearn.feature_selection import f_classif\n",
    "from sklearn.feature_selection import mutual_info_classif\n",
    "\n",
    "\n",
    "from sklearn.model_selection import cross_val_score\n",
    "\n",
    "from sklearn.model_selection import cross_val_predict\n",
    "\n",
    "\n",
    "from sklearn import svm\n",
    "from imblearn.over_sampling import SMOTE, ADASYN\n"
   ]
  },
  {
   "cell_type": "code",
   "execution_count": 2,
   "metadata": {},
   "outputs": [],
   "source": [
    "def asy1(estimator, X, y):\n",
    "    Penalty_1 = np.array([[-10,10], [1,0]])\n",
    "    answ = np.int64(estimator.predict(X))\n",
    "    return np.sum(Penalty_1[y, answ])\n",
    "    \n",
    "def asy2(estimator, X, y):\n",
    "    Penalty_2 = np.array([[-1,2], [1,-1]])\n",
    "    answ = np.int64(estimator.predict(X))\n",
    "    return np.sum(Penalty_2[y, answ])\n",
    "\n",
    "def num(estimator, X, y):\n",
    "    answ = np.int64(estimator.predict(X))\n",
    "    return np.sum(np.abs(answ - y) > 0)\n",
    "\n",
    "def _num(y1, y2):\n",
    "    return np.sum(np.abs(y1 - y2) > 0)\n",
    "\n",
    "def _acc(y1, y2):\n",
    "    return np.sum(y1 == y2)\n",
    "\n",
    "def _asy1(y1, y2):\n",
    "    Penalty_1 = np.array([[-10,10], [1,0]])\n",
    "    return np.sum(Penalty_1[y1, y2])\n",
    "\n",
    "def _asy2(y1, y2):\n",
    "    Penalty_2 = np.array([[-1,2], [1,-1]])\n",
    "    return np.sum(Penalty_2[y1, y2])\n",
    "\n"
   ]
  },
  {
   "cell_type": "code",
   "execution_count": 3,
   "metadata": {},
   "outputs": [],
   "source": [
    "def replace_outliers(X, alpha):\n",
    "    num_features = X.shape[1]\n",
    "    q_low = X.quantile(alpha, axis=0)\n",
    "    q_up = X.quantile(1 - alpha, axis=0)\n",
    "    X_new = X.values.copy()\n",
    "    for i in range(num_features):\n",
    "        median = X[i].median()\n",
    "        for j in range(X.shape[0]):\n",
    "            if X_new[j][i] < q_low[i] or X_new[j][i] > q_up[i]:\n",
    "                X_new[j][i] = median\n",
    "    return X_new\n",
    "        "
   ]
  },
  {
   "cell_type": "code",
   "execution_count": 4,
   "metadata": {},
   "outputs": [],
   "source": [
    "np.random.seed(0)"
   ]
  },
  {
   "cell_type": "code",
   "execution_count": 5,
   "metadata": {},
   "outputs": [],
   "source": [
    "X_train_load = pd.read_csv('./data/task1_7_learn_X.csv',header=None, sep=' ').as_matrix()\n",
    "y_train_load = np.reshape(np.int64(pd.read_csv('./data/task1_7_learn_y.csv',header=None, sep=' ').as_matrix()), -1)\n",
    "\n",
    "X_test_load = pd.read_csv('./data/task1_7_test_X.csv',header=None, sep=' ').as_matrix()"
   ]
  },
  {
   "cell_type": "code",
   "execution_count": 6,
   "metadata": {},
   "outputs": [],
   "source": [
    "# pd.DataFrame(X_train_load[np.where(y_train_load==0)]).describe()"
   ]
  },
  {
   "cell_type": "code",
   "execution_count": 7,
   "metadata": {},
   "outputs": [
    {
     "name": "stdout",
     "output_type": "stream",
     "text": [
      "(1000, 50)\n",
      "(1000,)\n",
      "(1000, 50)\n"
     ]
    }
   ],
   "source": [
    "print(X_train_load.shape)\n",
    "print(y_train_load.shape)\n",
    "print(X_test_load.shape)\n"
   ]
  },
  {
   "cell_type": "code",
   "execution_count": 8,
   "metadata": {},
   "outputs": [],
   "source": [
    "X_train_load = replace_outliers(pd.DataFrame(X_train_load), 0.0141)\n",
    "X_test_load = replace_outliers(pd.DataFrame(X_test_load), 0.0141)"
   ]
  },
  {
   "cell_type": "code",
   "execution_count": 9,
   "metadata": {},
   "outputs": [
    {
     "data": {
      "text/plain": [
       "SelectKBest(k=1, score_func=<function mutual_info_classif at 0x114bb6b70>)"
      ]
     },
     "execution_count": 9,
     "metadata": {},
     "output_type": "execute_result"
    }
   ],
   "source": [
    "# skb = SelectKBest(f_classif, k=1)\n",
    "skb = SelectKBest(mutual_info_classif, k=1)\n",
    "skb.fit(X_train_load, y_train_load)\n",
    "\n"
   ]
  },
  {
   "cell_type": "code",
   "execution_count": 10,
   "metadata": {},
   "outputs": [
    {
     "data": {
      "text/plain": [
       "[<matplotlib.lines.Line2D at 0x1152a3208>]"
      ]
     },
     "execution_count": 10,
     "metadata": {},
     "output_type": "execute_result"
    },
    {
     "data": {
      "image/png": "[encoded data removed]",
      "text/plain": [
       "<matplotlib.figure.Figure at 0x10837a320>"
      ]
     },
     "metadata": {},
     "output_type": "display_data"
    }
   ],
   "source": [
    "plt.plot(np.sort(skb.scores_)[::-1])"
   ]
  },
  {
   "cell_type": "code",
   "execution_count": 11,
   "metadata": {},
   "outputs": [
    {
     "data": {
      "text/plain": [
       "array([ 0.02270226,  0.01794864,  0.01761542,  0.01513723,  0.01478405,\n",
       "        0.01375589,  0.01283884,  0.01121076,  0.01078258,  0.0103892 ,\n",
       "        0.00942149,  0.0088377 ,  0.00862621,  0.00675646,  0.0061472 ,\n",
       "        0.0060464 ,  0.0057316 ,  0.00509225,  0.00351964,  0.00336401,\n",
       "        0.00331638])"
      ]
     },
     "execution_count": 11,
     "metadata": {},
     "output_type": "execute_result"
    }
   ],
   "source": [
    "np.sort(skb.scores_)[::-1][:21]"
   ]
  },
  {
   "cell_type": "code",
   "execution_count": 12,
   "metadata": {},
   "outputs": [],
   "source": [
    "skb.k = 21"
   ]
  },
  {
   "cell_type": "code",
   "execution_count": 13,
   "metadata": {},
   "outputs": [],
   "source": [
    "X = skb.transform(scale(np.vstack([X_train_load, X_test_load])))\n",
    "# X = skb.transform(np.vstack([X_train_load, X_test_load]))\n",
    "# X = (X - np.mean(X, axis=0))/np.std(X, axis=0)\n",
    "\n",
    "X_train = X[:X_train_load.shape[0]]\n",
    "X_test = X[X_train_load.shape[0]:]\n",
    "\n",
    "y_train = np.array(y_train_load)\n",
    "\n",
    "\n"
   ]
  },
  {
   "cell_type": "code",
   "execution_count": 14,
   "metadata": {},
   "outputs": [
    {
     "name": "stdout",
     "output_type": "stream",
     "text": [
      "(1000, 21)\n",
      "(1000,)\n",
      "(1000, 21)\n"
     ]
    }
   ],
   "source": [
    "print(X_train.shape)\n",
    "print(y_train.shape)\n",
    "print(X_test.shape)"
   ]
  },
  {
   "cell_type": "code",
   "execution_count": 15,
   "metadata": {},
   "outputs": [
    {
     "name": "stdout",
     "output_type": "stream",
     "text": [
      "-8590 -1000\n",
      "141\n"
     ]
    }
   ],
   "source": [
    "print(_asy1(y_train, y_train), _asy2(y_train, y_train))\n",
    "print(np.sum(y_train))"
   ]
  },
  {
   "cell_type": "code",
   "execution_count": 16,
   "metadata": {},
   "outputs": [],
   "source": [
    "X_train_new, y_train_new = SMOTE().fit_sample(X_train, y_train)\n",
    "X_test_new = np.array(X_test)"
   ]
  },
  {
   "cell_type": "code",
   "execution_count": 17,
   "metadata": {},
   "outputs": [
    {
     "name": "stdout",
     "output_type": "stream",
     "text": [
      "(1718, 21) (1000, 21)\n"
     ]
    }
   ],
   "source": [
    "print(X_train_new.shape, X_test_new.shape)"
   ]
  },
  {
   "cell_type": "code",
   "execution_count": 18,
   "metadata": {},
   "outputs": [
    {
     "name": "stdout",
     "output_type": "stream",
     "text": [
      "-8590 -1718\n",
      "859\n"
     ]
    }
   ],
   "source": [
    "print(_asy1(y_train_new, y_train_new), _asy2(y_train_new, y_train_new))\n",
    "print(np.sum(y_train_new))"
   ]
  },
  {
   "cell_type": "code",
   "execution_count": 19,
   "metadata": {},
   "outputs": [
    {
     "name": "stdout",
     "output_type": "stream",
     "text": [
      "ACC 0.725844004657\n",
      "AUC 0.788982234263\n",
      "NUM 471\n",
      "ASY1 -3464\n",
      "ASY2 -531\n"
     ]
    }
   ],
   "source": [
    "rho = 0.5\n",
    "Predict = cross_val_predict(estimator=naive_bayes.GaussianNB(), X=X_train_new, y=y_train_new, cv = 10, method='predict_proba')\n",
    "\n",
    "\n",
    "print('ACC', metrics.accuracy_score(y_train_new, np.int64(Predict[:,1]>rho)))\n",
    "print('AUC', metrics.roc_auc_score(y_train_new, Predict[:,1]))\n",
    "print('NUM', _num(y_train_new, np.int64(Predict[:,1]>rho)))\n",
    "print('ASY1', _asy1(y_train_new, np.int64(Predict[:,1]>rho)))\n",
    "print('ASY2', _asy2(y_train_new, np.int64(Predict[:,1]>rho)))\n",
    "\n",
    "Predict_For_AUC = naive_bayes.GaussianNB().fit(X_train_new, y_train_new).predict(X_test_new)\n",
    "Predict_For_NUM = naive_bayes.GaussianNB().fit(X_train_new, y_train_new).predict(X_test_new)\n",
    "\n",
    "\n"
   ]
  },
  {
   "cell_type": "code",
   "execution_count": 20,
   "metadata": {},
   "outputs": [
    {
     "name": "stdout",
     "output_type": "stream",
     "text": [
      "ACC 0.515133876601\n",
      "AUC 0.788982234263\n",
      "NUM 833\n",
      "ASY1 -7662\n",
      "ASY2 -47\n"
     ]
    }
   ],
   "source": [
    "rho = 0.9\n",
    "Predict = cross_val_predict(estimator=naive_bayes.GaussianNB(), X=X_train_new, y=y_train_new, cv = 10, method='predict_proba')\n",
    "\n",
    "\n",
    "print('ACC', metrics.accuracy_score(y_train_new, np.int64(Predict[:,1]>rho)))\n",
    "print('AUC', metrics.roc_auc_score(y_train_new, Predict[:,1]))\n",
    "print('NUM', _num(y_train_new, np.int64(Predict[:,1]>rho)))\n",
    "print('ASY1', _asy1(y_train_new, np.int64(Predict[:,1]>rho)))\n",
    "print('ASY2', _asy2(y_train_new, np.int64(Predict[:,1]>rho)))\n",
    "\n",
    "Predict_For_ASY1 = naive_bayes.GaussianNB().fit(X_train_new, y_train_new).predict(X_test_new)\n",
    "\n",
    "\n",
    "\n"
   ]
  },
  {
   "cell_type": "code",
   "execution_count": 21,
   "metadata": {},
   "outputs": [
    {
     "name": "stdout",
     "output_type": "stream",
     "text": [
      "ACC 0.706635622817\n",
      "AUC 0.788982234263\n",
      "NUM 504\n",
      "ASY1 -5749\n",
      "ASY2 -587\n"
     ]
    }
   ],
   "source": [
    "rho = 0.66\n",
    "Predict = cross_val_predict(estimator=naive_bayes.GaussianNB(), X=X_train_new, y=y_train_new, cv = 10, method='predict_proba')\n",
    "\n",
    "\n",
    "print('ACC', metrics.accuracy_score(y_train_new, np.int64(Predict[:,1]>rho)))\n",
    "print('AUC', metrics.roc_auc_score(y_train_new, Predict[:,1]))\n",
    "print('NUM', _num(y_train_new, np.int64(Predict[:,1]>rho)))\n",
    "print('ASY1', _asy1(y_train_new, np.int64(Predict[:,1]>rho)))\n",
    "print('ASY2', _asy2(y_train_new, np.int64(Predict[:,1]>rho)))\n",
    "\n",
    "Predict_For_ASY2 = naive_bayes.GaussianNB().fit(X_train_new, y_train_new).predict(X_test_new)\n",
    "\n"
   ]
  },
  {
   "cell_type": "code",
   "execution_count": 22,
   "metadata": {},
   "outputs": [],
   "source": [
    "pd.DataFrame(np.vstack([Predict_For_AUC, Predict_For_NUM, Predict_For_ASY1, Predict_For_ASY2]).T).to_csv('task1_7_answ.csv', sep = ',')\n"
   ]
  }
 ],
 "metadata": {
  "kernelspec": {
   "display_name": "Python 3",
   "language": "python",
   "name": "python3"
  },
  "language_info": {
   "codemirror_mode": {
    "name": "ipython",
    "version": 3
   },
   "file_extension": ".py",
   "mimetype": "text/x-python",
   "name": "python",
   "nbconvert_exporter": "python",
   "pygments_lexer": "ipython3",
   "version": "3.6.2"
  }
 },
 "nbformat": 4,
 "nbformat_minor": 2
}
